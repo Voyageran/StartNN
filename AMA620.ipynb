{
  "nbformat": 4,
  "nbformat_minor": 0,
  "metadata": {
    "colab": {
      "provenance": [],
      "authorship_tag": "ABX9TyNznPwDK1sYuAzVCeCu8icg",
      "include_colab_link": true
    },
    "kernelspec": {
      "name": "python3",
      "display_name": "Python 3"
    },
    "language_info": {
      "name": "python"
    }
  },
  "cells": [
    {
      "cell_type": "markdown",
      "metadata": {
        "id": "view-in-github",
        "colab_type": "text"
      },
      "source": [
        "<a href=\"https://colab.research.google.com/github/Voyageran/StartNN/blob/main/AMA620.ipynb\" target=\"_parent\"><img src=\"https://colab.research.google.com/assets/colab-badge.svg\" alt=\"Open In Colab\"/></a>"
      ]
    },
    {
      "cell_type": "markdown",
      "source": [
        "\n",
        "# Assignment 1\n",
        "---\n",
        "JIANG Ran 23036623R\n",
        "\n"
      ],
      "metadata": {
        "id": "-4FwZC2B4-5r"
      }
    },
    {
      "cell_type": "code",
      "source": [
        "from google.colab import drive\n",
        "drive.mount('/content/drive')"
      ],
      "metadata": {
        "colab": {
          "base_uri": "https://localhost:8080/"
        },
        "id": "FEYYD7ZWDfxy",
        "outputId": "322576f9-aec2-49a4-eeb3-885d7995f46e"
      },
      "execution_count": 1,
      "outputs": [
        {
          "output_type": "stream",
          "name": "stdout",
          "text": [
            "Mounted at /content/drive\n"
          ]
        }
      ]
    },
    {
      "cell_type": "code",
      "execution_count": 2,
      "metadata": {
        "id": "_xEKMU4047h5"
      },
      "outputs": [],
      "source": [
        "import torch\n",
        "import torchvision"
      ]
    },
    {
      "cell_type": "markdown",
      "source": [
        "## Basic Method"
      ],
      "metadata": {
        "id": "-LgKicWee7g9"
      }
    },
    {
      "cell_type": "markdown",
      "source": [
        "### Preparing the Dataset"
      ],
      "metadata": {
        "id": "P8nuMHEp5eDN"
      }
    },
    {
      "cell_type": "code",
      "source": [
        "n_epochs = 3\n",
        "batch_size_train = 64\n",
        "batch_size_test = 1000\n",
        "learning_rate = 0.01\n",
        "momentum = 0.5\n",
        "log_interval = 10\n",
        "\n",
        "random_seed = 1\n",
        "torch.backends.cudnn.enable = False\n",
        "torch.manual_seed(random_seed)"
      ],
      "metadata": {
        "colab": {
          "base_uri": "https://localhost:8080/"
        },
        "id": "5QcsayUX5ae-",
        "outputId": "9abf7b75-7d1d-4b85-8261-de80f7adc331"
      },
      "execution_count": 3,
      "outputs": [
        {
          "output_type": "execute_result",
          "data": {
            "text/plain": [
              "<torch._C.Generator at 0x7cd9835fae10>"
            ]
          },
          "metadata": {},
          "execution_count": 3
        }
      ]
    },
    {
      "cell_type": "code",
      "source": [
        "## Loading data\n",
        "train_loader = torch.utils.data.DataLoader(\n",
        "    torchvision.datasets.MNIST('/content/drive/MyDrive/assign1', train = True, download = False,\n",
        "                               transform=torchvision.transforms.Compose([\n",
        "                                   torchvision.transforms.ToTensor(),\n",
        "                                   torchvision.transforms.Normalize(\n",
        "                                       (0.1307, ), (0.3081,) #global mean, standard deviation of MNIST\n",
        "                                   )\n",
        "                                ]\n",
        "                                )\n",
        "                               ),\n",
        "    batch_size = batch_size_train, shuffle = True\n",
        ")\n",
        "\n",
        "test_loader = torch.utils.data.DataLoader(\n",
        "    torchvision.datasets.MNIST('/content/drive/MyDrive/assign1', train = False, download = False,\n",
        "                               transform=torchvision.transforms.Compose([\n",
        "                                   torchvision.transforms.ToTensor(),\n",
        "                                   torchvision.transforms.Normalize(\n",
        "                                       (0.1307, ), (0.3081,) #global mean, standard deviation of MNIST\n",
        "                                   )\n",
        "                                ]\n",
        "                                )\n",
        "                               ),\n",
        "    batch_size = batch_size_test, shuffle = True\n",
        ")"
      ],
      "metadata": {
        "id": "puPRvpOF__Vk"
      },
      "execution_count": 4,
      "outputs": []
    },
    {
      "cell_type": "code",
      "source": [
        "# Use test_loader\n",
        "examples = enumerate(test_loader)\n",
        "batch_idx, (example_data, example_targets) = next(examples)"
      ],
      "metadata": {
        "id": "yuHfXPbVFcRm"
      },
      "execution_count": 5,
      "outputs": []
    },
    {
      "cell_type": "code",
      "source": [
        "example_data.shape"
      ],
      "metadata": {
        "colab": {
          "base_uri": "https://localhost:8080/"
        },
        "id": "gd-d0BG6HIHh",
        "outputId": "33a32f56-b2d6-4a6b-98ec-e6090fb91b08"
      },
      "execution_count": 6,
      "outputs": [
        {
          "output_type": "execute_result",
          "data": {
            "text/plain": [
              "torch.Size([1000, 1, 28, 28])"
            ]
          },
          "metadata": {},
          "execution_count": 6
        }
      ]
    },
    {
      "cell_type": "code",
      "source": [
        "import matplotlib.pyplot as plt\n",
        "\n",
        "fig = plt.figure()\n",
        "for i in range(6):\n",
        "  plt.subplot(2,3,i+1)\n",
        "  plt.tight_layout()\n",
        "  plt.imshow(example_data[i][0], cmap = 'gray', interpolation='none')\n",
        "  plt.title(\"Ground Truth: {}\".format(example_targets[i]))\n",
        "  plt.xticks([])\n",
        "  plt.yticks([])\n",
        "\n",
        "# fig"
      ],
      "metadata": {
        "colab": {
          "base_uri": "https://localhost:8080/",
          "height": 438
        },
        "id": "aIvkdrZuHQ4l",
        "outputId": "c771501e-600a-4e07-c7e7-ba48e5ba9659"
      },
      "execution_count": 7,
      "outputs": [
        {
          "output_type": "display_data",
          "data": {
            "text/plain": [
              "<Figure size 640x480 with 6 Axes>"
            ],
            "image/png": "[encoded data removed]"
          },
          "metadata": {}
        }
      ]
    },
    {
      "cell_type": "markdown",
      "source": [
        "### Building the Network"
      ],
      "metadata": {
        "id": "5XEuZzOU49xm"
      }
    },
    {
      "cell_type": "code",
      "source": [
        "import torch.nn as nn\n",
        "import torch.nn.functional as F\n",
        "import torch.optim as optim"
      ],
      "metadata": {
        "id": "f0zIfMAJKOaZ"
      },
      "execution_count": 8,
      "outputs": []
    },
    {
      "cell_type": "code",
      "source": [
        "class Net(nn.Module):\n",
        "  def __init__(self):\n",
        "    super(Net,self).__init__()\n",
        "    self.conv1 = nn.Conv2d(1,10,kernel_size=5) # output_channels=10\n",
        "    self.conv2 = nn.Conv2d(10, 20, kernel_size=5)\n",
        "    self.conv2_drop = nn.Dropout2d()\n",
        "    self.fc1 = nn.Linear(320,50)\n",
        "    self.fc2 = nn.Linear(50,10)\n",
        "\n",
        "  def forward(self, X):\n",
        "    x = F.relu(F.max_pool2d(self.conv1(x), 2))\n",
        "    x = F.relu(F.max_pool2d(self.conv2_drop(self.conv2(x)),2))\n",
        "    x = x.view(-1, 320) # reshape to a row vector\n",
        "    x = F.relu(self.fc1(x))\n",
        "    x = F.dropout(x, training=self.training) # matually\n",
        "    x = self.fc2(x)\n",
        "    return F.log_softmax(x)"
      ],
      "metadata": {
        "id": "oILCVtkuLKhU"
      },
      "execution_count": 9,
      "outputs": []
    },
    {
      "cell_type": "code",
      "source": [
        "# instance\n",
        "network = Net()"
      ],
      "metadata": {
        "id": "lTVTFzPwSuv-"
      },
      "execution_count": 10,
      "outputs": []
    },
    {
      "cell_type": "code",
      "source": [
        "# initialize optimizer\n",
        "optimizer = optim.SGD(network.parameters(), lr=learning_rate,\n",
        "                      momentum = momentum) #learning_rate=0.01,momentum=0.5"
      ],
      "metadata": {
        "id": "W-giyDMccR5y"
      },
      "execution_count": 12,
      "outputs": []
    },
    {
      "cell_type": "markdown",
      "source": [
        "### Training the Model"
      ],
      "metadata": {
        "id": "mE7ggQf6eoty"
      }
    },
    {
      "cell_type": "code",
      "source": [
        "# keep track of the progress with some printouts\n",
        "train_losses = []\n",
        "train_counter = []\n",
        "test_losses = []\n",
        "test_counter = [i*len(train_loader.dataset) for i in range(n_epochs+1)]"
      ],
      "metadata": {
        "id": "dMWk5x3HekYS"
      },
      "execution_count": 18,
      "outputs": []
    },
    {
      "cell_type": "code",
      "source": [
        "def train(epoch):\n",
        "  network.train() # turn on the batch normalization and dropout\n",
        "  for batch_idx, (data, target) in enumerate(train_loader):\n",
        "    optimizer.zero_grad()\n",
        "    output = network(data)\n",
        "    # nn.CrossEntropyLoss(): log_softmax;\n",
        "    # F.cross_entropy(input, target) == F.nll_loss(torch.log(input), target)\n",
        "    loss = F.null_loss(output, target)\n",
        "    loss.backward()\n",
        "    optimizer.step() # update params\n",
        "    if batch_idx % log_interval == 0  #log_interval=10\n",
        "      print('Train Epoch: {}')\n"
      ],
      "metadata": {
        "id": "eg6s4F7chgJS"
      },
      "execution_count": 20,
      "outputs": []
    },
    {
      "cell_type": "code",
      "source": [
        "log_interval"
      ],
      "metadata": {
        "colab": {
          "base_uri": "https://localhost:8080/"
        },
        "id": "FtqtboRcjDNy",
        "outputId": "5a7f9baa-4301-4f81-8d1a-0c0a93003968"
      },
      "execution_count": 22,
      "outputs": [
        {
          "output_type": "execute_result",
          "data": {
            "text/plain": [
              "10"
            ]
          },
          "metadata": {},
          "execution_count": 22
        }
      ]
    }
  ]
}