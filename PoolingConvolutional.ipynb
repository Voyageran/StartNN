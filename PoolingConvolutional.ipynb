{
  "nbformat": 4,
  "nbformat_minor": 0,
  "metadata": {
    "colab": {
      "provenance": [],
      "authorship_tag": "ABX9TyMeeOLwurJlcK704GiP2ear",
      "include_colab_link": true
    },
    "kernelspec": {
      "name": "python3",
      "display_name": "Python 3"
    },
    "language_info": {
      "name": "python"
    }
  },
  "cells": [
    {
      "cell_type": "markdown",
      "metadata": {
        "id": "view-in-github",
        "colab_type": "text"
      },
      "source": [
        "<a href=\"https://colab.research.google.com/github/Voyageran/StartNN/blob/main/PoolingConvolutional.ipynb\" target=\"_parent\"><img src=\"https://colab.research.google.com/assets/colab-badge.svg\" alt=\"Open In Colab\"/></a>"
      ]
    },
    {
      "cell_type": "markdown",
      "source": [
        "# **Pooling Layers and Convolutional Layers**"
      ],
      "metadata": {
        "id": "H6llCsPx-3TV"
      }
    },
    {
      "cell_type": "markdown",
      "source": [
        "## **Pooling**"
      ],
      "metadata": {
        "id": "1Dv5O8-0_OR8"
      }
    },
    {
      "cell_type": "code",
      "execution_count": null,
      "metadata": {
        "id": "h8Rfmrzz-zpv"
      },
      "outputs": [],
      "source": []
    }
  ]
}