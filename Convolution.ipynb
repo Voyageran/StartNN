{
  "nbformat": 4,
  "nbformat_minor": 0,
  "metadata": {
    "colab": {
      "provenance": [],
      "machine_shape": "hm",
      "authorship_tag": "ABX9TyNmp95A4DpDY/jny/wmwq3l",
      "include_colab_link": true
    },
    "kernelspec": {
      "name": "python3",
      "display_name": "Python 3"
    },
    "language_info": {
      "name": "python"
    }
  },
  "cells": [
    {
      "cell_type": "markdown",
      "metadata": {
        "id": "view-in-github",
        "colab_type": "text"
      },
      "source": [
        "<a href=\"https://colab.research.google.com/github/Voyageran/StartNN/blob/main/Convolution.ipynb\" target=\"_parent\"><img src=\"https://colab.research.google.com/assets/colab-badge.svg\" alt=\"Open In Colab\"/></a>"
      ]
    },
    {
      "cell_type": "code",
      "execution_count": null,
      "metadata": {
        "colab": {
          "base_uri": "https://localhost:8080/"
        },
        "id": "kjSehYZBVxQK",
        "outputId": "e325e376-533c-492d-a56f-abde7a08a5a0"
      },
      "outputs": [
        {
          "output_type": "stream",
          "name": "stdout",
          "text": [
            "Mounted at /content/gdrive\n",
            "'/content/gdrive/MyDrive/Colab Notebooks/d2l' -> '/content/d2l'\n",
            "'/content/gdrive/MyDrive/Colab Notebooks/d2l/paddle.py' -> '/content/d2l/paddle.py'\n",
            "'/content/gdrive/MyDrive/Colab Notebooks/d2l/mxnet.py' -> '/content/d2l/mxnet.py'\n",
            "'/content/gdrive/MyDrive/Colab Notebooks/d2l/tensorflow.py' -> '/content/d2l/tensorflow.py'\n",
            "'/content/gdrive/MyDrive/Colab Notebooks/d2l/torch.py' -> '/content/d2l/torch.py'\n",
            "'/content/gdrive/MyDrive/Colab Notebooks/d2l/__init__.py' -> '/content/d2l/__init__.py'\n",
            "'/content/gdrive/MyDrive/Colab Notebooks/d2l/__pycache__' -> '/content/d2l/__pycache__'\n",
            "'/content/gdrive/MyDrive/Colab Notebooks/d2l/__pycache__/mxnet.cpython-310.pyc' -> '/content/d2l/__pycache__/mxnet.cpython-310.pyc'\n",
            "'/content/gdrive/MyDrive/Colab Notebooks/d2l/__pycache__/__init__.cpython-310.pyc' -> '/content/d2l/__pycache__/__init__.cpython-310.pyc'\n",
            "'/content/gdrive/MyDrive/Colab Notebooks/d2l/__pycache__/torch.cpython-310.pyc' -> '/content/d2l/__pycache__/torch.cpython-310.pyc'\n",
            "'/content/gdrive/MyDrive/Colab Notebooks/d2l/__pycache__/tensorflow.cpython-310.pyc' -> '/content/d2l/__pycache__/tensorflow.cpython-310.pyc'\n",
            "'/content/gdrive/MyDrive/Colab Notebooks/d2l/__pycache__/paddle.cpython-310.pyc' -> '/content/d2l/__pycache__/paddle.cpython-310.pyc'\n"
          ]
        }
      ],
      "source": [
        "import sys\n",
        "from google.colab import drive\n",
        "drive.mount('/content/gdrive')\n",
        "sys.path.insert(0,\"/content/content/notebooks/colabInstallPackage\")\n",
        "\n",
        "!cp -av '/content/gdrive/MyDrive/Colab Notebooks/d2l' '/content/'"
      ]
    },
    {
      "cell_type": "markdown",
      "source": [
        "# **Why 卷积？**"
      ],
      "metadata": {
        "id": "mVUgsSAKWv3k"
      }
    },
    {
      "cell_type": "markdown",
      "source": [
        "**Classification for cat and dog images**"
      ],
      "metadata": {
        "id": "l7TgkjyfWIYP"
      }
    },
    {
      "cell_type": "markdown",
      "source": [
        "为什么不用但隐藏层MLP？\n",
        "\n",
        "我们来做个假设。设我们收集到的图片是12M，RGB三个通道，所以36M，如果使用100神经元的单隐藏层MLP，那么模型有3.6B元素。这么多元素比世界上所有猫狗总和还多，不如直接把所有手动标记。"
      ],
      "metadata": {
        "id": "DCj9b7NYWO6u"
      }
    },
    {
      "cell_type": "markdown",
      "source": [
        "**遵循规则**：\n",
        "\n",
        "\n",
        "e.g.，在一张图片中用识别器找一个人\n",
        "1.   平移不变性：识别器在图片的每个位置都是一样的\n",
        "2.   局部性：可以只用看局部信息\n",
        "\n"
      ],
      "metadata": {
        "id": "hSxwkmwBXUtm"
      }
    },
    {
      "cell_type": "markdown",
      "source": [
        "# **卷积是特殊的全连接层**"
      ],
      "metadata": {
        "id": "rGd5jOQNXDXP"
      }
    },
    {
      "cell_type": "markdown",
      "source": [],
      "metadata": {
        "id": "pke79XT2aeLI"
      }
    },
    {
      "cell_type": "markdown",
      "source": [
        "**原则一：平移不变性**\n",
        "\n",
        "现在$h_{i,j} = \\sum_{a,b}v_{i,j,a,b}x_{i+a,j+b}$中，$v_{i,j,a,b}$依赖于$(i,j)$\n",
        "\n",
        "***Solution***:\n",
        "\n",
        "Let $v_{i,j,a,b} = v_{a,b}$, then\n",
        "$$\n",
        "h_{i,j} = \\sum_{a,b}v_{a,b} x_{i+a,j+b}\n",
        "$$\n",
        "这是2D交叉相关（DL叫卷积，不严谨）。不用存那么多权重。"
      ],
      "metadata": {
        "id": "Woq1fXX-IZKO"
      }
    },
    {
      "cell_type": "markdown",
      "source": [
        "**原则二：局部性**\n",
        "$$\n",
        "h_{i,j} = \\sum_{a,b}v_{a,b} x_{i+a,j+b}\n",
        "$$\n",
        "我们只想看部分。\n",
        "\n",
        "***Solution***:\n",
        "\n",
        "远离一定范围的时候，权重为0。写成公式为：\n",
        "$|a|,|b|> Δ$ such that $v_{a,b}=0$,\n",
        "$$\n",
        "h_{i,j} = \\sum_{a=-Δ}^{Δ}\\sum_{b=-Δ}^{Δ}x_{i+a,j+b}\n",
        "$$\n",
        "控制$a,b$的范围。"
      ],
      "metadata": {
        "id": "e12on1S6JQrI"
      }
    },
    {
      "cell_type": "code",
      "source": [],
      "metadata": {
        "id": "ZftCD1YsV8hM"
      },
      "execution_count": null,
      "outputs": []
    }
  ]
}