{
  "nbformat": 4,
  "nbformat_minor": 0,
  "metadata": {
    "colab": {
      "provenance": [],
      "authorship_tag": "ABX9TyPep5ptrsWDWULlFfSMjhrK",
      "include_colab_link": true
    },
    "kernelspec": {
      "name": "python3",
      "display_name": "Python 3"
    },
    "language_info": {
      "name": "python"
    }
  },
  "cells": [
    {
      "cell_type": "markdown",
      "metadata": {
        "id": "view-in-github",
        "colab_type": "text"
      },
      "source": [
        "<a href=\"https://colab.research.google.com/github/Voyageran/StartNN/blob/main/ResNet.ipynb\" target=\"_parent\"><img src=\"https://colab.research.google.com/assets/colab-badge.svg\" alt=\"Open In Colab\"/></a>"
      ]
    },
    {
      "cell_type": "code",
      "execution_count": 1,
      "metadata": {
        "colab": {
          "base_uri": "https://localhost:8080/"
        },
        "id": "a6WGP3p3V_dk",
        "outputId": "99a51aa2-0e33-48da-d0b4-56ec87cb6b6c"
      },
      "outputs": [
        {
          "output_type": "stream",
          "name": "stdout",
          "text": [
            "Mounted at /content/gdrive\n",
            "'/content/gdrive/MyDrive/Colab Notebooks/d2l' -> '/content/d2l'\n",
            "'/content/gdrive/MyDrive/Colab Notebooks/d2l/paddle.py' -> '/content/d2l/paddle.py'\n",
            "'/content/gdrive/MyDrive/Colab Notebooks/d2l/mxnet.py' -> '/content/d2l/mxnet.py'\n",
            "'/content/gdrive/MyDrive/Colab Notebooks/d2l/tensorflow.py' -> '/content/d2l/tensorflow.py'\n",
            "'/content/gdrive/MyDrive/Colab Notebooks/d2l/torch.py' -> '/content/d2l/torch.py'\n",
            "'/content/gdrive/MyDrive/Colab Notebooks/d2l/__init__.py' -> '/content/d2l/__init__.py'\n",
            "'/content/gdrive/MyDrive/Colab Notebooks/d2l/__pycache__' -> '/content/d2l/__pycache__'\n",
            "'/content/gdrive/MyDrive/Colab Notebooks/d2l/__pycache__/mxnet.cpython-310.pyc' -> '/content/d2l/__pycache__/mxnet.cpython-310.pyc'\n",
            "'/content/gdrive/MyDrive/Colab Notebooks/d2l/__pycache__/__init__.cpython-310.pyc' -> '/content/d2l/__pycache__/__init__.cpython-310.pyc'\n",
            "'/content/gdrive/MyDrive/Colab Notebooks/d2l/__pycache__/torch.cpython-310.pyc' -> '/content/d2l/__pycache__/torch.cpython-310.pyc'\n",
            "'/content/gdrive/MyDrive/Colab Notebooks/d2l/__pycache__/tensorflow.cpython-310.pyc' -> '/content/d2l/__pycache__/tensorflow.cpython-310.pyc'\n",
            "'/content/gdrive/MyDrive/Colab Notebooks/d2l/__pycache__/paddle.cpython-310.pyc' -> '/content/d2l/__pycache__/paddle.cpython-310.pyc'\n"
          ]
        }
      ],
      "source": [
        "import sys\n",
        "from google.colab import drive\n",
        "drive.mount('/content/gdrive')\n",
        "sys.path.insert(0,\"/content/content/notebooks/colabInstallPackage\")\n",
        "\n",
        "!cp -av '/content/gdrive/MyDrive/Colab Notebooks/d2l' '/content/'"
      ]
    },
    {
      "cell_type": "markdown",
      "source": [
        "ResNet"
      ],
      "metadata": {
        "id": "uvl2VuAfWSOw"
      }
    },
    {
      "cell_type": "markdown",
      "source": [
        "增加模型复杂度可能会跑偏，学到的模型要一点点逼近真正的模型，范围一点点往里面缩。"
      ],
      "metadata": {
        "id": "1NzxMipTWYc8"
      }
    },
    {
      "cell_type": "markdown",
      "source": [
        "残差块"
      ],
      "metadata": {
        "id": "koxZzzjGW4Ax"
      }
    },
    {
      "cell_type": "markdown",
      "source": [
        "串联一个层希望扩大函数类\n",
        "\n",
        "$f(x) = x + g(x)$"
      ],
      "metadata": {
        "id": "mV5PYUrwW6Xv"
      }
    },
    {
      "cell_type": "code",
      "source": [],
      "metadata": {
        "id": "3mHwN8I9WRRN"
      },
      "execution_count": null,
      "outputs": []
    },
    {
      "cell_type": "markdown",
      "source": [
        "但是ResNet不规则"
      ],
      "metadata": {
        "id": "cTb468AjWd5H"
      }
    }
  ]
}