{
  "nbformat": 4,
  "nbformat_minor": 0,
  "metadata": {
    "colab": {
      "provenance": [],
      "collapsed_sections": [
        "VJut-Rh0RbwF",
        "cZgIYVB2Rg-c",
        "fwMsmxyoleWi",
        "IPs_cGvhcpcA",
        "Ven2wTLOpSx7",
        "JRy4K8pU-odS",
        "D1u2RjaTDRZU",
        "vmgZKQcJZ-pW",
        "oofqg7zR70iF",
        "651mxfIbaz2b",
        "c9sLbxOxbUGL",
        "N6c9VFZ5j0AN",
        "YLGGvQ6zxITB"
      ],
      "mount_file_id": "10Uy9e1l2tvYojKfW1GlCmcILBc1X5TYQ",
      "authorship_tag": "ABX9TyORnVMhEI8b5OId7LZNy86Q",
      "include_colab_link": true
    },
    "kernelspec": {
      "name": "python3",
      "display_name": "Python 3"
    },
    "language_info": {
      "name": "python"
    }
  },
  "cells": [
    {
      "cell_type": "markdown",
      "metadata": {
        "id": "view-in-github",
        "colab_type": "text"
      },
      "source": [
        "<a href=\"https://colab.research.google.com/github/Voyageran/StartNN/blob/googleColab/pytorch_basic.ipynb\" target=\"_parent\"><img src=\"https://colab.research.google.com/assets/colab-badge.svg\" alt=\"Open In Colab\"/></a>"
      ]
    },
    {
      "cell_type": "code",
      "execution_count": 288,
      "metadata": {
        "id": "L7S_qBCwXzQf",
        "colab": {
          "base_uri": "https://localhost:8080/",
          "height": 0
        },
        "outputId": "7da92b38-0992-4cca-9f4a-923cbbe6cadf"
      },
      "outputs": [
        {
          "output_type": "stream",
          "name": "stdout",
          "text": [
            "Mounted at /content/drive\n"
          ]
        }
      ],
      "source": [
        "from google.colab import drive\n",
        "drive.mount('/content/drive')"
      ]
    },
    {
      "cell_type": "code",
      "source": [
        "import sys\n",
        "from google.colab import drive\n",
        "drive.mount('/content/gdrive')\n",
        "sys.path.insert(0,\"/content/content/notebooks/colabInstallPackage\")\n",
        "\n",
        "!cp -av '/content/gdrive/MyDrive/Colab Notebooks/d2l' '/content/'"
      ],
      "metadata": {
        "colab": {
          "base_uri": "https://localhost:8080/",
          "height": 0
        },
        "id": "YqrPlNpDhj1V",
        "outputId": "843a28f8-096b-4571-f797-360cac2993ea"
      },
      "execution_count": 289,
      "outputs": [
        {
          "output_type": "stream",
          "name": "stdout",
          "text": [
            "Mounted at /content/gdrive\n",
            "'/content/gdrive/MyDrive/Colab Notebooks/d2l/paddle.py' -> '/content/d2l/paddle.py'\n",
            "'/content/gdrive/MyDrive/Colab Notebooks/d2l/mxnet.py' -> '/content/d2l/mxnet.py'\n",
            "'/content/gdrive/MyDrive/Colab Notebooks/d2l/tensorflow.py' -> '/content/d2l/tensorflow.py'\n",
            "'/content/gdrive/MyDrive/Colab Notebooks/d2l/torch.py' -> '/content/d2l/torch.py'\n",
            "'/content/gdrive/MyDrive/Colab Notebooks/d2l/__init__.py' -> '/content/d2l/__init__.py'\n",
            "'/content/gdrive/MyDrive/Colab Notebooks/d2l/__pycache__/mxnet.cpython-310.pyc' -> '/content/d2l/__pycache__/mxnet.cpython-310.pyc'\n",
            "'/content/gdrive/MyDrive/Colab Notebooks/d2l/__pycache__/__init__.cpython-310.pyc' -> '/content/d2l/__pycache__/__init__.cpython-310.pyc'\n",
            "'/content/gdrive/MyDrive/Colab Notebooks/d2l/__pycache__/torch.cpython-310.pyc' -> '/content/d2l/__pycache__/torch.cpython-310.pyc'\n",
            "'/content/gdrive/MyDrive/Colab Notebooks/d2l/__pycache__/tensorflow.cpython-310.pyc' -> '/content/d2l/__pycache__/tensorflow.cpython-310.pyc'\n",
            "'/content/gdrive/MyDrive/Colab Notebooks/d2l/__pycache__/paddle.cpython-310.pyc' -> '/content/d2l/__pycache__/paddle.cpython-310.pyc'\n"
          ]
        }
      ]
    },
    {
      "cell_type": "code",
      "source": [
        "!python --version"
      ],
      "metadata": {
        "colab": {
          "base_uri": "https://localhost:8080/",
          "height": 0
        },
        "id": "OgPOU-Oanqk7",
        "outputId": "1eedcfa4-acda-472b-83d5-f68dffcf34ea"
      },
      "execution_count": 290,
      "outputs": [
        {
          "output_type": "stream",
          "name": "stdout",
          "text": [
            "Python 3.10.12\n"
          ]
        }
      ]
    },
    {
      "cell_type": "code",
      "source": [
        "# !sudo apt install python3.8"
      ],
      "metadata": {
        "id": "wxd4hutGDDMb"
      },
      "execution_count": 291,
      "outputs": []
    },
    {
      "cell_type": "markdown",
      "source": [
        "主要参考教材：李沐《动手学深度学习》"
      ],
      "metadata": {
        "id": "Alufefl4vtUz"
      }
    },
    {
      "cell_type": "markdown",
      "source": [
        "- Matplotlib examples: https://matplotlib.org/stable/gallery/index.html\n",
        "\n",
        "- Matplot functions: https://matplotlib.org/stable/api/matplotlib_configuration_api.html\n",
        "\n",
        "- Pytorch document: https://pytorch.org/docs/stable/nn.html"
      ],
      "metadata": {
        "id": "jegP7fbnDaOA"
      }
    },
    {
      "cell_type": "code",
      "source": [
        "help(torch.ones) #查找特定函数和类的用法"
      ],
      "metadata": {
        "colab": {
          "base_uri": "https://localhost:8080/",
          "height": 0
        },
        "id": "edQHt2NzfdVe",
        "outputId": "c9328dc9-03d0-46e5-86e2-f8ea9164ba0d"
      },
      "execution_count": 292,
      "outputs": [
        {
          "output_type": "stream",
          "name": "stdout",
          "text": [
            "Help on built-in function ones in module torch:\n",
            "\n",
            "ones(...)\n",
            "    ones(*size, *, out=None, dtype=None, layout=torch.strided, device=None, requires_grad=False) -> Tensor\n",
            "    \n",
            "    Returns a tensor filled with the scalar value `1`, with the shape defined\n",
            "    by the variable argument :attr:`size`.\n",
            "    \n",
            "    Args:\n",
            "        size (int...): a sequence of integers defining the shape of the output tensor.\n",
            "            Can be a variable number of arguments or a collection like a list or tuple.\n",
            "    \n",
            "    Keyword arguments:\n",
            "        out (Tensor, optional): the output tensor.\n",
            "        dtype (:class:`torch.dtype`, optional): the desired data type of returned tensor.\n",
            "            Default: if ``None``, uses a global default (see :func:`torch.set_default_tensor_type`).\n",
            "        layout (:class:`torch.layout`, optional): the desired layout of returned Tensor.\n",
            "            Default: ``torch.strided``.\n",
            "        device (:class:`torch.device`, optional): the desired device of returned tensor.\n",
            "            Default: if ``None``, uses the current device for the default tensor type\n",
            "            (see :func:`torch.set_default_tensor_type`). :attr:`device` will be the CPU\n",
            "            for CPU tensor types and the current CUDA device for CUDA tensor types.\n",
            "        requires_grad (bool, optional): If autograd should record operations on the\n",
            "            returned tensor. Default: ``False``.\n",
            "    \n",
            "    Example::\n",
            "    \n",
            "        >>> torch.ones(2, 3)\n",
            "        tensor([[ 1.,  1.,  1.],\n",
            "                [ 1.,  1.,  1.]])\n",
            "    \n",
            "        >>> torch.ones(5)\n",
            "        tensor([ 1.,  1.,  1.,  1.,  1.])\n",
            "\n"
          ]
        }
      ]
    },
    {
      "cell_type": "markdown",
      "source": [
        "# **Basic knowledges**"
      ],
      "metadata": {
        "id": "k7QiYeRQFSWH"
      }
    },
    {
      "cell_type": "markdown",
      "source": [
        "## 数组类型"
      ],
      "metadata": {
        "id": "VJut-Rh0RbwF"
      }
    },
    {
      "cell_type": "markdown",
      "source": [
        "无论使用哪个深度学习框架，它的张量类（在MXNet中为ndarray， 在PyTorch和TensorFlow中为Tensor）都与Numpy的ndarray类似。\n",
        "\n",
        "但深度学习框架又比Numpy的ndarray多一些重要功能： 首先，GPU很好地支持加速计算，而NumPy仅支持CPU计算； 其次，张量类支持自动微分。 这些功能使得张量类更适合深度学习。"
      ],
      "metadata": {
        "id": "yPL8dfS8K5_k"
      }
    },
    {
      "cell_type": "code",
      "source": [
        "import torch"
      ],
      "metadata": {
        "id": "aoZG4V2xLGPp"
      },
      "execution_count": 293,
      "outputs": []
    },
    {
      "cell_type": "code",
      "source": [
        "# Row vector  12*1 or (12,)\n",
        "x = torch.arange(12)\n",
        "x"
      ],
      "metadata": {
        "colab": {
          "base_uri": "https://localhost:8080/",
          "height": 0
        },
        "id": "0XemRxLeLLgK",
        "outputId": "24575a8b-4bc3-4eaa-805c-c5af1c8f949c"
      },
      "execution_count": 294,
      "outputs": [
        {
          "output_type": "execute_result",
          "data": {
            "text/plain": [
              "tensor([ 0,  1,  2,  3,  4,  5,  6,  7,  8,  9, 10, 11])"
            ]
          },
          "metadata": {},
          "execution_count": 294
        }
      ]
    },
    {
      "cell_type": "code",
      "source": [
        "x.shape"
      ],
      "metadata": {
        "colab": {
          "base_uri": "https://localhost:8080/",
          "height": 0
        },
        "id": "HorfL7ogLTVY",
        "outputId": "92ce935d-a000-4c4b-bd9d-df1350f09dd0"
      },
      "execution_count": 295,
      "outputs": [
        {
          "output_type": "execute_result",
          "data": {
            "text/plain": [
              "torch.Size([12])"
            ]
          },
          "metadata": {},
          "execution_count": 295
        }
      ]
    },
    {
      "cell_type": "code",
      "source": [
        "len(x)"
      ],
      "metadata": {
        "colab": {
          "base_uri": "https://localhost:8080/",
          "height": 0
        },
        "id": "YXiRuYyw6tyt",
        "outputId": "fe665c56-61b8-404e-bd71-3eb7f3995af4"
      },
      "execution_count": 296,
      "outputs": [
        {
          "output_type": "execute_result",
          "data": {
            "text/plain": [
              "12"
            ]
          },
          "metadata": {},
          "execution_count": 296
        }
      ]
    },
    {
      "cell_type": "code",
      "source": [
        "# Total number of elements\n",
        "# For x, 12*1*1 = 12\n",
        "x.numel()"
      ],
      "metadata": {
        "colab": {
          "base_uri": "https://localhost:8080/",
          "height": 0
        },
        "id": "_OhGJuivLZBf",
        "outputId": "c8fe658a-37a7-4c00-f6df-ded9af4efd4e"
      },
      "execution_count": 297,
      "outputs": [
        {
          "output_type": "execute_result",
          "data": {
            "text/plain": [
              "12"
            ]
          },
          "metadata": {},
          "execution_count": 297
        }
      ]
    },
    {
      "cell_type": "code",
      "source": [
        "y = torch.ones((3,3,2))\n",
        "y.numel()"
      ],
      "metadata": {
        "colab": {
          "base_uri": "https://localhost:8080/",
          "height": 0
        },
        "id": "rIhBcTBhL8fQ",
        "outputId": "b94a2f97-7daa-46b6-d868-39c4a07d320f"
      },
      "execution_count": 298,
      "outputs": [
        {
          "output_type": "execute_result",
          "data": {
            "text/plain": [
              "18"
            ]
          },
          "metadata": {},
          "execution_count": 298
        }
      ]
    },
    {
      "cell_type": "code",
      "source": [
        "# Reshap\n",
        "X = x.reshape(3,4)\n",
        "X"
      ],
      "metadata": {
        "colab": {
          "base_uri": "https://localhost:8080/",
          "height": 0
        },
        "id": "1YeK5tHRMQ1u",
        "outputId": "b4fa19ab-5a86-45e3-be55-6cf005ea7e78"
      },
      "execution_count": 299,
      "outputs": [
        {
          "output_type": "execute_result",
          "data": {
            "text/plain": [
              "tensor([[ 0,  1,  2,  3],\n",
              "        [ 4,  5,  6,  7],\n",
              "        [ 8,  9, 10, 11]])"
            ]
          },
          "metadata": {},
          "execution_count": 299
        }
      ]
    },
    {
      "cell_type": "code",
      "source": [
        "# Row vector to column vector\n",
        "# Note that torch.transpose() doesn't work on the 1-D array\n",
        "# For 2D array, torch.t(A) == torch.transpose(A,0,1)\n",
        "z = torch.arange(12)\n",
        "z.reshape(12,1)"
      ],
      "metadata": {
        "colab": {
          "base_uri": "https://localhost:8080/",
          "height": 0
        },
        "id": "t_WRYZL0MZAB",
        "outputId": "aaaba328-14c0-48d4-9e38-888f9ed1f8d3"
      },
      "execution_count": 300,
      "outputs": [
        {
          "output_type": "execute_result",
          "data": {
            "text/plain": [
              "tensor([[ 0],\n",
              "        [ 1],\n",
              "        [ 2],\n",
              "        [ 3],\n",
              "        [ 4],\n",
              "        [ 5],\n",
              "        [ 6],\n",
              "        [ 7],\n",
              "        [ 8],\n",
              "        [ 9],\n",
              "        [10],\n",
              "        [11]])"
            ]
          },
          "metadata": {},
          "execution_count": 300
        }
      ]
    },
    {
      "cell_type": "code",
      "source": [
        "# All 0/ 1 / random\n",
        "torch.zeros( (2,3,4) )"
      ],
      "metadata": {
        "colab": {
          "base_uri": "https://localhost:8080/",
          "height": 0
        },
        "id": "IQ27d_8KNgnG",
        "outputId": "6ee24207-c3e4-4894-a2c9-086e40f712cd"
      },
      "execution_count": 301,
      "outputs": [
        {
          "output_type": "execute_result",
          "data": {
            "text/plain": [
              "tensor([[[0., 0., 0., 0.],\n",
              "         [0., 0., 0., 0.],\n",
              "         [0., 0., 0., 0.]],\n",
              "\n",
              "        [[0., 0., 0., 0.],\n",
              "         [0., 0., 0., 0.],\n",
              "         [0., 0., 0., 0.]]])"
            ]
          },
          "metadata": {},
          "execution_count": 301
        }
      ]
    },
    {
      "cell_type": "code",
      "source": [
        "torch.ones( (2,3,4) )"
      ],
      "metadata": {
        "colab": {
          "base_uri": "https://localhost:8080/",
          "height": 0
        },
        "id": "LRYo4qeBNltG",
        "outputId": "07a7104e-337d-45ee-d7ec-ca5a45b33b81"
      },
      "execution_count": 302,
      "outputs": [
        {
          "output_type": "execute_result",
          "data": {
            "text/plain": [
              "tensor([[[1., 1., 1., 1.],\n",
              "         [1., 1., 1., 1.],\n",
              "         [1., 1., 1., 1.]],\n",
              "\n",
              "        [[1., 1., 1., 1.],\n",
              "         [1., 1., 1., 1.],\n",
              "         [1., 1., 1., 1.]]])"
            ]
          },
          "metadata": {},
          "execution_count": 302
        }
      ]
    },
    {
      "cell_type": "code",
      "source": [
        "torch.randn((2,3,4))"
      ],
      "metadata": {
        "colab": {
          "base_uri": "https://localhost:8080/",
          "height": 0
        },
        "id": "avOY5i2ZRMyv",
        "outputId": "0cd2ca8b-677d-47b0-e522-7ca4377f3e4d"
      },
      "execution_count": 303,
      "outputs": [
        {
          "output_type": "execute_result",
          "data": {
            "text/plain": [
              "tensor([[[-0.6639,  0.2067, -0.3326, -0.3973],\n",
              "         [ 0.1429, -0.8593,  0.5067,  2.2967],\n",
              "         [ 0.0274,  1.9157, -1.1023, -0.0690]],\n",
              "\n",
              "        [[ 0.1155, -0.3614,  0.5982, -0.2180],\n",
              "         [-0.5054,  0.8581,  1.0254,  0.7416],\n",
              "         [ 0.7202,  0.7448,  0.7921, -0.7384]]])"
            ]
          },
          "metadata": {},
          "execution_count": 303
        }
      ]
    },
    {
      "cell_type": "markdown",
      "source": [
        "我们还可以通过提供包含数值的Python列表（或嵌套列表），来为所需张量中的每个元素赋予确定值。 在这里，最外层的列表对应于轴0，内层的列表对应于轴1。"
      ],
      "metadata": {
        "id": "D75f-OCgRyEd"
      }
    },
    {
      "cell_type": "code",
      "source": [
        "# 自定义\n",
        "p = torch.tensor([[2,1,4,3], [1,2,3,4], [4,3,2,1]])\n",
        "p"
      ],
      "metadata": {
        "colab": {
          "base_uri": "https://localhost:8080/",
          "height": 0
        },
        "id": "R1ZOnwb5RRbg",
        "outputId": "2bb55e50-bf08-4e98-87ea-9b9e7a65c59c"
      },
      "execution_count": 304,
      "outputs": [
        {
          "output_type": "execute_result",
          "data": {
            "text/plain": [
              "tensor([[2, 1, 4, 3],\n",
              "        [1, 2, 3, 4],\n",
              "        [4, 3, 2, 1]])"
            ]
          },
          "metadata": {},
          "execution_count": 304
        }
      ]
    },
    {
      "cell_type": "code",
      "source": [
        "p.shape"
      ],
      "metadata": {
        "colab": {
          "base_uri": "https://localhost:8080/",
          "height": 0
        },
        "id": "fXqXfDEySBHw",
        "outputId": "c59e9158-97f0-47c5-8fc4-4d273f0f5023"
      },
      "execution_count": 305,
      "outputs": [
        {
          "output_type": "execute_result",
          "data": {
            "text/plain": [
              "torch.Size([3, 4])"
            ]
          },
          "metadata": {},
          "execution_count": 305
        }
      ]
    },
    {
      "cell_type": "code",
      "source": [
        "q = torch.tensor( [\n",
        "                 [[2,1,4,3], [1,2,3,4], [4,3,2,1]],\n",
        "                 [[2,1,4,3], [1,2,3,4], [4,3,2,1]]\n",
        "                  ] )\n",
        "q.shape\n",
        "#总之，()里面必须是列表，不能裸露把列表放进去"
      ],
      "metadata": {
        "colab": {
          "base_uri": "https://localhost:8080/",
          "height": 0
        },
        "id": "QGdNe7uSSQXZ",
        "outputId": "d9449eeb-a956-4cec-ddba-8b9b804f9028"
      },
      "execution_count": 306,
      "outputs": [
        {
          "output_type": "execute_result",
          "data": {
            "text/plain": [
              "torch.Size([2, 3, 4])"
            ]
          },
          "metadata": {},
          "execution_count": 306
        }
      ]
    },
    {
      "cell_type": "markdown",
      "source": [
        "## 运算符"
      ],
      "metadata": {
        "id": "cZgIYVB2Rg-c"
      }
    },
    {
      "cell_type": "markdown",
      "source": [
        "对于任意具有相同形状的张量， 常见的标准算术运算符（+、-、\\*、/和**）都可以被升级为按元素运算。"
      ],
      "metadata": {
        "id": "WV12ag3zXHU2"
      }
    },
    {
      "cell_type": "code",
      "source": [
        "x = torch.tensor([1.0,2,4,8])\n",
        "y = torch.tensor([2,2,2,2])\n",
        "x+y, x-y, x*y, x/y, x**y"
      ],
      "metadata": {
        "colab": {
          "base_uri": "https://localhost:8080/",
          "height": 0
        },
        "id": "8JUK35jzSqb2",
        "outputId": "1328a455-d4bd-40aa-9b8b-0039d38515ad"
      },
      "execution_count": 307,
      "outputs": [
        {
          "output_type": "execute_result",
          "data": {
            "text/plain": [
              "(tensor([ 3.,  4.,  6., 10.]),\n",
              " tensor([-1.,  0.,  2.,  6.]),\n",
              " tensor([ 2.,  4.,  8., 16.]),\n",
              " tensor([0.5000, 1.0000, 2.0000, 4.0000]),\n",
              " tensor([ 1.,  4., 16., 64.]))"
            ]
          },
          "metadata": {},
          "execution_count": 307
        }
      ]
    },
    {
      "cell_type": "code",
      "source": [
        "torch.exp(x)"
      ],
      "metadata": {
        "colab": {
          "base_uri": "https://localhost:8080/",
          "height": 0
        },
        "id": "8-sIevuBXQBU",
        "outputId": "1ec27143-4f97-401d-e534-329648741f39"
      },
      "execution_count": 308,
      "outputs": [
        {
          "output_type": "execute_result",
          "data": {
            "text/plain": [
              "tensor([2.7183e+00, 7.3891e+00, 5.4598e+01, 2.9810e+03])"
            ]
          },
          "metadata": {},
          "execution_count": 308
        }
      ]
    },
    {
      "cell_type": "markdown",
      "source": [
        "我们也可以把多个张量连结（concatenate）在一起， 把它们端对端地叠起来形成一个更大的张量。 我们只需要提供张量列表，并给出沿哪个轴连结。 下面的例子分别演示了当我们沿行（轴-0，形状的第一个元素） 和按列（轴-1，形状的第二个元素）连结两个矩阵时，会发生什么情况。\n",
        "\n",
        "第一个输出的tensor： 张量轴-0 长度 3+3 = 6；第二个输出的tensor： 张量轴-1 长度 4+4 = 8"
      ],
      "metadata": {
        "id": "EEHXmzUydVg8"
      }
    },
    {
      "cell_type": "code",
      "source": [
        "X = torch.arange(12, dtype = torch.float32).reshape((3,4))\n",
        "Y = torch.tensor([ [2.0,1,4,3], [1,2,3,4], [4,3,2,1] ])\n",
        "torch.cat((X,Y), dim=0), torch.cat( (X,Y), dim = 1 )"
      ],
      "metadata": {
        "colab": {
          "base_uri": "https://localhost:8080/",
          "height": 0
        },
        "id": "_6pW0W8RdPUG",
        "outputId": "bf24462b-70eb-4a3e-f68e-853a590714b2"
      },
      "execution_count": 309,
      "outputs": [
        {
          "output_type": "execute_result",
          "data": {
            "text/plain": [
              "(tensor([[ 0.,  1.,  2.,  3.],\n",
              "         [ 4.,  5.,  6.,  7.],\n",
              "         [ 8.,  9., 10., 11.],\n",
              "         [ 2.,  1.,  4.,  3.],\n",
              "         [ 1.,  2.,  3.,  4.],\n",
              "         [ 4.,  3.,  2.,  1.]]),\n",
              " tensor([[ 0.,  1.,  2.,  3.,  2.,  1.,  4.,  3.],\n",
              "         [ 4.,  5.,  6.,  7.,  1.,  2.,  3.,  4.],\n",
              "         [ 8.,  9., 10., 11.,  4.,  3.,  2.,  1.]]))"
            ]
          },
          "metadata": {},
          "execution_count": 309
        }
      ]
    },
    {
      "cell_type": "code",
      "source": [
        "# test whether the elements in a specific position in X and Y are the same value\n",
        "X == Y, X > Y, X < Y"
      ],
      "metadata": {
        "colab": {
          "base_uri": "https://localhost:8080/",
          "height": 0
        },
        "id": "EGp_jfDiktpp",
        "outputId": "e99301c7-c33e-4dab-e290-2152b8a25a87"
      },
      "execution_count": 310,
      "outputs": [
        {
          "output_type": "execute_result",
          "data": {
            "text/plain": [
              "(tensor([[False,  True, False,  True],\n",
              "         [False, False, False, False],\n",
              "         [False, False, False, False]]),\n",
              " tensor([[False, False, False, False],\n",
              "         [ True,  True,  True,  True],\n",
              "         [ True,  True,  True,  True]]),\n",
              " tensor([[ True, False,  True, False],\n",
              "         [False, False, False, False],\n",
              "         [False, False, False, False]]))"
            ]
          },
          "metadata": {},
          "execution_count": 310
        }
      ]
    },
    {
      "cell_type": "code",
      "source": [
        "# The sum of all the elements in a tensor\n",
        "X.sum()"
      ],
      "metadata": {
        "colab": {
          "base_uri": "https://localhost:8080/",
          "height": 0
        },
        "id": "fI4F2XMelDWO",
        "outputId": "fc4a08f6-f19d-4b7c-8d0a-326df85404eb"
      },
      "execution_count": 311,
      "outputs": [
        {
          "output_type": "execute_result",
          "data": {
            "text/plain": [
              "tensor(66.)"
            ]
          },
          "metadata": {},
          "execution_count": 311
        }
      ]
    },
    {
      "cell_type": "code",
      "source": [
        "K = torch.ones([3,3,2])\n",
        "K.sum()"
      ],
      "metadata": {
        "colab": {
          "base_uri": "https://localhost:8080/",
          "height": 0
        },
        "id": "2S03AuValPkv",
        "outputId": "084af1b4-73c6-49b4-e3ef-980a27a60fee"
      },
      "execution_count": 312,
      "outputs": [
        {
          "output_type": "execute_result",
          "data": {
            "text/plain": [
              "tensor(18.)"
            ]
          },
          "metadata": {},
          "execution_count": 312
        }
      ]
    },
    {
      "cell_type": "markdown",
      "source": [
        "## **广播机制(broadcasting mechanism)**"
      ],
      "metadata": {
        "id": "fwMsmxyoleWi"
      }
    },
    {
      "cell_type": "markdown",
      "source": [
        "在上面的部分中，我们看到了如何在相同形状的两个张量上执行按元素操作。 在某些情况下，即使形状不同，我们仍然可以通过调用 广播机制（broadcasting mechanism）来执行按元素操作。 这种机制的工作方式如下：\n",
        "\n",
        "1.   通过适当复制元素来扩展一个或两个数组，以便在转换之后，两个张量具有相同的形状；\n",
        "2.   对生成的数组执行按元素操作。\n",
        "\n",
        "在大多数情况下，我们将沿着数组中长度为1的轴进行广播，如下例子："
      ],
      "metadata": {
        "id": "d7SRx0Lpo7TG"
      }
    },
    {
      "cell_type": "code",
      "source": [
        "a = torch.arange(3).reshape((3, 1))\n",
        "b = torch.arange(2).reshape((1, 2))\n",
        "a, b"
      ],
      "metadata": {
        "colab": {
          "base_uri": "https://localhost:8080/",
          "height": 0
        },
        "id": "y_iqIvKBlg8a",
        "outputId": "6454c4a0-17a1-48de-cc31-785f07250bea"
      },
      "execution_count": 313,
      "outputs": [
        {
          "output_type": "execute_result",
          "data": {
            "text/plain": [
              "(tensor([[0],\n",
              "         [1],\n",
              "         [2]]),\n",
              " tensor([[0, 1]]))"
            ]
          },
          "metadata": {},
          "execution_count": 313
        }
      ]
    },
    {
      "cell_type": "code",
      "source": [
        "a + b"
      ],
      "metadata": {
        "colab": {
          "base_uri": "https://localhost:8080/",
          "height": 0
        },
        "id": "BxzmDqgJo1Jm",
        "outputId": "3adfbcc8-e61e-41fc-a710-3b544b5306e0"
      },
      "execution_count": 314,
      "outputs": [
        {
          "output_type": "execute_result",
          "data": {
            "text/plain": [
              "tensor([[0, 1],\n",
              "        [1, 2],\n",
              "        [2, 3]])"
            ]
          },
          "metadata": {},
          "execution_count": 314
        }
      ]
    },
    {
      "cell_type": "markdown",
      "source": [
        "## **张量算法的基本性质**"
      ],
      "metadata": {
        "id": "IPs_cGvhcpcA"
      }
    },
    {
      "cell_type": "markdown",
      "source": [
        "### **Dimension Reduction**"
      ],
      "metadata": {
        "id": "lGwbMBZle6HN"
      }
    },
    {
      "cell_type": "code",
      "source": [
        "x = torch.arange(4, dtype = torch.float32)\n",
        "x, x.sum()"
      ],
      "metadata": {
        "colab": {
          "base_uri": "https://localhost:8080/",
          "height": 0
        },
        "id": "lKvA8zIEewNo",
        "outputId": "c53c6f4b-ca74-441d-b800-2b5e02e13de6"
      },
      "execution_count": 315,
      "outputs": [
        {
          "output_type": "execute_result",
          "data": {
            "text/plain": [
              "(tensor([0., 1., 2., 3.]), tensor(6.))"
            ]
          },
          "metadata": {},
          "execution_count": 315
        }
      ]
    },
    {
      "cell_type": "code",
      "source": [
        "A = torch.arange(20, dtype = torch.float32).reshape(5,4)\n",
        "A, A.shape, A.sum() #sum all the elements"
      ],
      "metadata": {
        "colab": {
          "base_uri": "https://localhost:8080/",
          "height": 0
        },
        "id": "5W8m3gsTfSPC",
        "outputId": "f918aeab-5ce1-4eea-e142-35016327a5f5"
      },
      "execution_count": 316,
      "outputs": [
        {
          "output_type": "execute_result",
          "data": {
            "text/plain": [
              "(tensor([[ 0.,  1.,  2.,  3.],\n",
              "         [ 4.,  5.,  6.,  7.],\n",
              "         [ 8.,  9., 10., 11.],\n",
              "         [12., 13., 14., 15.],\n",
              "         [16., 17., 18., 19.]]),\n",
              " torch.Size([5, 4]),\n",
              " tensor(190.))"
            ]
          },
          "metadata": {},
          "execution_count": 316
        }
      ]
    },
    {
      "cell_type": "code",
      "source": [
        "# sum all rows [5,4] -> [1,4]\n",
        "A_sum_axis0 = A.sum(axis = 0)\n",
        "A_sum_axis0, A"
      ],
      "metadata": {
        "colab": {
          "base_uri": "https://localhost:8080/",
          "height": 0
        },
        "id": "7Tl36qMUfcsl",
        "outputId": "d376217e-b76a-4493-924d-a9de6f62a67a"
      },
      "execution_count": 317,
      "outputs": [
        {
          "output_type": "execute_result",
          "data": {
            "text/plain": [
              "(tensor([40., 45., 50., 55.]),\n",
              " tensor([[ 0.,  1.,  2.,  3.],\n",
              "         [ 4.,  5.,  6.,  7.],\n",
              "         [ 8.,  9., 10., 11.],\n",
              "         [12., 13., 14., 15.],\n",
              "         [16., 17., 18., 19.]]))"
            ]
          },
          "metadata": {},
          "execution_count": 317
        }
      ]
    },
    {
      "cell_type": "code",
      "source": [
        "A, A.sum(axis=[0,1])"
      ],
      "metadata": {
        "colab": {
          "base_uri": "https://localhost:8080/",
          "height": 0
        },
        "id": "nDs6Fr4W0Vqn",
        "outputId": "1cb4b17f-cbb8-4f4d-cb1f-dbe3893eaf10"
      },
      "execution_count": 318,
      "outputs": [
        {
          "output_type": "execute_result",
          "data": {
            "text/plain": [
              "(tensor([[ 0.,  1.,  2.,  3.],\n",
              "         [ 4.,  5.,  6.,  7.],\n",
              "         [ 8.,  9., 10., 11.],\n",
              "         [12., 13., 14., 15.],\n",
              "         [16., 17., 18., 19.]]),\n",
              " tensor(190.))"
            ]
          },
          "metadata": {},
          "execution_count": 318
        }
      ]
    },
    {
      "cell_type": "code",
      "source": [
        "# sum all columns [5,4] -> [5,1]\n",
        "A_sum_axis1 = A.sum(axis = 1)\n",
        "A_sum_axis1, A"
      ],
      "metadata": {
        "colab": {
          "base_uri": "https://localhost:8080/",
          "height": 0
        },
        "id": "CL4T4mXFfZfW",
        "outputId": "b35832b5-7e8c-4422-a07f-279399bd0a21"
      },
      "execution_count": 319,
      "outputs": [
        {
          "output_type": "execute_result",
          "data": {
            "text/plain": [
              "(tensor([ 6., 22., 38., 54., 70.]),\n",
              " tensor([[ 0.,  1.,  2.,  3.],\n",
              "         [ 4.,  5.,  6.,  7.],\n",
              "         [ 8.,  9., 10., 11.],\n",
              "         [12., 13., 14., 15.],\n",
              "         [16., 17., 18., 19.]]))"
            ]
          },
          "metadata": {},
          "execution_count": 319
        }
      ]
    },
    {
      "cell_type": "code",
      "source": [
        "A.mean(), A.sum() / A.numel(), A.shape"
      ],
      "metadata": {
        "colab": {
          "base_uri": "https://localhost:8080/",
          "height": 0
        },
        "id": "esmZuKk91MQO",
        "outputId": "6da05f26-a061-4e1b-9e6d-329a25ba2f84"
      },
      "execution_count": 320,
      "outputs": [
        {
          "output_type": "execute_result",
          "data": {
            "text/plain": [
              "(tensor(9.5000), tensor(9.5000), torch.Size([5, 4]))"
            ]
          },
          "metadata": {},
          "execution_count": 320
        }
      ]
    },
    {
      "cell_type": "code",
      "source": [
        "# A - 5*4\n",
        "A.mean(axis=0), A.sum(axis=0) / A.shape[0], A.shape[0]"
      ],
      "metadata": {
        "colab": {
          "base_uri": "https://localhost:8080/",
          "height": 0
        },
        "id": "LzCEuWFigsUy",
        "outputId": "b061151e-2a27-4d37-b8b6-e593ac927afd"
      },
      "execution_count": 321,
      "outputs": [
        {
          "output_type": "execute_result",
          "data": {
            "text/plain": [
              "(tensor([ 8.,  9., 10., 11.]), tensor([ 8.,  9., 10., 11.]), 5)"
            ]
          },
          "metadata": {},
          "execution_count": 321
        }
      ]
    },
    {
      "cell_type": "markdown",
      "source": [
        "### **非降维求和**"
      ],
      "metadata": {
        "id": "uE7SCRLfhCaD"
      }
    },
    {
      "cell_type": "markdown",
      "source": [
        "有时在调用函数来计算总和或均值时保持轴数不变会很有用。"
      ],
      "metadata": {
        "id": "J68dW7R8lAL2"
      }
    },
    {
      "cell_type": "code",
      "source": [
        "sum_A = A.sum(axis = 1, keepdims = True)\n",
        "A, A.shape, sum_A, sum_A.shape, A.sum(axis = 1), A.sum(axis = 1).shape"
      ],
      "metadata": {
        "colab": {
          "base_uri": "https://localhost:8080/",
          "height": 0
        },
        "id": "gVlVfgvsg3LW",
        "outputId": "619dc4ba-85bf-4b3a-dba0-35e11b59568a"
      },
      "execution_count": 322,
      "outputs": [
        {
          "output_type": "execute_result",
          "data": {
            "text/plain": [
              "(tensor([[ 0.,  1.,  2.,  3.],\n",
              "         [ 4.,  5.,  6.,  7.],\n",
              "         [ 8.,  9., 10., 11.],\n",
              "         [12., 13., 14., 15.],\n",
              "         [16., 17., 18., 19.]]),\n",
              " torch.Size([5, 4]),\n",
              " tensor([[ 6.],\n",
              "         [22.],\n",
              "         [38.],\n",
              "         [54.],\n",
              "         [70.]]),\n",
              " torch.Size([5, 1]),\n",
              " tensor([ 6., 22., 38., 54., 70.]),\n",
              " torch.Size([5]))"
            ]
          },
          "metadata": {},
          "execution_count": 322
        }
      ]
    },
    {
      "cell_type": "code",
      "source": [
        "# 广播\n",
        "A / sum(A)"
      ],
      "metadata": {
        "colab": {
          "base_uri": "https://localhost:8080/",
          "height": 0
        },
        "id": "S2WCczXylKi5",
        "outputId": "70ad58b3-c7f9-422f-a983-615d03ff5da6"
      },
      "execution_count": 323,
      "outputs": [
        {
          "output_type": "execute_result",
          "data": {
            "text/plain": [
              "tensor([[0.0000, 0.0222, 0.0400, 0.0545],\n",
              "        [0.1000, 0.1111, 0.1200, 0.1273],\n",
              "        [0.2000, 0.2000, 0.2000, 0.2000],\n",
              "        [0.3000, 0.2889, 0.2800, 0.2727],\n",
              "        [0.4000, 0.3778, 0.3600, 0.3455]])"
            ]
          },
          "metadata": {},
          "execution_count": 323
        }
      ]
    },
    {
      "cell_type": "markdown",
      "source": [
        "如果我们想沿某个轴计算A元素的累积总和， 比如axis=0（按行计算），可以调用cumsum函数。 此函数不会沿任何轴降低输入张量的维度。"
      ],
      "metadata": {
        "id": "0Rn9GQ7jl6W9"
      }
    },
    {
      "cell_type": "markdown",
      "source": [
        "## **索引和切片**"
      ],
      "metadata": {
        "id": "Ven2wTLOpSx7"
      }
    },
    {
      "cell_type": "markdown",
      "source": [
        "与任何Python数组一样：第一个元素的索引是0，最后一个元素索引是-1。\n",
        "\n",
        "e.g., [m:n] == (m+1):n\n",
        "\n",
        "从0开始数，包括头，但是不包括尾\n",
        "\n",
        "我们可以用[-1]选择最后一个元素，可以用[1:3]选择第二个和第三个元素"
      ],
      "metadata": {
        "id": "SPSSmMLFpYaS"
      }
    },
    {
      "cell_type": "code",
      "source": [
        "X"
      ],
      "metadata": {
        "colab": {
          "base_uri": "https://localhost:8080/",
          "height": 0
        },
        "id": "Fb-scBNfp5Nm",
        "outputId": "e404b13b-3d66-4135-9d13-f56644af8d02"
      },
      "execution_count": 324,
      "outputs": [
        {
          "output_type": "execute_result",
          "data": {
            "text/plain": [
              "tensor([[ 0.,  1.,  2.,  3.],\n",
              "        [ 4.,  5.,  6.,  7.],\n",
              "        [ 8.,  9., 10., 11.]])"
            ]
          },
          "metadata": {},
          "execution_count": 324
        }
      ]
    },
    {
      "cell_type": "code",
      "source": [
        "X[-1], X[1:3]"
      ],
      "metadata": {
        "colab": {
          "base_uri": "https://localhost:8080/",
          "height": 0
        },
        "id": "J4P_P9UDp6KI",
        "outputId": "e427cd79-c0bf-4093-c024-1e909b353b2f"
      },
      "execution_count": 325,
      "outputs": [
        {
          "output_type": "execute_result",
          "data": {
            "text/plain": [
              "(tensor([ 8.,  9., 10., 11.]),\n",
              " tensor([[ 4.,  5.,  6.,  7.],\n",
              "         [ 8.,  9., 10., 11.]]))"
            ]
          },
          "metadata": {},
          "execution_count": 325
        }
      ]
    },
    {
      "cell_type": "code",
      "source": [
        "# Write elements by index\n",
        "X[1,2] = 9\n",
        "X"
      ],
      "metadata": {
        "colab": {
          "base_uri": "https://localhost:8080/",
          "height": 0
        },
        "id": "doBg992fqNIV",
        "outputId": "21055686-245c-4387-8d54-c6b4c61ee46f"
      },
      "execution_count": 326,
      "outputs": [
        {
          "output_type": "execute_result",
          "data": {
            "text/plain": [
              "tensor([[ 0.,  1.,  2.,  3.],\n",
              "        [ 4.,  5.,  9.,  7.],\n",
              "        [ 8.,  9., 10., 11.]])"
            ]
          },
          "metadata": {},
          "execution_count": 326
        }
      ]
    },
    {
      "cell_type": "markdown",
      "source": [
        "如果我们想为多个元素赋值相同的值，我们只需要索引所有元素，然后为它们赋值。"
      ],
      "metadata": {
        "id": "D0HkkJm6qafx"
      }
    },
    {
      "cell_type": "code",
      "source": [
        "X[0:2, :]=12\n",
        "X"
      ],
      "metadata": {
        "colab": {
          "base_uri": "https://localhost:8080/",
          "height": 0
        },
        "id": "mr0Id0RdqWL4",
        "outputId": "5d8e7538-58d0-4d8a-9898-322d6be11dbe"
      },
      "execution_count": 327,
      "outputs": [
        {
          "output_type": "execute_result",
          "data": {
            "text/plain": [
              "tensor([[12., 12., 12., 12.],\n",
              "        [12., 12., 12., 12.],\n",
              "        [ 8.,  9., 10., 11.]])"
            ]
          },
          "metadata": {},
          "execution_count": 327
        }
      ]
    },
    {
      "cell_type": "markdown",
      "source": [
        "## **节省内存**"
      ],
      "metadata": {
        "id": "JRy4K8pU-odS"
      }
    },
    {
      "cell_type": "markdown",
      "source": [
        "运行一些操作可能会导致为新结果分配内存。 例如，如果我们用Y = X + Y，我们将取消引用Y指向的张量，而是指向新分配的内存处的张量。\n",
        "\n",
        "在下面的例子中，我们用Python的id()函数演示了这一点， 它给我们提供了内存中引用对象的确切地址。 运行Y = Y + X后，我们会发现id(Y)指向另一个位置。 这是因为Python首先计算Y + X，为结果分配新的内存，然后使Y指向内存中的这个新位置。"
      ],
      "metadata": {
        "id": "JrC64es2-4ba"
      }
    },
    {
      "cell_type": "code",
      "source": [
        "before = id(Y)\n",
        "Y = Y + X\n",
        "# id(Y) == before\n",
        "before, id(Y), id(Y) == before"
      ],
      "metadata": {
        "colab": {
          "base_uri": "https://localhost:8080/",
          "height": 0
        },
        "id": "Rpy2momv-iMH",
        "outputId": "81064d2e-a499-41c6-fcc9-c2d6245fc1cf"
      },
      "execution_count": 328,
      "outputs": [
        {
          "output_type": "execute_result",
          "data": {
            "text/plain": [
              "(139847668251632, 139847668241312, False)"
            ]
          },
          "metadata": {},
          "execution_count": 328
        }
      ]
    },
    {
      "cell_type": "markdown",
      "source": [
        "这可能是不可取的，原因有两个：\n",
        "\n",
        "\n",
        "\n",
        "1.   首先，我们不想总是不必要地分配内存。在机器学习中，我们可能有数百兆的参数，并且在一秒内多次更新所有参数。通常情况下，我们希望原地执行这些更新；\n",
        "2.   如果我们不原地更新，其他引用仍然会指向旧的内存位置，这样我们的某些代码可能会无意中引用旧的参数"
      ],
      "metadata": {
        "id": "Q_Jn8A1W_Vzk"
      }
    },
    {
      "cell_type": "markdown",
      "source": [
        "我们可以使用切片表示法将操作的结果分配给先前分配的数组，例如$Y[:] = <expression>$。 为了说明这一点，我们首先创建一个新的矩阵Z，其形状与另一个Y相同， 使用zeros_like来分配一个全0的块。"
      ],
      "metadata": {
        "id": "nRr1XH15CXsp"
      }
    },
    {
      "cell_type": "code",
      "source": [
        "Z = torch.zeros_like(Y)\n",
        "print('id(Z):', id(Z))\n",
        "Z[:] = X + Y\n",
        "print('id(Z):', id(Z))"
      ],
      "metadata": {
        "colab": {
          "base_uri": "https://localhost:8080/",
          "height": 0
        },
        "id": "dPsQisLpCdUw",
        "outputId": "a2d7047a-3e38-4e2f-c822-4ccd475449c8"
      },
      "execution_count": 329,
      "outputs": [
        {
          "output_type": "stream",
          "name": "stdout",
          "text": [
            "id(Z): 139847668270160\n",
            "id(Z): 139847668270160\n"
          ]
        }
      ]
    },
    {
      "cell_type": "code",
      "source": [
        "before = id(X)\n",
        "X += Y\n",
        "id(X) == before"
      ],
      "metadata": {
        "colab": {
          "base_uri": "https://localhost:8080/",
          "height": 0
        },
        "id": "TSgsT6KYCdSM",
        "outputId": "6c9c31e8-4628-4ab9-b71e-b77903143d2a"
      },
      "execution_count": 330,
      "outputs": [
        {
          "output_type": "execute_result",
          "data": {
            "text/plain": [
              "True"
            ]
          },
          "metadata": {},
          "execution_count": 330
        }
      ]
    },
    {
      "cell_type": "markdown",
      "source": [
        "## **转换为其他Python对象**"
      ],
      "metadata": {
        "id": "D1u2RjaTDRZU"
      }
    },
    {
      "cell_type": "markdown",
      "source": [
        "将深度学习框架定义的张量与NumPy张量（ndarray）互相转化。\n",
        "\n",
        "torch张量和numpy数组将共享它们的底层内存，就地操作更改一个张量也会同时更改另一个张量。"
      ],
      "metadata": {
        "id": "ypLrNr1ZDWbL"
      }
    },
    {
      "cell_type": "code",
      "source": [
        "A = X.numpy()\n",
        "B = torch.tensor(A)\n",
        "type(A), type(B)"
      ],
      "metadata": {
        "colab": {
          "base_uri": "https://localhost:8080/",
          "height": 0
        },
        "id": "tPU_9UcyCaiU",
        "outputId": "20ec9a68-23f2-40c8-998f-f6884a1213a5"
      },
      "execution_count": 331,
      "outputs": [
        {
          "output_type": "execute_result",
          "data": {
            "text/plain": [
              "(numpy.ndarray, torch.Tensor)"
            ]
          },
          "metadata": {},
          "execution_count": 331
        }
      ]
    },
    {
      "cell_type": "code",
      "source": [
        "# 将大小为1的张量转换为Python标量\n",
        "a = torch.tensor([3.5])\n",
        "a, a.item(), float(a), int(a)"
      ],
      "metadata": {
        "colab": {
          "base_uri": "https://localhost:8080/",
          "height": 0
        },
        "id": "xAgYhOLKDoS6",
        "outputId": "446dbf80-d439-4e6b-9223-72f439caf502"
      },
      "execution_count": 332,
      "outputs": [
        {
          "output_type": "execute_result",
          "data": {
            "text/plain": [
              "(tensor([3.5000]), 3.5, 3.5, 3)"
            ]
          },
          "metadata": {},
          "execution_count": 332
        }
      ]
    },
    {
      "cell_type": "markdown",
      "source": [
        "## **Data Preprocessing**"
      ],
      "metadata": {
        "id": "ODsL1oQp7Cft"
      }
    },
    {
      "cell_type": "markdown",
      "source": [
        "### **Read datasets**"
      ],
      "metadata": {
        "id": "vmgZKQcJZ-pW"
      }
    },
    {
      "cell_type": "markdown",
      "source": [
        "创建一个人工数据集，并存储在CSV（逗号分隔值）文件 ../data/house_tiny.csv中。"
      ],
      "metadata": {
        "id": "87w8g1MyaPGy"
      }
    },
    {
      "cell_type": "code",
      "source": [
        "import os\n",
        "\n",
        "os.makedirs(os.path.join('..','data'), exist_ok = True)\n",
        "data_file = os.path.join('..', 'data', 'house_tiny.csv')\n",
        "with open(data_file, 'w') as f:\n",
        "    f.write('NumRooms, Alley, Price \\n')\n",
        "    f.write('NA, Pave, 127500 \\n')\n",
        "    f.write('2,NA,106000\\n')\n",
        "    f.write('4,NA,178100\\n')\n",
        "    f.write('NA,NA,140000\\n')"
      ],
      "metadata": {
        "id": "T698eSLCaIh5"
      },
      "execution_count": 333,
      "outputs": []
    },
    {
      "cell_type": "code",
      "source": [
        "import pandas as pd\n",
        "\n",
        "data = pd.read_csv(data_file)\n",
        "print(data)"
      ],
      "metadata": {
        "colab": {
          "base_uri": "https://localhost:8080/",
          "height": 0
        },
        "id": "ITXDx0BP7ey9",
        "outputId": "a9ffb258-63d0-4974-a41f-3b570e2234ad"
      },
      "execution_count": 334,
      "outputs": [
        {
          "output_type": "stream",
          "name": "stdout",
          "text": [
            "   NumRooms  Alley   Price \n",
            "0       NaN   Pave   127500\n",
            "1       2.0    NaN   106000\n",
            "2       4.0    NaN   178100\n",
            "3       NaN    NaN   140000\n"
          ]
        }
      ]
    },
    {
      "cell_type": "markdown",
      "source": [
        "### **Missing Values**"
      ],
      "metadata": {
        "id": "oofqg7zR70iF"
      }
    },
    {
      "cell_type": "markdown",
      "source": [
        "典型的方法包括插值法和删除法， 其中插值法用一个替代值弥补缺失值，而删除法则直接忽略缺失值。 在这里，我们将考虑插值法。"
      ],
      "metadata": {
        "id": "3JKRpE-V79fN"
      }
    },
    {
      "cell_type": "markdown",
      "source": [
        "我们将data分成inputs和outputs， 其中前者为data的前两列，而后者为data的最后一列。"
      ],
      "metadata": {
        "id": "RPUMGOAp8qii"
      }
    },
    {
      "cell_type": "code",
      "source": [
        "inputs, outputs = data.iloc[:, 0:2], data.iloc[:, 2]\n",
        "inputs = inputs.fillna(inputs.mean())\n",
        "print(inputs)"
      ],
      "metadata": {
        "id": "cmcoaTBL7wjg",
        "colab": {
          "base_uri": "https://localhost:8080/",
          "height": 0
        },
        "outputId": "45426776-f009-493c-951f-5479b06a99f4"
      },
      "execution_count": 335,
      "outputs": [
        {
          "output_type": "stream",
          "name": "stdout",
          "text": [
            "   NumRooms  Alley\n",
            "0       3.0   Pave\n",
            "1       2.0    NaN\n",
            "2       4.0    NaN\n",
            "3       3.0    NaN\n"
          ]
        },
        {
          "output_type": "stream",
          "name": "stderr",
          "text": [
            "<ipython-input-335-7f3bcd4dc11f>:2: FutureWarning: The default value of numeric_only in DataFrame.mean is deprecated. In a future version, it will default to False. In addition, specifying 'numeric_only=None' is deprecated. Select only valid columns or specify the value of numeric_only to silence this warning.\n",
            "  inputs = inputs.fillna(inputs.mean())\n"
          ]
        }
      ]
    },
    {
      "cell_type": "code",
      "source": [
        "# Column Alley里的NaN没有被填上是因为'Pave'是离散值\n",
        "# pandas可以自动将此列转换为两列“Alley_Pave”和“Alley_nan”。 巷子类型为“Pave”的行会将“Alley_Pave”的值设置为1，“Alley_nan”的值设置为0。 缺少巷子类型的行会将“Alley_Pave”和“Alley_nan”分别设置为0和1。\n",
        "inputs = pd.get_dummies(inputs, dummy_na= True)\n",
        "print(inputs)"
      ],
      "metadata": {
        "colab": {
          "base_uri": "https://localhost:8080/",
          "height": 0
        },
        "id": "_WakX9T6AWVY",
        "outputId": "44e19ba5-adac-4880-927e-d172237fd57b"
      },
      "execution_count": 336,
      "outputs": [
        {
          "output_type": "stream",
          "name": "stdout",
          "text": [
            "   NumRooms   Alley_ Pave   Alley_nan\n",
            "0       3.0             1           0\n",
            "1       2.0             0           1\n",
            "2       4.0             0           1\n",
            "3       3.0             0           1\n"
          ]
        }
      ]
    },
    {
      "cell_type": "markdown",
      "source": [
        "### **转换为张量格式**"
      ],
      "metadata": {
        "id": "651mxfIbaz2b"
      }
    },
    {
      "cell_type": "code",
      "source": [
        "X, y = torch.tensor(inputs.values), torch.tensor(outputs.values)\n",
        "X, y"
      ],
      "metadata": {
        "colab": {
          "base_uri": "https://localhost:8080/",
          "height": 0
        },
        "id": "RdzToaS6a9sE",
        "outputId": "4391d407-00b7-4e1d-db25-99e0e8f560c3"
      },
      "execution_count": 337,
      "outputs": [
        {
          "output_type": "execute_result",
          "data": {
            "text/plain": [
              "(tensor([[3., 1., 0.],\n",
              "         [2., 0., 1.],\n",
              "         [4., 0., 1.],\n",
              "         [3., 0., 1.]], dtype=torch.float64),\n",
              " tensor([127500, 106000, 178100, 140000]))"
            ]
          },
          "metadata": {},
          "execution_count": 337
        }
      ]
    },
    {
      "cell_type": "markdown",
      "source": [
        "### **Exer**"
      ],
      "metadata": {
        "id": "c9sLbxOxbUGL"
      }
    },
    {
      "cell_type": "code",
      "source": [
        "# 1. 删除缺失值最多的列\n",
        "os.makedirs(os.path.join('..','data'), exist_ok = True)\n",
        "data_file1 = os.path.join('..', 'data','missingExer.csv') #  'missingExer.csv'\n",
        "with open(data_file1, 'w') as f:\n",
        "    f.write('NumRooms, Alley, Price \\n')\n",
        "    f.write('NA, Pave, 127500 \\n')\n",
        "    f.write('2, Kon, 238100\\n')\n",
        "    f.write('4,NA,178100\\n')\n",
        "    f.write('NA,NA,232323\\n')\n",
        "    f.write('NA,NA,123432\\n')\n",
        "    f.write('4,NA,178687\\n')\n",
        "    f.write('NA,NA,140034\\n')"
      ],
      "metadata": {
        "id": "j2gZyTbtbbkU"
      },
      "execution_count": 338,
      "outputs": []
    },
    {
      "cell_type": "code",
      "source": [
        "data1 = pd.read_csv(data_file1)\n",
        "print(data1)"
      ],
      "metadata": {
        "colab": {
          "base_uri": "https://localhost:8080/",
          "height": 0
        },
        "id": "QluZCqSlbzWr",
        "outputId": "5b73e66e-53fb-426b-88b9-aa3ca77f13bc"
      },
      "execution_count": 339,
      "outputs": [
        {
          "output_type": "stream",
          "name": "stdout",
          "text": [
            "   NumRooms  Alley   Price \n",
            "0       NaN   Pave   127500\n",
            "1       2.0    Kon   238100\n",
            "2       4.0    NaN   178100\n",
            "3       NaN    NaN   232323\n",
            "4       NaN    NaN   123432\n",
            "5       4.0    NaN   178687\n",
            "6       NaN    NaN   140034\n"
          ]
        }
      ]
    },
    {
      "cell_type": "code",
      "source": [
        "data_drop_maxNA = data1.drop([data1.isna().sum().idxmax()], axis = 1)\n",
        "data_drop_maxNA"
      ],
      "metadata": {
        "colab": {
          "base_uri": "https://localhost:8080/",
          "height": 269
        },
        "id": "Snqilo-Cb7hR",
        "outputId": "a9ab53e0-2e88-4a4a-d4b0-7c4dbcbff86f"
      },
      "execution_count": 340,
      "outputs": [
        {
          "output_type": "execute_result",
          "data": {
            "text/plain": [
              "   NumRooms   Price \n",
              "0       NaN   127500\n",
              "1       2.0   238100\n",
              "2       4.0   178100\n",
              "3       NaN   232323\n",
              "4       NaN   123432\n",
              "5       4.0   178687\n",
              "6       NaN   140034"
            ],
            "text/html": [
              "\n",
              "  <div id=\"df-40c97d97-7bf8-478e-98fb-130b4facd448\">\n",
              "    <div class=\"colab-df-container\">\n",
              "      <div>\n",
              "<style scoped>\n",
              "    .dataframe tbody tr th:only-of-type {\n",
              "        vertical-align: middle;\n",
              "    }\n",
              "\n",
              "    .dataframe tbody tr th {\n",
              "        vertical-align: top;\n",
              "    }\n",
              "\n",
              "    .dataframe thead th {\n",
              "        text-align: right;\n",
              "    }\n",
              "</style>\n",
              "<table border=\"1\" class=\"dataframe\">\n",
              "  <thead>\n",
              "    <tr style=\"text-align: right;\">\n",
              "      <th></th>\n",
              "      <th>NumRooms</th>\n",
              "      <th>Price</th>\n",
              "    </tr>\n",
              "  </thead>\n",
              "  <tbody>\n",
              "    <tr>\n",
              "      <th>0</th>\n",
              "      <td>NaN</td>\n",
              "      <td>127500</td>\n",
              "    </tr>\n",
              "    <tr>\n",
              "      <th>1</th>\n",
              "      <td>2.0</td>\n",
              "      <td>238100</td>\n",
              "    </tr>\n",
              "    <tr>\n",
              "      <th>2</th>\n",
              "      <td>4.0</td>\n",
              "      <td>178100</td>\n",
              "    </tr>\n",
              "    <tr>\n",
              "      <th>3</th>\n",
              "      <td>NaN</td>\n",
              "      <td>232323</td>\n",
              "    </tr>\n",
              "    <tr>\n",
              "      <th>4</th>\n",
              "      <td>NaN</td>\n",
              "      <td>123432</td>\n",
              "    </tr>\n",
              "    <tr>\n",
              "      <th>5</th>\n",
              "      <td>4.0</td>\n",
              "      <td>178687</td>\n",
              "    </tr>\n",
              "    <tr>\n",
              "      <th>6</th>\n",
              "      <td>NaN</td>\n",
              "      <td>140034</td>\n",
              "    </tr>\n",
              "  </tbody>\n",
              "</table>\n",
              "</div>\n",
              "      <button class=\"colab-df-convert\" onclick=\"convertToInteractive('df-40c97d97-7bf8-478e-98fb-130b4facd448')\"\n",
              "              title=\"Convert this dataframe to an interactive table.\"\n",
              "              style=\"display:none;\">\n",
              "        \n",
              "  <svg xmlns=\"http://www.w3.org/2000/svg\" height=\"24px\"viewBox=\"0 0 24 24\"\n",
              "       width=\"24px\">\n",
              "    <path d=\"M0 0h24v24H0V0z\" fill=\"none\"/>\n",
              "    <path d=\"M18.56 5.44l.94 2.06.94-2.06 2.06-.94-2.06-.94-.94-2.06-.94 2.06-2.06.94zm-11 1L8.5 8.5l.94-2.06 2.06-.94-2.06-.94L8.5 2.5l-.94 2.06-2.06.94zm10 10l.94 2.06.94-2.06 2.06-.94-2.06-.94-.94-2.06-.94 2.06-2.06.94z\"/><path d=\"M17.41 7.96l-1.37-1.37c-.4-.4-.92-.59-1.43-.59-.52 0-1.04.2-1.43.59L10.3 9.45l-7.72 7.72c-.78.78-.78 2.05 0 2.83L4 21.41c.39.39.9.59 1.41.59.51 0 1.02-.2 1.41-.59l7.78-7.78 2.81-2.81c.8-.78.8-2.07 0-2.86zM5.41 20L4 18.59l7.72-7.72 1.47 1.35L5.41 20z\"/>\n",
              "  </svg>\n",
              "      </button>\n",
              "      \n",
              "  <style>\n",
              "    .colab-df-container {\n",
              "      display:flex;\n",
              "      flex-wrap:wrap;\n",
              "      gap: 12px;\n",
              "    }\n",
              "\n",
              "    .colab-df-convert {\n",
              "      background-color: #E8F0FE;\n",
              "      border: none;\n",
              "      border-radius: 50%;\n",
              "      cursor: pointer;\n",
              "      display: none;\n",
              "      fill: #1967D2;\n",
              "      height: 32px;\n",
              "      padding: 0 0 0 0;\n",
              "      width: 32px;\n",
              "    }\n",
              "\n",
              "    .colab-df-convert:hover {\n",
              "      background-color: #E2EBFA;\n",
              "      box-shadow: 0px 1px 2px rgba(60, 64, 67, 0.3), 0px 1px 3px 1px rgba(60, 64, 67, 0.15);\n",
              "      fill: #174EA6;\n",
              "    }\n",
              "\n",
              "    [theme=dark] .colab-df-convert {\n",
              "      background-color: #3B4455;\n",
              "      fill: #D2E3FC;\n",
              "    }\n",
              "\n",
              "    [theme=dark] .colab-df-convert:hover {\n",
              "      background-color: #434B5C;\n",
              "      box-shadow: 0px 1px 3px 1px rgba(0, 0, 0, 0.15);\n",
              "      filter: drop-shadow(0px 1px 2px rgba(0, 0, 0, 0.3));\n",
              "      fill: #FFFFFF;\n",
              "    }\n",
              "  </style>\n",
              "\n",
              "      <script>\n",
              "        const buttonEl =\n",
              "          document.querySelector('#df-40c97d97-7bf8-478e-98fb-130b4facd448 button.colab-df-convert');\n",
              "        buttonEl.style.display =\n",
              "          google.colab.kernel.accessAllowed ? 'block' : 'none';\n",
              "\n",
              "        async function convertToInteractive(key) {\n",
              "          const element = document.querySelector('#df-40c97d97-7bf8-478e-98fb-130b4facd448');\n",
              "          const dataTable =\n",
              "            await google.colab.kernel.invokeFunction('convertToInteractive',\n",
              "                                                     [key], {});\n",
              "          if (!dataTable) return;\n",
              "\n",
              "          const docLinkHtml = 'Like what you see? Visit the ' +\n",
              "            '<a target=\"_blank\" href=https://colab.research.google.com/notebooks/data_table.ipynb>data table notebook</a>'\n",
              "            + ' to learn more about interactive tables.';\n",
              "          element.innerHTML = '';\n",
              "          dataTable['output_type'] = 'display_data';\n",
              "          await google.colab.output.renderOutput(dataTable, element);\n",
              "          const docLink = document.createElement('div');\n",
              "          docLink.innerHTML = docLinkHtml;\n",
              "          element.appendChild(docLink);\n",
              "        }\n",
              "      </script>\n",
              "    </div>\n",
              "  </div>\n",
              "  "
            ]
          },
          "metadata": {},
          "execution_count": 340
        }
      ]
    },
    {
      "cell_type": "code",
      "source": [
        "# 2. 将预处理后的数据集转换为张量格式\n",
        "data_maxNA_tensor = torch.tensor(data_drop_maxNA.values)\n",
        "data_maxNA_tensor\n",
        "# 注意values的s不要丢"
      ],
      "metadata": {
        "colab": {
          "base_uri": "https://localhost:8080/",
          "height": 0
        },
        "id": "H7B3mtzJjHDv",
        "outputId": "0f2ab693-cac1-49ea-b908-f893493bf7fc"
      },
      "execution_count": 341,
      "outputs": [
        {
          "output_type": "execute_result",
          "data": {
            "text/plain": [
              "tensor([[       nan, 1.2750e+05],\n",
              "        [2.0000e+00, 2.3810e+05],\n",
              "        [4.0000e+00, 1.7810e+05],\n",
              "        [       nan, 2.3232e+05],\n",
              "        [       nan, 1.2343e+05],\n",
              "        [4.0000e+00, 1.7869e+05],\n",
              "        [       nan, 1.4003e+05]], dtype=torch.float64)"
            ]
          },
          "metadata": {},
          "execution_count": 341
        }
      ]
    },
    {
      "cell_type": "markdown",
      "source": [
        "## **Calculas**"
      ],
      "metadata": {
        "id": "N6c9VFZ5j0AN"
      }
    },
    {
      "cell_type": "markdown",
      "source": [
        "### **Derivative**"
      ],
      "metadata": {
        "id": "2kn9f6dQkPJ5"
      }
    },
    {
      "cell_type": "markdown",
      "source": [
        "Define $u = f(x) = 3x^{2} - 4x$"
      ],
      "metadata": {
        "id": "B9u3_8wbkSUP"
      }
    },
    {
      "cell_type": "code",
      "source": [
        "# Derivative\n",
        "import numpy as np\n",
        "from matplotlib_inline import backend_inline # https://matplotlib.org/stable/users/explain/backends.html\n",
        "from d2l import torch as d2l\n",
        "\n",
        "def f(x):\n",
        "  return 3* x **2 - 4*x"
      ],
      "metadata": {
        "id": "RceH1jGFj4CQ"
      },
      "execution_count": 342,
      "outputs": []
    },
    {
      "cell_type": "markdown",
      "source": [
        "$lim_{h → 0}\\frac{f(x+h) - f(x)}{h}$ when $x=1$"
      ],
      "metadata": {
        "id": "gqL6muDEuOzN"
      }
    },
    {
      "cell_type": "code",
      "source": [
        "def numerical_lim(f, x, h):\n",
        "  return (f(x+h)-f(x))/h\n",
        "\n",
        "h = 0.1\n",
        "for i in range(5):\n",
        "  print( f'h = {h:.5f}, numerical limit = {numerical_lim(f, 1, h):.5f}' )\n",
        "  h *= 0.1\n"
      ],
      "metadata": {
        "colab": {
          "base_uri": "https://localhost:8080/",
          "height": 0
        },
        "id": "EUEhilJzuby6",
        "outputId": "fecb70dd-8193-4824-a2ee-6ae46ffc0b29"
      },
      "execution_count": 343,
      "outputs": [
        {
          "output_type": "stream",
          "name": "stdout",
          "text": [
            "h = 0.10000, numerical limit = 2.30000\n",
            "h = 0.01000, numerical limit = 2.03000\n",
            "h = 0.00100, numerical limit = 2.00300\n",
            "h = 0.00010, numerical limit = 2.00030\n",
            "h = 0.00001, numerical limit = 2.00003\n"
          ]
        }
      ]
    },
    {
      "cell_type": "code",
      "source": [
        "def use_svg_display(): #@save\n",
        "  \"\"\"使用svg格式在Jupyter中显示绘图\"\"\"\n",
        "  backend_inline.set_matplotlib_formats('svg') # vector graphics -- Scalable Vector Graphics output.\n"
      ],
      "metadata": {
        "cellView": "code",
        "id": "9zQRcUuxzneh"
      },
      "execution_count": 344,
      "outputs": []
    },
    {
      "cell_type": "code",
      "source": [
        "def set_figsize(figsize = (3.5, 2.5)): #@save\n",
        "  \"\"\"设置matplotlib的图表大小\"\"\"\n",
        "  use_svg_display()\n",
        "  d2l.plt.rcParams['figure.figsize'] = figsize #照片像素"
      ],
      "metadata": {
        "id": "pInjGTC63Wqh",
        "cellView": "code"
      },
      "execution_count": 345,
      "outputs": []
    },
    {
      "cell_type": "code",
      "source": [
        "# 设置由matplotlib生成图表的轴的属性。\n",
        "#@save\n",
        "def set_axes(axes, xlabel, ylabel, xlim, ylim, xscale, yscale, legend):\n",
        "    \"\"\"设置matplotlib的轴\"\"\"\n",
        "    axes.set_xlabel(xlabel)\n",
        "    axes.set_ylabel(ylabel)\n",
        "    axes.set_xscale(xscale)\n",
        "    axes.set_yscale(yscale) # Set the yaxis' scale. value{\"linear\", \"log\", \"symlog\", \"logit\", ...} or ScaleBase\n",
        "    axes.set_xlim(xlim) # 设定展示边界 left=None, right=None, *, emit=True, auto=False, xmin=None, xmax=None\n",
        "    axes.set_ylim(ylim)\n",
        "    if legend:\n",
        "        axes.legend(legend) #图例\n",
        "    axes.grid()"
      ],
      "metadata": {
        "id": "7H5Y1oAKDBUb",
        "cellView": "code"
      },
      "execution_count": 346,
      "outputs": []
    },
    {
      "cell_type": "code",
      "source": [
        "#@save\n",
        "def plot(X, Y=None, xlabel=None, ylabel=None, legend=None, xlim=None,\n",
        "         ylim=None, xscale='linear', yscale='linear',\n",
        "         fmts=('-', 'm--', 'g-.', 'r:'), figsize=(3.5, 2.5), axes=None):\n",
        "    \"\"\"绘制数据点\"\"\"\n",
        "    if legend is None:\n",
        "        legend = []\n",
        "\n",
        "    set_figsize(figsize)\n",
        "    axes = axes if axes else d2l.plt.gca()\n",
        "\n",
        "    # 如果X有一个轴，输出True\n",
        "    def has_one_axis(X):\n",
        "        return (hasattr(X, \"ndim\") and X.ndim == 1 or isinstance(X, list)\n",
        "                and not hasattr(X[0], \"__len__\")) #hasattr(): 判断对象是否包含对应的属性Ture/False\n",
        "\n",
        "    if has_one_axis(X): # 只有一个1D的X:\n",
        "        X = [X]\n",
        "    if Y is None: # 1.没有Y，就创一个和X同样size的Y，并合成2D\n",
        "        X, Y = [[]] * len(X), X\n",
        "    elif has_one_axis(Y):\n",
        "        Y = [Y]\n",
        "    if len(X) != len(Y): # 2. 如果Y有一个轴，且和1D的X不等长\n",
        "        X = X * len(Y)\n",
        "    axes.cla() # clear current axes\n",
        "    for x, y, fmt in zip(X, Y, fmts):\n",
        "        if len(x):\n",
        "            axes.plot(x, y, fmt)\n",
        "        else:\n",
        "            axes.plot(y, fmt)\n",
        "    set_axes(axes, xlabel, ylabel, xlim, ylim, xscale, yscale, legend)"
      ],
      "metadata": {
        "cellView": "code",
        "id": "8k31NS_M0PLZ"
      },
      "execution_count": 347,
      "outputs": []
    },
    {
      "cell_type": "code",
      "source": [
        "import numpy as np\n",
        "x = np.arange(0,10,1)\n",
        "hasattr(x, \"ndim\"), x.ndim, isinstance(x, list), hasattr(x[0:2], \"__len__\"), hasattr(x[0], \"__len__\")"
      ],
      "metadata": {
        "colab": {
          "base_uri": "https://localhost:8080/",
          "height": 0
        },
        "id": "19Ids89DcVUu",
        "outputId": "7259670b-801c-4469-b03a-6870e873a8eb"
      },
      "execution_count": 348,
      "outputs": [
        {
          "output_type": "execute_result",
          "data": {
            "text/plain": [
              "(True, 1, False, True, False)"
            ]
          },
          "metadata": {},
          "execution_count": 348
        }
      ]
    },
    {
      "cell_type": "markdown",
      "source": [
        "Draw the tangent at $x=1$ with the function $y = 2x -3$"
      ],
      "metadata": {
        "id": "xrSCgATXDA2g"
      }
    },
    {
      "cell_type": "code",
      "source": [
        "x = np.arange(0, 3, 0.1)\n",
        "plot(x,[f(x), 2 * x - 3], 'x', 'f(x)', legend=['f(x)', 'Tangent line (x=1)'])"
      ],
      "metadata": {
        "colab": {
          "base_uri": "https://localhost:8080/",
          "height": 265
        },
        "id": "EHa4m0Xi0XJz",
        "outputId": "840988e4-275a-43e1-f901-ab4a72cf1a73"
      },
      "execution_count": 349,
      "outputs": [
        {
          "output_type": "display_data",
          "data": {
            "text/plain": [
              "<Figure size 350x250 with 1 Axes>"
            ],
            "image/svg+xml": "<?xml version=\"1.0\" encoding=\"utf-8\" standalone=\"no\"?>\n<!DOCTYPE svg PUBLIC \"-//W3C//DTD SVG 1.1//EN\"\n  \"http://www.w3.org/Graphics/SVG/1.1/DTD/svg11.dtd\">\n<svg xmlns:xlink=\"http://www.w3.org/1999/xlink\" width=\"243.529359pt\" height=\"183.35625pt\" viewBox=\"0 0 243.529359 183.35625\" xmlns=\"http://www.w3.org/2000/svg\" version=\"1.1\">\n <metadata>\n  <rdf:RDF xmlns:dc=\"http://purl.org/dc/elements/1.1/\" xmlns:cc=\"http://creativecommons.org/ns#\" xmlns:rdf=\"http://www.w3.org/1999/02/22-rdf-syntax-ns#\">\n   <cc:Work>\n    <dc:type rdf:resource=\"http://purl.org/dc/dcmitype/StillImage\"/>\n    <dc:date>2023-07-06T12:03:36.792633</dc:date>\n    <dc:format>image/svg+xml</dc:format>\n    <dc:creator>\n     <cc:Agent>\n      <dc:title>Matplotlib v3.7.1, https://matplotlib.org/</dc:title>\n     </cc:Agent>\n    </dc:creator>\n   </cc:Work>\n  </rdf:RDF>\n </metadata>\n <defs>\n  <style type=\"text/css\">*{stroke-linejoin: round; stroke-linecap: butt}</style>\n </defs>\n <g id=\"figure_1\">\n  <g id=\"patch_1\">\n   <path d=\"M 0 183.35625 \nL 243.529359 183.35625 \nL 243.529359 0 \nL 0 0 \nz\n\" style=\"fill: #ffffff\"/>\n  </g>\n  <g id=\"axes_1\">\n   <g id=\"patch_2\">\n    <path d=\"M 40.603125 145.8 \nL 235.903125 145.8 \nL 235.903125 7.2 \nL 40.603125 7.2 \nz\n\" style=\"fill: #ffffff\"/>\n   </g>\n   <g id=\"matplotlib.axis_1\">\n    <g id=\"xtick_1\">\n     <g id=\"line2d_1\">\n      <path d=\"M 49.480398 145.8 \nL 49.480398 7.2 \n\" clip-path=\"url(#p25492f530e)\" style=\"fill: none; stroke: #b0b0b0; stroke-width: 0.8; stroke-linecap: square\"/>\n     </g>\n     <g id=\"line2d_2\">\n      <defs>\n       <path id=\"mcc5562eea6\" d=\"M 0 0 \nL 0 3.5 \n\" style=\"stroke: #000000; stroke-width: 0.8\"/>\n      </defs>\n      <g>\n       <use xlink:href=\"#mcc5562eea6\" x=\"49.480398\" y=\"145.8\" style=\"stroke: #000000; stroke-width: 0.8\"/>\n      </g>\n     </g>\n     <g id=\"text_1\">\n      <!-- 0 -->\n      <g transform=\"translate(46.299148 160.398438) scale(0.1 -0.1)\">\n       <defs>\n        <path id=\"DejaVuSans-30\" d=\"M 2034 4250 \nQ 1547 4250 1301 3770 \nQ 1056 3291 1056 2328 \nQ 1056 1369 1301 889 \nQ 1547 409 2034 409 \nQ 2525 409 2770 889 \nQ 3016 1369 3016 2328 \nQ 3016 3291 2770 3770 \nQ 2525 4250 2034 4250 \nz\nM 2034 4750 \nQ 2819 4750 3233 4129 \nQ 3647 3509 3647 2328 \nQ 3647 1150 3233 529 \nQ 2819 -91 2034 -91 \nQ 1250 -91 836 529 \nQ 422 1150 422 2328 \nQ 422 3509 836 4129 \nQ 1250 4750 2034 4750 \nz\n\" transform=\"scale(0.015625)\"/>\n       </defs>\n       <use xlink:href=\"#DejaVuSans-30\"/>\n      </g>\n     </g>\n    </g>\n    <g id=\"xtick_2\">\n     <g id=\"line2d_3\">\n      <path d=\"M 110.702968 145.8 \nL 110.702968 7.2 \n\" clip-path=\"url(#p25492f530e)\" style=\"fill: none; stroke: #b0b0b0; stroke-width: 0.8; stroke-linecap: square\"/>\n     </g>\n     <g id=\"line2d_4\">\n      <g>\n       <use xlink:href=\"#mcc5562eea6\" x=\"110.702968\" y=\"145.8\" style=\"stroke: #000000; stroke-width: 0.8\"/>\n      </g>\n     </g>\n     <g id=\"text_2\">\n      <!-- 1 -->\n      <g transform=\"translate(107.521718 160.398438) scale(0.1 -0.1)\">\n       <defs>\n        <path id=\"DejaVuSans-31\" d=\"M 794 531 \nL 1825 531 \nL 1825 4091 \nL 703 3866 \nL 703 4441 \nL 1819 4666 \nL 2450 4666 \nL 2450 531 \nL 3481 531 \nL 3481 0 \nL 794 0 \nL 794 531 \nz\n\" transform=\"scale(0.015625)\"/>\n       </defs>\n       <use xlink:href=\"#DejaVuSans-31\"/>\n      </g>\n     </g>\n    </g>\n    <g id=\"xtick_3\">\n     <g id=\"line2d_5\">\n      <path d=\"M 171.925539 145.8 \nL 171.925539 7.2 \n\" clip-path=\"url(#p25492f530e)\" style=\"fill: none; stroke: #b0b0b0; stroke-width: 0.8; stroke-linecap: square\"/>\n     </g>\n     <g id=\"line2d_6\">\n      <g>\n       <use xlink:href=\"#mcc5562eea6\" x=\"171.925539\" y=\"145.8\" style=\"stroke: #000000; stroke-width: 0.8\"/>\n      </g>\n     </g>\n     <g id=\"text_3\">\n      <!-- 2 -->\n      <g transform=\"translate(168.744289 160.398438) scale(0.1 -0.1)\">\n       <defs>\n        <path id=\"DejaVuSans-32\" d=\"M 1228 531 \nL 3431 531 \nL 3431 0 \nL 469 0 \nL 469 531 \nQ 828 903 1448 1529 \nQ 2069 2156 2228 2338 \nQ 2531 2678 2651 2914 \nQ 2772 3150 2772 3378 \nQ 2772 3750 2511 3984 \nQ 2250 4219 1831 4219 \nQ 1534 4219 1204 4116 \nQ 875 4013 500 3803 \nL 500 4441 \nQ 881 4594 1212 4672 \nQ 1544 4750 1819 4750 \nQ 2544 4750 2975 4387 \nQ 3406 4025 3406 3419 \nQ 3406 3131 3298 2873 \nQ 3191 2616 2906 2266 \nQ 2828 2175 2409 1742 \nQ 1991 1309 1228 531 \nz\n\" transform=\"scale(0.015625)\"/>\n       </defs>\n       <use xlink:href=\"#DejaVuSans-32\"/>\n      </g>\n     </g>\n    </g>\n    <g id=\"xtick_4\">\n     <g id=\"line2d_7\">\n      <path d=\"M 233.148109 145.8 \nL 233.148109 7.2 \n\" clip-path=\"url(#p25492f530e)\" style=\"fill: none; stroke: #b0b0b0; stroke-width: 0.8; stroke-linecap: square\"/>\n     </g>\n     <g id=\"line2d_8\">\n      <g>\n       <use xlink:href=\"#mcc5562eea6\" x=\"233.148109\" y=\"145.8\" style=\"stroke: #000000; stroke-width: 0.8\"/>\n      </g>\n     </g>\n     <g id=\"text_4\">\n      <!-- 3 -->\n      <g transform=\"translate(229.966859 160.398438) scale(0.1 -0.1)\">\n       <defs>\n        <path id=\"DejaVuSans-33\" d=\"M 2597 2516 \nQ 3050 2419 3304 2112 \nQ 3559 1806 3559 1356 \nQ 3559 666 3084 287 \nQ 2609 -91 1734 -91 \nQ 1441 -91 1130 -33 \nQ 819 25 488 141 \nL 488 750 \nQ 750 597 1062 519 \nQ 1375 441 1716 441 \nQ 2309 441 2620 675 \nQ 2931 909 2931 1356 \nQ 2931 1769 2642 2001 \nQ 2353 2234 1838 2234 \nL 1294 2234 \nL 1294 2753 \nL 1863 2753 \nQ 2328 2753 2575 2939 \nQ 2822 3125 2822 3475 \nQ 2822 3834 2567 4026 \nQ 2313 4219 1838 4219 \nQ 1578 4219 1281 4162 \nQ 984 4106 628 3988 \nL 628 4550 \nQ 988 4650 1302 4700 \nQ 1616 4750 1894 4750 \nQ 2613 4750 3031 4423 \nQ 3450 4097 3450 3541 \nQ 3450 3153 3228 2886 \nQ 3006 2619 2597 2516 \nz\n\" transform=\"scale(0.015625)\"/>\n       </defs>\n       <use xlink:href=\"#DejaVuSans-33\"/>\n      </g>\n     </g>\n    </g>\n    <g id=\"text_5\">\n     <!-- x -->\n     <g transform=\"translate(135.29375 174.076563) scale(0.1 -0.1)\">\n      <defs>\n       <path id=\"DejaVuSans-78\" d=\"M 3513 3500 \nL 2247 1797 \nL 3578 0 \nL 2900 0 \nL 1881 1375 \nL 863 0 \nL 184 0 \nL 1544 1831 \nL 300 3500 \nL 978 3500 \nL 1906 2253 \nL 2834 3500 \nL 3513 3500 \nz\n\" transform=\"scale(0.015625)\"/>\n      </defs>\n      <use xlink:href=\"#DejaVuSans-78\"/>\n     </g>\n    </g>\n   </g>\n   <g id=\"matplotlib.axis_2\">\n    <g id=\"ytick_1\">\n     <g id=\"line2d_9\">\n      <path d=\"M 40.603125 116.769994 \nL 235.903125 116.769994 \n\" clip-path=\"url(#p25492f530e)\" style=\"fill: none; stroke: #b0b0b0; stroke-width: 0.8; stroke-linecap: square\"/>\n     </g>\n     <g id=\"line2d_10\">\n      <defs>\n       <path id=\"m8b952d0bf8\" d=\"M 0 0 \nL -3.5 0 \n\" style=\"stroke: #000000; stroke-width: 0.8\"/>\n      </defs>\n      <g>\n       <use xlink:href=\"#m8b952d0bf8\" x=\"40.603125\" y=\"116.769994\" style=\"stroke: #000000; stroke-width: 0.8\"/>\n      </g>\n     </g>\n     <g id=\"text_6\">\n      <!-- 0 -->\n      <g transform=\"translate(27.240625 120.569213) scale(0.1 -0.1)\">\n       <use xlink:href=\"#DejaVuSans-30\"/>\n      </g>\n     </g>\n    </g>\n    <g id=\"ytick_2\">\n     <g id=\"line2d_11\">\n      <path d=\"M 40.603125 78.886651 \nL 235.903125 78.886651 \n\" clip-path=\"url(#p25492f530e)\" style=\"fill: none; stroke: #b0b0b0; stroke-width: 0.8; stroke-linecap: square\"/>\n     </g>\n     <g id=\"line2d_12\">\n      <g>\n       <use xlink:href=\"#m8b952d0bf8\" x=\"40.603125\" y=\"78.886651\" style=\"stroke: #000000; stroke-width: 0.8\"/>\n      </g>\n     </g>\n     <g id=\"text_7\">\n      <!-- 5 -->\n      <g transform=\"translate(27.240625 82.685869) scale(0.1 -0.1)\">\n       <defs>\n        <path id=\"DejaVuSans-35\" d=\"M 691 4666 \nL 3169 4666 \nL 3169 4134 \nL 1269 4134 \nL 1269 2991 \nQ 1406 3038 1543 3061 \nQ 1681 3084 1819 3084 \nQ 2600 3084 3056 2656 \nQ 3513 2228 3513 1497 \nQ 3513 744 3044 326 \nQ 2575 -91 1722 -91 \nQ 1428 -91 1123 -41 \nQ 819 9 494 109 \nL 494 744 \nQ 775 591 1075 516 \nQ 1375 441 1709 441 \nQ 2250 441 2565 725 \nQ 2881 1009 2881 1497 \nQ 2881 1984 2565 2268 \nQ 2250 2553 1709 2553 \nQ 1456 2553 1204 2497 \nQ 953 2441 691 2322 \nL 691 4666 \nz\n\" transform=\"scale(0.015625)\"/>\n       </defs>\n       <use xlink:href=\"#DejaVuSans-35\"/>\n      </g>\n     </g>\n    </g>\n    <g id=\"ytick_3\">\n     <g id=\"line2d_13\">\n      <path d=\"M 40.603125 41.003307 \nL 235.903125 41.003307 \n\" clip-path=\"url(#p25492f530e)\" style=\"fill: none; stroke: #b0b0b0; stroke-width: 0.8; stroke-linecap: square\"/>\n     </g>\n     <g id=\"line2d_14\">\n      <g>\n       <use xlink:href=\"#m8b952d0bf8\" x=\"40.603125\" y=\"41.003307\" style=\"stroke: #000000; stroke-width: 0.8\"/>\n      </g>\n     </g>\n     <g id=\"text_8\">\n      <!-- 10 -->\n      <g transform=\"translate(20.878125 44.802526) scale(0.1 -0.1)\">\n       <use xlink:href=\"#DejaVuSans-31\"/>\n       <use xlink:href=\"#DejaVuSans-30\" x=\"63.623047\"/>\n      </g>\n     </g>\n    </g>\n    <g id=\"text_9\">\n     <!-- f(x) -->\n     <g transform=\"translate(14.798437 85.121094) rotate(-90) scale(0.1 -0.1)\">\n      <defs>\n       <path id=\"DejaVuSans-66\" d=\"M 2375 4863 \nL 2375 4384 \nL 1825 4384 \nQ 1516 4384 1395 4259 \nQ 1275 4134 1275 3809 \nL 1275 3500 \nL 2222 3500 \nL 2222 3053 \nL 1275 3053 \nL 1275 0 \nL 697 0 \nL 697 3053 \nL 147 3053 \nL 147 3500 \nL 697 3500 \nL 697 3744 \nQ 697 4328 969 4595 \nQ 1241 4863 1831 4863 \nL 2375 4863 \nz\n\" transform=\"scale(0.015625)\"/>\n       <path id=\"DejaVuSans-28\" d=\"M 1984 4856 \nQ 1566 4138 1362 3434 \nQ 1159 2731 1159 2009 \nQ 1159 1288 1364 580 \nQ 1569 -128 1984 -844 \nL 1484 -844 \nQ 1016 -109 783 600 \nQ 550 1309 550 2009 \nQ 550 2706 781 3412 \nQ 1013 4119 1484 4856 \nL 1984 4856 \nz\n\" transform=\"scale(0.015625)\"/>\n       <path id=\"DejaVuSans-29\" d=\"M 513 4856 \nL 1013 4856 \nQ 1481 4119 1714 3412 \nQ 1947 2706 1947 2009 \nQ 1947 1309 1714 600 \nQ 1481 -109 1013 -844 \nL 513 -844 \nQ 928 -128 1133 580 \nQ 1338 1288 1338 2009 \nQ 1338 2731 1133 3434 \nQ 928 4138 513 4856 \nz\n\" transform=\"scale(0.015625)\"/>\n      </defs>\n      <use xlink:href=\"#DejaVuSans-66\"/>\n      <use xlink:href=\"#DejaVuSans-28\" x=\"35.205078\"/>\n      <use xlink:href=\"#DejaVuSans-78\" x=\"74.21875\"/>\n      <use xlink:href=\"#DejaVuSans-29\" x=\"133.398438\"/>\n     </g>\n    </g>\n   </g>\n   <g id=\"line2d_15\">\n    <path d=\"M 49.480398 116.769994 \nL 55.602655 119.573361 \nL 61.724912 121.922129 \nL 67.847169 123.816296 \nL 73.969426 125.255863 \nL 80.091683 126.24083 \nL 86.21394 126.771197 \nL 92.336197 126.846963 \nL 98.458454 126.46813 \nL 104.580711 125.634696 \nL 110.702968 124.346663 \nL 116.825225 122.604029 \nL 122.947482 120.406795 \nL 129.069739 117.754961 \nL 135.191996 114.648527 \nL 141.314254 111.087492 \nL 147.436511 107.071858 \nL 153.558768 102.601624 \nL 159.681025 97.676789 \nL 165.803282 92.297354 \nL 171.925539 86.463319 \nL 178.047796 80.174684 \nL 184.170053 73.431449 \nL 190.29231 66.233614 \nL 196.414567 58.581179 \nL 202.536824 50.474143 \nL 208.659081 41.912508 \nL 214.781338 32.896272 \nL 220.903595 23.425436 \nL 227.025852 13.5 \n\" clip-path=\"url(#p25492f530e)\" style=\"fill: none; stroke: #1f77b4; stroke-width: 1.5; stroke-linecap: square\"/>\n   </g>\n   <g id=\"line2d_16\">\n    <path d=\"M 49.480398 139.5 \nL 55.602655 137.984666 \nL 61.724912 136.469333 \nL 67.847169 134.953999 \nL 73.969426 133.438665 \nL 80.091683 131.923331 \nL 86.21394 130.407998 \nL 92.336197 128.892664 \nL 98.458454 127.37733 \nL 104.580711 125.861996 \nL 110.702968 124.346663 \nL 116.825225 122.831329 \nL 122.947482 121.315995 \nL 129.069739 119.800661 \nL 135.191996 118.285328 \nL 141.314254 116.769994 \nL 147.436511 115.25466 \nL 153.558768 113.739327 \nL 159.681025 112.223993 \nL 165.803282 110.708659 \nL 171.925539 109.193325 \nL 178.047796 107.677992 \nL 184.170053 106.162658 \nL 190.29231 104.647324 \nL 196.414567 103.13199 \nL 202.536824 101.616657 \nL 208.659081 100.101323 \nL 214.781338 98.585989 \nL 220.903595 97.070655 \nL 227.025852 95.555322 \n\" clip-path=\"url(#p25492f530e)\" style=\"fill: none; stroke-dasharray: 5.55,2.4; stroke-dashoffset: 0; stroke: #bf00bf; stroke-width: 1.5\"/>\n   </g>\n   <g id=\"patch_3\">\n    <path d=\"M 40.603125 145.8 \nL 40.603125 7.2 \n\" style=\"fill: none; stroke: #000000; stroke-width: 0.8; stroke-linejoin: miter; stroke-linecap: square\"/>\n   </g>\n   <g id=\"patch_4\">\n    <path d=\"M 235.903125 145.8 \nL 235.903125 7.2 \n\" style=\"fill: none; stroke: #000000; stroke-width: 0.8; stroke-linejoin: miter; stroke-linecap: square\"/>\n   </g>\n   <g id=\"patch_5\">\n    <path d=\"M 40.603125 145.8 \nL 235.903125 145.8 \n\" style=\"fill: none; stroke: #000000; stroke-width: 0.8; stroke-linejoin: miter; stroke-linecap: square\"/>\n   </g>\n   <g id=\"patch_6\">\n    <path d=\"M 40.603125 7.2 \nL 235.903125 7.2 \n\" style=\"fill: none; stroke: #000000; stroke-width: 0.8; stroke-linejoin: miter; stroke-linecap: square\"/>\n   </g>\n   <g id=\"legend_1\">\n    <g id=\"patch_7\">\n     <path d=\"M 47.603125 44.55625 \nL 172.153125 44.55625 \nQ 174.153125 44.55625 174.153125 42.55625 \nL 174.153125 14.2 \nQ 174.153125 12.2 172.153125 12.2 \nL 47.603125 12.2 \nQ 45.603125 12.2 45.603125 14.2 \nL 45.603125 42.55625 \nQ 45.603125 44.55625 47.603125 44.55625 \nz\n\" style=\"fill: #ffffff; opacity: 0.8; stroke: #cccccc; stroke-linejoin: miter\"/>\n    </g>\n    <g id=\"line2d_17\">\n     <path d=\"M 49.603125 20.298438 \nL 59.603125 20.298438 \nL 69.603125 20.298438 \n\" style=\"fill: none; stroke: #1f77b4; stroke-width: 1.5; stroke-linecap: square\"/>\n    </g>\n    <g id=\"text_10\">\n     <!-- f(x) -->\n     <g transform=\"translate(77.603125 23.798438) scale(0.1 -0.1)\">\n      <use xlink:href=\"#DejaVuSans-66\"/>\n      <use xlink:href=\"#DejaVuSans-28\" x=\"35.205078\"/>\n      <use xlink:href=\"#DejaVuSans-78\" x=\"74.21875\"/>\n      <use xlink:href=\"#DejaVuSans-29\" x=\"133.398438\"/>\n     </g>\n    </g>\n    <g id=\"line2d_18\">\n     <path d=\"M 49.603125 34.976562 \nL 59.603125 34.976562 \nL 69.603125 34.976562 \n\" style=\"fill: none; stroke-dasharray: 5.55,2.4; stroke-dashoffset: 0; stroke: #bf00bf; stroke-width: 1.5\"/>\n    </g>\n    <g id=\"text_11\">\n     <!-- Tangent line (x=1) -->\n     <g transform=\"translate(77.603125 38.476562) scale(0.1 -0.1)\">\n      <defs>\n       <path id=\"DejaVuSans-54\" d=\"M -19 4666 \nL 3928 4666 \nL 3928 4134 \nL 2272 4134 \nL 2272 0 \nL 1638 0 \nL 1638 4134 \nL -19 4134 \nL -19 4666 \nz\n\" transform=\"scale(0.015625)\"/>\n       <path id=\"DejaVuSans-61\" d=\"M 2194 1759 \nQ 1497 1759 1228 1600 \nQ 959 1441 959 1056 \nQ 959 750 1161 570 \nQ 1363 391 1709 391 \nQ 2188 391 2477 730 \nQ 2766 1069 2766 1631 \nL 2766 1759 \nL 2194 1759 \nz\nM 3341 1997 \nL 3341 0 \nL 2766 0 \nL 2766 531 \nQ 2569 213 2275 61 \nQ 1981 -91 1556 -91 \nQ 1019 -91 701 211 \nQ 384 513 384 1019 \nQ 384 1609 779 1909 \nQ 1175 2209 1959 2209 \nL 2766 2209 \nL 2766 2266 \nQ 2766 2663 2505 2880 \nQ 2244 3097 1772 3097 \nQ 1472 3097 1187 3025 \nQ 903 2953 641 2809 \nL 641 3341 \nQ 956 3463 1253 3523 \nQ 1550 3584 1831 3584 \nQ 2591 3584 2966 3190 \nQ 3341 2797 3341 1997 \nz\n\" transform=\"scale(0.015625)\"/>\n       <path id=\"DejaVuSans-6e\" d=\"M 3513 2113 \nL 3513 0 \nL 2938 0 \nL 2938 2094 \nQ 2938 2591 2744 2837 \nQ 2550 3084 2163 3084 \nQ 1697 3084 1428 2787 \nQ 1159 2491 1159 1978 \nL 1159 0 \nL 581 0 \nL 581 3500 \nL 1159 3500 \nL 1159 2956 \nQ 1366 3272 1645 3428 \nQ 1925 3584 2291 3584 \nQ 2894 3584 3203 3211 \nQ 3513 2838 3513 2113 \nz\n\" transform=\"scale(0.015625)\"/>\n       <path id=\"DejaVuSans-67\" d=\"M 2906 1791 \nQ 2906 2416 2648 2759 \nQ 2391 3103 1925 3103 \nQ 1463 3103 1205 2759 \nQ 947 2416 947 1791 \nQ 947 1169 1205 825 \nQ 1463 481 1925 481 \nQ 2391 481 2648 825 \nQ 2906 1169 2906 1791 \nz\nM 3481 434 \nQ 3481 -459 3084 -895 \nQ 2688 -1331 1869 -1331 \nQ 1566 -1331 1297 -1286 \nQ 1028 -1241 775 -1147 \nL 775 -588 \nQ 1028 -725 1275 -790 \nQ 1522 -856 1778 -856 \nQ 2344 -856 2625 -561 \nQ 2906 -266 2906 331 \nL 2906 616 \nQ 2728 306 2450 153 \nQ 2172 0 1784 0 \nQ 1141 0 747 490 \nQ 353 981 353 1791 \nQ 353 2603 747 3093 \nQ 1141 3584 1784 3584 \nQ 2172 3584 2450 3431 \nQ 2728 3278 2906 2969 \nL 2906 3500 \nL 3481 3500 \nL 3481 434 \nz\n\" transform=\"scale(0.015625)\"/>\n       <path id=\"DejaVuSans-65\" d=\"M 3597 1894 \nL 3597 1613 \nL 953 1613 \nQ 991 1019 1311 708 \nQ 1631 397 2203 397 \nQ 2534 397 2845 478 \nQ 3156 559 3463 722 \nL 3463 178 \nQ 3153 47 2828 -22 \nQ 2503 -91 2169 -91 \nQ 1331 -91 842 396 \nQ 353 884 353 1716 \nQ 353 2575 817 3079 \nQ 1281 3584 2069 3584 \nQ 2775 3584 3186 3129 \nQ 3597 2675 3597 1894 \nz\nM 3022 2063 \nQ 3016 2534 2758 2815 \nQ 2500 3097 2075 3097 \nQ 1594 3097 1305 2825 \nQ 1016 2553 972 2059 \nL 3022 2063 \nz\n\" transform=\"scale(0.015625)\"/>\n       <path id=\"DejaVuSans-74\" d=\"M 1172 4494 \nL 1172 3500 \nL 2356 3500 \nL 2356 3053 \nL 1172 3053 \nL 1172 1153 \nQ 1172 725 1289 603 \nQ 1406 481 1766 481 \nL 2356 481 \nL 2356 0 \nL 1766 0 \nQ 1100 0 847 248 \nQ 594 497 594 1153 \nL 594 3053 \nL 172 3053 \nL 172 3500 \nL 594 3500 \nL 594 4494 \nL 1172 4494 \nz\n\" transform=\"scale(0.015625)\"/>\n       <path id=\"DejaVuSans-20\" transform=\"scale(0.015625)\"/>\n       <path id=\"DejaVuSans-6c\" d=\"M 603 4863 \nL 1178 4863 \nL 1178 0 \nL 603 0 \nL 603 4863 \nz\n\" transform=\"scale(0.015625)\"/>\n       <path id=\"DejaVuSans-69\" d=\"M 603 3500 \nL 1178 3500 \nL 1178 0 \nL 603 0 \nL 603 3500 \nz\nM 603 4863 \nL 1178 4863 \nL 1178 4134 \nL 603 4134 \nL 603 4863 \nz\n\" transform=\"scale(0.015625)\"/>\n       <path id=\"DejaVuSans-3d\" d=\"M 678 2906 \nL 4684 2906 \nL 4684 2381 \nL 678 2381 \nL 678 2906 \nz\nM 678 1631 \nL 4684 1631 \nL 4684 1100 \nL 678 1100 \nL 678 1631 \nz\n\" transform=\"scale(0.015625)\"/>\n      </defs>\n      <use xlink:href=\"#DejaVuSans-54\"/>\n      <use xlink:href=\"#DejaVuSans-61\" x=\"44.583984\"/>\n      <use xlink:href=\"#DejaVuSans-6e\" x=\"105.863281\"/>\n      <use xlink:href=\"#DejaVuSans-67\" x=\"169.242188\"/>\n      <use xlink:href=\"#DejaVuSans-65\" x=\"232.71875\"/>\n      <use xlink:href=\"#DejaVuSans-6e\" x=\"294.242188\"/>\n      <use xlink:href=\"#DejaVuSans-74\" x=\"357.621094\"/>\n      <use xlink:href=\"#DejaVuSans-20\" x=\"396.830078\"/>\n      <use xlink:href=\"#DejaVuSans-6c\" x=\"428.617188\"/>\n      <use xlink:href=\"#DejaVuSans-69\" x=\"456.400391\"/>\n      <use xlink:href=\"#DejaVuSans-6e\" x=\"484.183594\"/>\n      <use xlink:href=\"#DejaVuSans-65\" x=\"547.5625\"/>\n      <use xlink:href=\"#DejaVuSans-20\" x=\"609.085938\"/>\n      <use xlink:href=\"#DejaVuSans-28\" x=\"640.873047\"/>\n      <use xlink:href=\"#DejaVuSans-78\" x=\"679.886719\"/>\n      <use xlink:href=\"#DejaVuSans-3d\" x=\"739.066406\"/>\n      <use xlink:href=\"#DejaVuSans-31\" x=\"822.855469\"/>\n      <use xlink:href=\"#DejaVuSans-29\" x=\"886.478516\"/>\n     </g>\n    </g>\n   </g>\n  </g>\n </g>\n <defs>\n  <clipPath id=\"p25492f530e\">\n   <rect x=\"40.603125\" y=\"7.2\" width=\"195.3\" height=\"138.6\"/>\n  </clipPath>\n </defs>\n</svg>\n"
          },
          "metadata": {}
        }
      ]
    },
    {
      "cell_type": "markdown",
      "source": [
        "### **Gradient**\n",
        "\n"
      ],
      "metadata": {
        "id": "sftPQVEHwqbK"
      }
    },
    {
      "cell_type": "markdown",
      "source": [
        "Suppose that $\\mathbf{x} = [x_1,...,x_n]^T \\in \\mathbb{R}^{n}$, then the gradient of $f(\\mathbf{x})$ for $\\mathbf{x}$ is\n",
        "\n",
        "\\begin{equation}\n",
        "  \\nabla_{x}f(\\mathbf{x}) = [\\frac{∂ f(\\mathbf{x})}{∂ x_{1}}, \\frac{∂ f(\\mathbf{x})}{∂ x_{2}}, ..., \\frac{∂ f(\\mathbf{x})}{∂ x_{n}} ]^{T}\n",
        "\\end{equation}\n",
        "\n",
        "- For all $\\mathbf{A} \\in \\mathbb{R}^{m \\times n}$, $\\nabla_{x} \\mathbf{A}\\mathbf{x} = \\mathbf{A}^{T}$.\n",
        "\n",
        "- For all $\\mathbf{A} \\in \\mathbb{R}^{n \\times m}$, $\\nabla_{x} \\mathbf{x}^{T} \\mathbf{A} = \\mathbf{A}$.\n",
        "\n",
        "- For all $\\mathbf{A} \\in \\mathbb{R}^{n \\times n}$, $\\nabla_{x} \\mathbf{x}^{T} \\mathbf{A} \\mathbf{x} = (\\mathbf{A}+\\mathbf{A}^{T} ) \\mathbf{x}$.\n",
        "\n",
        "- $\\nabla_{x} ||\\mathbf{x}|| =  \\nabla_{x} \\mathbf{x}^{T} \\mathbf{x} = 2\\mathbf{x}$\n",
        "\n",
        "- For all $\\mathbf{X} \\in \\mathbb{R}^{m \\times n}$, $\\nabla_{X} ||\\mathbf{X}||_{F} = 2\\mathbf{X}$"
      ],
      "metadata": {
        "id": "-AaQUGdPw1N0"
      }
    },
    {
      "cell_type": "markdown",
      "source": [
        "### **Exer**"
      ],
      "metadata": {
        "id": "Ac1AX94RDA48"
      }
    },
    {
      "cell_type": "markdown",
      "source": [
        "1. 绘制函数$y = f(x) = x^{3}- \\frac{1}{x}$ 和其在$x=1$处切线的图像。"
      ],
      "metadata": {
        "id": "QWKkNkGJtd5l"
      }
    },
    {
      "cell_type": "code",
      "source": [
        "def f(x):\n",
        "  return x**3 - 1/x\n",
        "\n",
        "h = 0.1\n",
        "for i in range(5):\n",
        "  print( f'h = {h:.5f}, numerical limit = {numerical_lim(f, 1, h):.5f}' )\n",
        "  h *= 0.1"
      ],
      "metadata": {
        "colab": {
          "base_uri": "https://localhost:8080/",
          "height": 0
        },
        "id": "7g3S5ec1tUxM",
        "outputId": "77489018-b3a5-4f0b-a04b-99c180555e12"
      },
      "execution_count": 350,
      "outputs": [
        {
          "output_type": "stream",
          "name": "stdout",
          "text": [
            "h = 0.10000, numerical limit = 4.21909\n",
            "h = 0.01000, numerical limit = 4.02020\n",
            "h = 0.00100, numerical limit = 4.00200\n",
            "h = 0.00010, numerical limit = 4.00020\n",
            "h = 0.00001, numerical limit = 4.00002\n"
          ]
        }
      ]
    },
    {
      "cell_type": "code",
      "source": [
        "x = np.arange(0, 3, 0.1)\n",
        "plot(x,[f(x), 4*x-4 ], 'x', 'f(x)', legend=['f(x)', 'Tangent line (x=1)'])"
      ],
      "metadata": {
        "colab": {
          "base_uri": "https://localhost:8080/",
          "height": 321
        },
        "id": "CYmZa3DStmO1",
        "outputId": "10dd13fa-d456-417a-b3e5-79da94532d25"
      },
      "execution_count": 351,
      "outputs": [
        {
          "output_type": "stream",
          "name": "stderr",
          "text": [
            "<ipython-input-350-83ba00a5fff1>:2: RuntimeWarning: divide by zero encountered in true_divide\n",
            "  return x**3 - 1/x\n"
          ]
        },
        {
          "output_type": "display_data",
          "data": {
            "text/plain": [
              "<Figure size 350x250 with 1 Axes>"
            ],
            "image/svg+xml": "<?xml version=\"1.0\" encoding=\"utf-8\" standalone=\"no\"?>\n<!DOCTYPE svg PUBLIC \"-//W3C//DTD SVG 1.1//EN\"\n  \"http://www.w3.org/Graphics/SVG/1.1/DTD/svg11.dtd\">\n<svg xmlns:xlink=\"http://www.w3.org/1999/xlink\" width=\"251.909047pt\" height=\"183.35625pt\" viewBox=\"0 0 251.909047 183.35625\" xmlns=\"http://www.w3.org/2000/svg\" version=\"1.1\">\n <metadata>\n  <rdf:RDF xmlns:dc=\"http://purl.org/dc/elements/1.1/\" xmlns:cc=\"http://creativecommons.org/ns#\" xmlns:rdf=\"http://www.w3.org/1999/02/22-rdf-syntax-ns#\">\n   <cc:Work>\n    <dc:type rdf:resource=\"http://purl.org/dc/dcmitype/StillImage\"/>\n    <dc:date>2023-07-06T12:03:37.180860</dc:date>\n    <dc:format>image/svg+xml</dc:format>\n    <dc:creator>\n     <cc:Agent>\n      <dc:title>Matplotlib v3.7.1, https://matplotlib.org/</dc:title>\n     </cc:Agent>\n    </dc:creator>\n   </cc:Work>\n  </rdf:RDF>\n </metadata>\n <defs>\n  <style type=\"text/css\">*{stroke-linejoin: round; stroke-linecap: butt}</style>\n </defs>\n <g id=\"figure_1\">\n  <g id=\"patch_1\">\n   <path d=\"M -0 183.35625 \nL 251.909047 183.35625 \nL 251.909047 0 \nL -0 0 \nz\n\" style=\"fill: #ffffff\"/>\n  </g>\n  <g id=\"axes_1\">\n   <g id=\"patch_2\">\n    <path d=\"M 48.982813 145.8 \nL 244.282813 145.8 \nL 244.282813 7.2 \nL 48.982813 7.2 \nz\n\" style=\"fill: #ffffff\"/>\n   </g>\n   <g id=\"matplotlib.axis_1\">\n    <g id=\"xtick_1\">\n     <g id=\"line2d_1\">\n      <path d=\"M 57.860085 145.8 \nL 57.860085 7.2 \n\" clip-path=\"url(#p055f8ef620)\" style=\"fill: none; stroke: #b0b0b0; stroke-width: 0.8; stroke-linecap: square\"/>\n     </g>\n     <g id=\"line2d_2\">\n      <defs>\n       <path id=\"meca04d5ecb\" d=\"M 0 0 \nL 0 3.5 \n\" style=\"stroke: #000000; stroke-width: 0.8\"/>\n      </defs>\n      <g>\n       <use xlink:href=\"#meca04d5ecb\" x=\"57.860085\" y=\"145.8\" style=\"stroke: #000000; stroke-width: 0.8\"/>\n      </g>\n     </g>\n     <g id=\"text_1\">\n      <!-- 0 -->\n      <g transform=\"translate(54.678835 160.398438) scale(0.1 -0.1)\">\n       <defs>\n        <path id=\"DejaVuSans-30\" d=\"M 2034 4250 \nQ 1547 4250 1301 3770 \nQ 1056 3291 1056 2328 \nQ 1056 1369 1301 889 \nQ 1547 409 2034 409 \nQ 2525 409 2770 889 \nQ 3016 1369 3016 2328 \nQ 3016 3291 2770 3770 \nQ 2525 4250 2034 4250 \nz\nM 2034 4750 \nQ 2819 4750 3233 4129 \nQ 3647 3509 3647 2328 \nQ 3647 1150 3233 529 \nQ 2819 -91 2034 -91 \nQ 1250 -91 836 529 \nQ 422 1150 422 2328 \nQ 422 3509 836 4129 \nQ 1250 4750 2034 4750 \nz\n\" transform=\"scale(0.015625)\"/>\n       </defs>\n       <use xlink:href=\"#DejaVuSans-30\"/>\n      </g>\n     </g>\n    </g>\n    <g id=\"xtick_2\">\n     <g id=\"line2d_3\">\n      <path d=\"M 119.082656 145.8 \nL 119.082656 7.2 \n\" clip-path=\"url(#p055f8ef620)\" style=\"fill: none; stroke: #b0b0b0; stroke-width: 0.8; stroke-linecap: square\"/>\n     </g>\n     <g id=\"line2d_4\">\n      <g>\n       <use xlink:href=\"#meca04d5ecb\" x=\"119.082656\" y=\"145.8\" style=\"stroke: #000000; stroke-width: 0.8\"/>\n      </g>\n     </g>\n     <g id=\"text_2\">\n      <!-- 1 -->\n      <g transform=\"translate(115.901406 160.398438) scale(0.1 -0.1)\">\n       <defs>\n        <path id=\"DejaVuSans-31\" d=\"M 794 531 \nL 1825 531 \nL 1825 4091 \nL 703 3866 \nL 703 4441 \nL 1819 4666 \nL 2450 4666 \nL 2450 531 \nL 3481 531 \nL 3481 0 \nL 794 0 \nL 794 531 \nz\n\" transform=\"scale(0.015625)\"/>\n       </defs>\n       <use xlink:href=\"#DejaVuSans-31\"/>\n      </g>\n     </g>\n    </g>\n    <g id=\"xtick_3\">\n     <g id=\"line2d_5\">\n      <path d=\"M 180.305226 145.8 \nL 180.305226 7.2 \n\" clip-path=\"url(#p055f8ef620)\" style=\"fill: none; stroke: #b0b0b0; stroke-width: 0.8; stroke-linecap: square\"/>\n     </g>\n     <g id=\"line2d_6\">\n      <g>\n       <use xlink:href=\"#meca04d5ecb\" x=\"180.305226\" y=\"145.8\" style=\"stroke: #000000; stroke-width: 0.8\"/>\n      </g>\n     </g>\n     <g id=\"text_3\">\n      <!-- 2 -->\n      <g transform=\"translate(177.123976 160.398438) scale(0.1 -0.1)\">\n       <defs>\n        <path id=\"DejaVuSans-32\" d=\"M 1228 531 \nL 3431 531 \nL 3431 0 \nL 469 0 \nL 469 531 \nQ 828 903 1448 1529 \nQ 2069 2156 2228 2338 \nQ 2531 2678 2651 2914 \nQ 2772 3150 2772 3378 \nQ 2772 3750 2511 3984 \nQ 2250 4219 1831 4219 \nQ 1534 4219 1204 4116 \nQ 875 4013 500 3803 \nL 500 4441 \nQ 881 4594 1212 4672 \nQ 1544 4750 1819 4750 \nQ 2544 4750 2975 4387 \nQ 3406 4025 3406 3419 \nQ 3406 3131 3298 2873 \nQ 3191 2616 2906 2266 \nQ 2828 2175 2409 1742 \nQ 1991 1309 1228 531 \nz\n\" transform=\"scale(0.015625)\"/>\n       </defs>\n       <use xlink:href=\"#DejaVuSans-32\"/>\n      </g>\n     </g>\n    </g>\n    <g id=\"xtick_4\">\n     <g id=\"line2d_7\">\n      <path d=\"M 241.527797 145.8 \nL 241.527797 7.2 \n\" clip-path=\"url(#p055f8ef620)\" style=\"fill: none; stroke: #b0b0b0; stroke-width: 0.8; stroke-linecap: square\"/>\n     </g>\n     <g id=\"line2d_8\">\n      <g>\n       <use xlink:href=\"#meca04d5ecb\" x=\"241.527797\" y=\"145.8\" style=\"stroke: #000000; stroke-width: 0.8\"/>\n      </g>\n     </g>\n     <g id=\"text_4\">\n      <!-- 3 -->\n      <g transform=\"translate(238.346547 160.398438) scale(0.1 -0.1)\">\n       <defs>\n        <path id=\"DejaVuSans-33\" d=\"M 2597 2516 \nQ 3050 2419 3304 2112 \nQ 3559 1806 3559 1356 \nQ 3559 666 3084 287 \nQ 2609 -91 1734 -91 \nQ 1441 -91 1130 -33 \nQ 819 25 488 141 \nL 488 750 \nQ 750 597 1062 519 \nQ 1375 441 1716 441 \nQ 2309 441 2620 675 \nQ 2931 909 2931 1356 \nQ 2931 1769 2642 2001 \nQ 2353 2234 1838 2234 \nL 1294 2234 \nL 1294 2753 \nL 1863 2753 \nQ 2328 2753 2575 2939 \nQ 2822 3125 2822 3475 \nQ 2822 3834 2567 4026 \nQ 2313 4219 1838 4219 \nQ 1578 4219 1281 4162 \nQ 984 4106 628 3988 \nL 628 4550 \nQ 988 4650 1302 4700 \nQ 1616 4750 1894 4750 \nQ 2613 4750 3031 4423 \nQ 3450 4097 3450 3541 \nQ 3450 3153 3228 2886 \nQ 3006 2619 2597 2516 \nz\n\" transform=\"scale(0.015625)\"/>\n       </defs>\n       <use xlink:href=\"#DejaVuSans-33\"/>\n      </g>\n     </g>\n    </g>\n    <g id=\"text_5\">\n     <!-- x -->\n     <g transform=\"translate(143.673438 174.076563) scale(0.1 -0.1)\">\n      <defs>\n       <path id=\"DejaVuSans-78\" d=\"M 3513 3500 \nL 2247 1797 \nL 3578 0 \nL 2900 0 \nL 1881 1375 \nL 863 0 \nL 184 0 \nL 1544 1831 \nL 300 3500 \nL 978 3500 \nL 1906 2253 \nL 2834 3500 \nL 3513 3500 \nz\n\" transform=\"scale(0.015625)\"/>\n      </defs>\n      <use xlink:href=\"#DejaVuSans-78\"/>\n     </g>\n    </g>\n   </g>\n   <g id=\"matplotlib.axis_2\">\n    <g id=\"ytick_1\">\n     <g id=\"line2d_9\">\n      <path d=\"M 48.982813 139.503701 \nL 244.282813 139.503701 \n\" clip-path=\"url(#p055f8ef620)\" style=\"fill: none; stroke: #b0b0b0; stroke-width: 0.8; stroke-linecap: square\"/>\n     </g>\n     <g id=\"line2d_10\">\n      <defs>\n       <path id=\"m7ee840a112\" d=\"M 0 0 \nL -3.5 0 \n\" style=\"stroke: #000000; stroke-width: 0.8\"/>\n      </defs>\n      <g>\n       <use xlink:href=\"#m7ee840a112\" x=\"48.982813\" y=\"139.503701\" style=\"stroke: #000000; stroke-width: 0.8\"/>\n      </g>\n     </g>\n     <g id=\"text_6\">\n      <!-- −10 -->\n      <g transform=\"translate(20.878125 143.30292) scale(0.1 -0.1)\">\n       <defs>\n        <path id=\"DejaVuSans-2212\" d=\"M 678 2272 \nL 4684 2272 \nL 4684 1741 \nL 678 1741 \nL 678 2272 \nz\n\" transform=\"scale(0.015625)\"/>\n       </defs>\n       <use xlink:href=\"#DejaVuSans-2212\"/>\n       <use xlink:href=\"#DejaVuSans-31\" x=\"83.789062\"/>\n       <use xlink:href=\"#DejaVuSans-30\" x=\"147.412109\"/>\n      </g>\n     </g>\n    </g>\n    <g id=\"ytick_2\">\n     <g id=\"line2d_11\">\n      <path d=\"M 48.982813 102.491874 \nL 244.282813 102.491874 \n\" clip-path=\"url(#p055f8ef620)\" style=\"fill: none; stroke: #b0b0b0; stroke-width: 0.8; stroke-linecap: square\"/>\n     </g>\n     <g id=\"line2d_12\">\n      <g>\n       <use xlink:href=\"#m7ee840a112\" x=\"48.982813\" y=\"102.491874\" style=\"stroke: #000000; stroke-width: 0.8\"/>\n      </g>\n     </g>\n     <g id=\"text_7\">\n      <!-- 0 -->\n      <g transform=\"translate(35.620313 106.291093) scale(0.1 -0.1)\">\n       <use xlink:href=\"#DejaVuSans-30\"/>\n      </g>\n     </g>\n    </g>\n    <g id=\"ytick_3\">\n     <g id=\"line2d_13\">\n      <path d=\"M 48.982813 65.480048 \nL 244.282813 65.480048 \n\" clip-path=\"url(#p055f8ef620)\" style=\"fill: none; stroke: #b0b0b0; stroke-width: 0.8; stroke-linecap: square\"/>\n     </g>\n     <g id=\"line2d_14\">\n      <g>\n       <use xlink:href=\"#m7ee840a112\" x=\"48.982813\" y=\"65.480048\" style=\"stroke: #000000; stroke-width: 0.8\"/>\n      </g>\n     </g>\n     <g id=\"text_8\">\n      <!-- 10 -->\n      <g transform=\"translate(29.257813 69.279266) scale(0.1 -0.1)\">\n       <use xlink:href=\"#DejaVuSans-31\"/>\n       <use xlink:href=\"#DejaVuSans-30\" x=\"63.623047\"/>\n      </g>\n     </g>\n    </g>\n    <g id=\"ytick_4\">\n     <g id=\"line2d_15\">\n      <path d=\"M 48.982813 28.468221 \nL 244.282813 28.468221 \n\" clip-path=\"url(#p055f8ef620)\" style=\"fill: none; stroke: #b0b0b0; stroke-width: 0.8; stroke-linecap: square\"/>\n     </g>\n     <g id=\"line2d_16\">\n      <g>\n       <use xlink:href=\"#m7ee840a112\" x=\"48.982813\" y=\"28.468221\" style=\"stroke: #000000; stroke-width: 0.8\"/>\n      </g>\n     </g>\n     <g id=\"text_9\">\n      <!-- 20 -->\n      <g transform=\"translate(29.257813 32.26744) scale(0.1 -0.1)\">\n       <use xlink:href=\"#DejaVuSans-32\"/>\n       <use xlink:href=\"#DejaVuSans-30\" x=\"63.623047\"/>\n      </g>\n     </g>\n    </g>\n    <g id=\"text_10\">\n     <!-- f(x) -->\n     <g transform=\"translate(14.798438 85.121094) rotate(-90) scale(0.1 -0.1)\">\n      <defs>\n       <path id=\"DejaVuSans-66\" d=\"M 2375 4863 \nL 2375 4384 \nL 1825 4384 \nQ 1516 4384 1395 4259 \nQ 1275 4134 1275 3809 \nL 1275 3500 \nL 2222 3500 \nL 2222 3053 \nL 1275 3053 \nL 1275 0 \nL 697 0 \nL 697 3053 \nL 147 3053 \nL 147 3500 \nL 697 3500 \nL 697 3744 \nQ 697 4328 969 4595 \nQ 1241 4863 1831 4863 \nL 2375 4863 \nz\n\" transform=\"scale(0.015625)\"/>\n       <path id=\"DejaVuSans-28\" d=\"M 1984 4856 \nQ 1566 4138 1362 3434 \nQ 1159 2731 1159 2009 \nQ 1159 1288 1364 580 \nQ 1569 -128 1984 -844 \nL 1484 -844 \nQ 1016 -109 783 600 \nQ 550 1309 550 2009 \nQ 550 2706 781 3412 \nQ 1013 4119 1484 4856 \nL 1984 4856 \nz\n\" transform=\"scale(0.015625)\"/>\n       <path id=\"DejaVuSans-29\" d=\"M 513 4856 \nL 1013 4856 \nQ 1481 4119 1714 3412 \nQ 1947 2706 1947 2009 \nQ 1947 1309 1714 600 \nQ 1481 -109 1013 -844 \nL 513 -844 \nQ 928 -128 1133 580 \nQ 1338 1288 1338 2009 \nQ 1338 2731 1133 3434 \nQ 928 4138 513 4856 \nz\n\" transform=\"scale(0.015625)\"/>\n      </defs>\n      <use xlink:href=\"#DejaVuSans-66\"/>\n      <use xlink:href=\"#DejaVuSans-28\" x=\"35.205078\"/>\n      <use xlink:href=\"#DejaVuSans-78\" x=\"74.21875\"/>\n      <use xlink:href=\"#DejaVuSans-29\" x=\"133.398438\"/>\n     </g>\n    </g>\n   </g>\n   <g id=\"line2d_17\">\n    <path d=\"M 63.982342 139.5 \nL 70.104599 120.968178 \nL 76.226856 114.729218 \nL 82.349113 111.507955 \nL 88.47137 109.431592 \nL 94.593628 107.861057 \nL 100.715885 106.509773 \nL 106.838142 105.223347 \nL 112.960399 103.906137 \nL 119.082656 102.491874 \nL 125.204913 100.930312 \nL 131.32717 99.18055 \nL 137.449427 97.20744 \nL 143.571684 94.979531 \nL 149.693941 92.467838 \nL 155.816198 89.645069 \nL 161.938455 86.48513 \nL 168.060712 82.96279 \nL 174.182969 79.053453 \nL 180.305226 74.733004 \nL 186.427483 69.97769 \nL 192.54974 64.764037 \nL 198.671997 59.068795 \nL 204.794255 52.868885 \nL 210.916512 46.141368 \nL 217.038769 38.863419 \nL 223.161026 31.012304 \nL 229.283283 22.565363 \nL 235.40554 13.5 \n\" clip-path=\"url(#p055f8ef620)\" style=\"fill: none; stroke: #1f77b4; stroke-width: 1.5; stroke-linecap: square\"/>\n   </g>\n   <g id=\"line2d_18\">\n    <path d=\"M 57.860085 117.296605 \nL 63.982342 115.816132 \nL 70.104599 114.335659 \nL 76.226856 112.855186 \nL 82.349113 111.374713 \nL 88.47137 109.89424 \nL 94.593628 108.413767 \nL 100.715885 106.933294 \nL 106.838142 105.452821 \nL 112.960399 103.972347 \nL 119.082656 102.491874 \nL 125.204913 101.011401 \nL 131.32717 99.530928 \nL 137.449427 98.050455 \nL 143.571684 96.569982 \nL 149.693941 95.089509 \nL 155.816198 93.609036 \nL 161.938455 92.128563 \nL 168.060712 90.64809 \nL 174.182969 89.167617 \nL 180.305226 87.687144 \nL 186.427483 86.206671 \nL 192.54974 84.726198 \nL 198.671997 83.245724 \nL 204.794255 81.765251 \nL 210.916512 80.284778 \nL 217.038769 78.804305 \nL 223.161026 77.323832 \nL 229.283283 75.843359 \nL 235.40554 74.362886 \n\" clip-path=\"url(#p055f8ef620)\" style=\"fill: none; stroke-dasharray: 5.55,2.4; stroke-dashoffset: 0; stroke: #bf00bf; stroke-width: 1.5\"/>\n   </g>\n   <g id=\"patch_3\">\n    <path d=\"M 48.982813 145.8 \nL 48.982813 7.2 \n\" style=\"fill: none; stroke: #000000; stroke-width: 0.8; stroke-linejoin: miter; stroke-linecap: square\"/>\n   </g>\n   <g id=\"patch_4\">\n    <path d=\"M 244.282813 145.8 \nL 244.282813 7.2 \n\" style=\"fill: none; stroke: #000000; stroke-width: 0.8; stroke-linejoin: miter; stroke-linecap: square\"/>\n   </g>\n   <g id=\"patch_5\">\n    <path d=\"M 48.982813 145.8 \nL 244.282813 145.8 \n\" style=\"fill: none; stroke: #000000; stroke-width: 0.8; stroke-linejoin: miter; stroke-linecap: square\"/>\n   </g>\n   <g id=\"patch_6\">\n    <path d=\"M 48.982813 7.2 \nL 244.282813 7.2 \n\" style=\"fill: none; stroke: #000000; stroke-width: 0.8; stroke-linejoin: miter; stroke-linecap: square\"/>\n   </g>\n   <g id=\"legend_1\">\n    <g id=\"patch_7\">\n     <path d=\"M 55.982813 44.55625 \nL 180.532813 44.55625 \nQ 182.532813 44.55625 182.532813 42.55625 \nL 182.532813 14.2 \nQ 182.532813 12.2 180.532813 12.2 \nL 55.982813 12.2 \nQ 53.982813 12.2 53.982813 14.2 \nL 53.982813 42.55625 \nQ 53.982813 44.55625 55.982813 44.55625 \nz\n\" style=\"fill: #ffffff; opacity: 0.8; stroke: #cccccc; stroke-linejoin: miter\"/>\n    </g>\n    <g id=\"line2d_19\">\n     <path d=\"M 57.982813 20.298438 \nL 67.982813 20.298438 \nL 77.982813 20.298438 \n\" style=\"fill: none; stroke: #1f77b4; stroke-width: 1.5; stroke-linecap: square\"/>\n    </g>\n    <g id=\"text_11\">\n     <!-- f(x) -->\n     <g transform=\"translate(85.982813 23.798438) scale(0.1 -0.1)\">\n      <use xlink:href=\"#DejaVuSans-66\"/>\n      <use xlink:href=\"#DejaVuSans-28\" x=\"35.205078\"/>\n      <use xlink:href=\"#DejaVuSans-78\" x=\"74.21875\"/>\n      <use xlink:href=\"#DejaVuSans-29\" x=\"133.398438\"/>\n     </g>\n    </g>\n    <g id=\"line2d_20\">\n     <path d=\"M 57.982813 34.976562 \nL 67.982813 34.976562 \nL 77.982813 34.976562 \n\" style=\"fill: none; stroke-dasharray: 5.55,2.4; stroke-dashoffset: 0; stroke: #bf00bf; stroke-width: 1.5\"/>\n    </g>\n    <g id=\"text_12\">\n     <!-- Tangent line (x=1) -->\n     <g transform=\"translate(85.982813 38.476562) scale(0.1 -0.1)\">\n      <defs>\n       <path id=\"DejaVuSans-54\" d=\"M -19 4666 \nL 3928 4666 \nL 3928 4134 \nL 2272 4134 \nL 2272 0 \nL 1638 0 \nL 1638 4134 \nL -19 4134 \nL -19 4666 \nz\n\" transform=\"scale(0.015625)\"/>\n       <path id=\"DejaVuSans-61\" d=\"M 2194 1759 \nQ 1497 1759 1228 1600 \nQ 959 1441 959 1056 \nQ 959 750 1161 570 \nQ 1363 391 1709 391 \nQ 2188 391 2477 730 \nQ 2766 1069 2766 1631 \nL 2766 1759 \nL 2194 1759 \nz\nM 3341 1997 \nL 3341 0 \nL 2766 0 \nL 2766 531 \nQ 2569 213 2275 61 \nQ 1981 -91 1556 -91 \nQ 1019 -91 701 211 \nQ 384 513 384 1019 \nQ 384 1609 779 1909 \nQ 1175 2209 1959 2209 \nL 2766 2209 \nL 2766 2266 \nQ 2766 2663 2505 2880 \nQ 2244 3097 1772 3097 \nQ 1472 3097 1187 3025 \nQ 903 2953 641 2809 \nL 641 3341 \nQ 956 3463 1253 3523 \nQ 1550 3584 1831 3584 \nQ 2591 3584 2966 3190 \nQ 3341 2797 3341 1997 \nz\n\" transform=\"scale(0.015625)\"/>\n       <path id=\"DejaVuSans-6e\" d=\"M 3513 2113 \nL 3513 0 \nL 2938 0 \nL 2938 2094 \nQ 2938 2591 2744 2837 \nQ 2550 3084 2163 3084 \nQ 1697 3084 1428 2787 \nQ 1159 2491 1159 1978 \nL 1159 0 \nL 581 0 \nL 581 3500 \nL 1159 3500 \nL 1159 2956 \nQ 1366 3272 1645 3428 \nQ 1925 3584 2291 3584 \nQ 2894 3584 3203 3211 \nQ 3513 2838 3513 2113 \nz\n\" transform=\"scale(0.015625)\"/>\n       <path id=\"DejaVuSans-67\" d=\"M 2906 1791 \nQ 2906 2416 2648 2759 \nQ 2391 3103 1925 3103 \nQ 1463 3103 1205 2759 \nQ 947 2416 947 1791 \nQ 947 1169 1205 825 \nQ 1463 481 1925 481 \nQ 2391 481 2648 825 \nQ 2906 1169 2906 1791 \nz\nM 3481 434 \nQ 3481 -459 3084 -895 \nQ 2688 -1331 1869 -1331 \nQ 1566 -1331 1297 -1286 \nQ 1028 -1241 775 -1147 \nL 775 -588 \nQ 1028 -725 1275 -790 \nQ 1522 -856 1778 -856 \nQ 2344 -856 2625 -561 \nQ 2906 -266 2906 331 \nL 2906 616 \nQ 2728 306 2450 153 \nQ 2172 0 1784 0 \nQ 1141 0 747 490 \nQ 353 981 353 1791 \nQ 353 2603 747 3093 \nQ 1141 3584 1784 3584 \nQ 2172 3584 2450 3431 \nQ 2728 3278 2906 2969 \nL 2906 3500 \nL 3481 3500 \nL 3481 434 \nz\n\" transform=\"scale(0.015625)\"/>\n       <path id=\"DejaVuSans-65\" d=\"M 3597 1894 \nL 3597 1613 \nL 953 1613 \nQ 991 1019 1311 708 \nQ 1631 397 2203 397 \nQ 2534 397 2845 478 \nQ 3156 559 3463 722 \nL 3463 178 \nQ 3153 47 2828 -22 \nQ 2503 -91 2169 -91 \nQ 1331 -91 842 396 \nQ 353 884 353 1716 \nQ 353 2575 817 3079 \nQ 1281 3584 2069 3584 \nQ 2775 3584 3186 3129 \nQ 3597 2675 3597 1894 \nz\nM 3022 2063 \nQ 3016 2534 2758 2815 \nQ 2500 3097 2075 3097 \nQ 1594 3097 1305 2825 \nQ 1016 2553 972 2059 \nL 3022 2063 \nz\n\" transform=\"scale(0.015625)\"/>\n       <path id=\"DejaVuSans-74\" d=\"M 1172 4494 \nL 1172 3500 \nL 2356 3500 \nL 2356 3053 \nL 1172 3053 \nL 1172 1153 \nQ 1172 725 1289 603 \nQ 1406 481 1766 481 \nL 2356 481 \nL 2356 0 \nL 1766 0 \nQ 1100 0 847 248 \nQ 594 497 594 1153 \nL 594 3053 \nL 172 3053 \nL 172 3500 \nL 594 3500 \nL 594 4494 \nL 1172 4494 \nz\n\" transform=\"scale(0.015625)\"/>\n       <path id=\"DejaVuSans-20\" transform=\"scale(0.015625)\"/>\n       <path id=\"DejaVuSans-6c\" d=\"M 603 4863 \nL 1178 4863 \nL 1178 0 \nL 603 0 \nL 603 4863 \nz\n\" transform=\"scale(0.015625)\"/>\n       <path id=\"DejaVuSans-69\" d=\"M 603 3500 \nL 1178 3500 \nL 1178 0 \nL 603 0 \nL 603 3500 \nz\nM 603 4863 \nL 1178 4863 \nL 1178 4134 \nL 603 4134 \nL 603 4863 \nz\n\" transform=\"scale(0.015625)\"/>\n       <path id=\"DejaVuSans-3d\" d=\"M 678 2906 \nL 4684 2906 \nL 4684 2381 \nL 678 2381 \nL 678 2906 \nz\nM 678 1631 \nL 4684 1631 \nL 4684 1100 \nL 678 1100 \nL 678 1631 \nz\n\" transform=\"scale(0.015625)\"/>\n      </defs>\n      <use xlink:href=\"#DejaVuSans-54\"/>\n      <use xlink:href=\"#DejaVuSans-61\" x=\"44.583984\"/>\n      <use xlink:href=\"#DejaVuSans-6e\" x=\"105.863281\"/>\n      <use xlink:href=\"#DejaVuSans-67\" x=\"169.242188\"/>\n      <use xlink:href=\"#DejaVuSans-65\" x=\"232.71875\"/>\n      <use xlink:href=\"#DejaVuSans-6e\" x=\"294.242188\"/>\n      <use xlink:href=\"#DejaVuSans-74\" x=\"357.621094\"/>\n      <use xlink:href=\"#DejaVuSans-20\" x=\"396.830078\"/>\n      <use xlink:href=\"#DejaVuSans-6c\" x=\"428.617188\"/>\n      <use xlink:href=\"#DejaVuSans-69\" x=\"456.400391\"/>\n      <use xlink:href=\"#DejaVuSans-6e\" x=\"484.183594\"/>\n      <use xlink:href=\"#DejaVuSans-65\" x=\"547.5625\"/>\n      <use xlink:href=\"#DejaVuSans-20\" x=\"609.085938\"/>\n      <use xlink:href=\"#DejaVuSans-28\" x=\"640.873047\"/>\n      <use xlink:href=\"#DejaVuSans-78\" x=\"679.886719\"/>\n      <use xlink:href=\"#DejaVuSans-3d\" x=\"739.066406\"/>\n      <use xlink:href=\"#DejaVuSans-31\" x=\"822.855469\"/>\n      <use xlink:href=\"#DejaVuSans-29\" x=\"886.478516\"/>\n     </g>\n    </g>\n   </g>\n  </g>\n </g>\n <defs>\n  <clipPath id=\"p055f8ef620\">\n   <rect x=\"48.982813\" y=\"7.2\" width=\"195.3\" height=\"138.6\"/>\n  </clipPath>\n </defs>\n</svg>\n"
          },
          "metadata": {}
        }
      ]
    },
    {
      "cell_type": "markdown",
      "source": [
        "## **矩阵/张量计算**"
      ],
      "metadata": {
        "id": "RnhUjNoXUwl9"
      }
    },
    {
      "cell_type": "markdown",
      "source": [
        "### **基本计算**"
      ],
      "metadata": {
        "id": "vszq6V3Xm1el"
      }
    },
    {
      "cell_type": "code",
      "source": [
        "# add\n",
        "A = torch.arange(20, dtype = torch.float32).reshape(5, 4)\n",
        "B = A.clone()\n",
        "A, B, A + B"
      ],
      "metadata": {
        "id": "DPYuY0hOnFzq",
        "colab": {
          "base_uri": "https://localhost:8080/",
          "height": 0
        },
        "outputId": "9317ac00-2aae-4a6c-9c5d-de48ba2ab1d5"
      },
      "execution_count": 352,
      "outputs": [
        {
          "output_type": "execute_result",
          "data": {
            "text/plain": [
              "(tensor([[ 0.,  1.,  2.,  3.],\n",
              "         [ 4.,  5.,  6.,  7.],\n",
              "         [ 8.,  9., 10., 11.],\n",
              "         [12., 13., 14., 15.],\n",
              "         [16., 17., 18., 19.]]),\n",
              " tensor([[ 0.,  1.,  2.,  3.],\n",
              "         [ 4.,  5.,  6.,  7.],\n",
              "         [ 8.,  9., 10., 11.],\n",
              "         [12., 13., 14., 15.],\n",
              "         [16., 17., 18., 19.]]),\n",
              " tensor([[ 0.,  2.,  4.,  6.],\n",
              "         [ 8., 10., 12., 14.],\n",
              "         [16., 18., 20., 22.],\n",
              "         [24., 26., 28., 30.],\n",
              "         [32., 34., 36., 38.]]))"
            ]
          },
          "metadata": {},
          "execution_count": 352
        }
      ]
    },
    {
      "cell_type": "code",
      "source": [
        "# Hadamard product\n",
        "A * B"
      ],
      "metadata": {
        "id": "rYEh6d1MdGaq",
        "colab": {
          "base_uri": "https://localhost:8080/",
          "height": 0
        },
        "outputId": "35702ef2-d615-4cdd-c93d-5826af900bfd"
      },
      "execution_count": 353,
      "outputs": [
        {
          "output_type": "execute_result",
          "data": {
            "text/plain": [
              "tensor([[  0.,   1.,   4.,   9.],\n",
              "        [ 16.,  25.,  36.,  49.],\n",
              "        [ 64.,  81., 100., 121.],\n",
              "        [144., 169., 196., 225.],\n",
              "        [256., 289., 324., 361.]])"
            ]
          },
          "metadata": {},
          "execution_count": 353
        }
      ]
    },
    {
      "cell_type": "code",
      "source": [
        "# Dot Product\n",
        "x = torch.ones(4, dtype = torch.float32)\n",
        "y = torch.ones(4, dtype = torch.float32)\n",
        "x, y, torch.dot(x, y)"
      ],
      "metadata": {
        "id": "oOLLBNAXhMGE",
        "colab": {
          "base_uri": "https://localhost:8080/",
          "height": 0
        },
        "outputId": "34144257-2fda-42a4-af18-b667bf88b878"
      },
      "execution_count": 354,
      "outputs": [
        {
          "output_type": "execute_result",
          "data": {
            "text/plain": [
              "(tensor([1., 1., 1., 1.]), tensor([1., 1., 1., 1.]), tensor(4.))"
            ]
          },
          "metadata": {},
          "execution_count": 354
        }
      ]
    },
    {
      "cell_type": "code",
      "source": [
        "# Matrix-vector Product\n",
        "A, x, torch.mv(A, x)"
      ],
      "metadata": {
        "id": "H-fpIHbd5gv6",
        "colab": {
          "base_uri": "https://localhost:8080/",
          "height": 0
        },
        "outputId": "f33678d2-6760-4174-d8e1-257366ec0a6d"
      },
      "execution_count": 355,
      "outputs": [
        {
          "output_type": "execute_result",
          "data": {
            "text/plain": [
              "(tensor([[ 0.,  1.,  2.,  3.],\n",
              "         [ 4.,  5.,  6.,  7.],\n",
              "         [ 8.,  9., 10., 11.],\n",
              "         [12., 13., 14., 15.],\n",
              "         [16., 17., 18., 19.]]),\n",
              " tensor([1., 1., 1., 1.]),\n",
              " tensor([ 6., 22., 38., 54., 70.]))"
            ]
          },
          "metadata": {},
          "execution_count": 355
        }
      ]
    },
    {
      "cell_type": "code",
      "source": [
        "A.shape, x.shape, torch.mv(A, x).shape"
      ],
      "metadata": {
        "id": "CIGK5szKnV_2",
        "colab": {
          "base_uri": "https://localhost:8080/",
          "height": 0
        },
        "outputId": "b3d76de8-7abc-48f3-a13d-e7ba511980d2"
      },
      "execution_count": 356,
      "outputs": [
        {
          "output_type": "execute_result",
          "data": {
            "text/plain": [
              "(torch.Size([5, 4]), torch.Size([4]), torch.Size([5]))"
            ]
          },
          "metadata": {},
          "execution_count": 356
        }
      ]
    },
    {
      "cell_type": "code",
      "source": [
        "# Matrix-matrix multiplication\n",
        "B = torch.ones(4,3)\n",
        "A, B, torch.mm(A,B)"
      ],
      "metadata": {
        "id": "loP552zq5SMV",
        "colab": {
          "base_uri": "https://localhost:8080/",
          "height": 0
        },
        "outputId": "d5c9d107-eee3-4135-d9ab-3c7a76fbe21e"
      },
      "execution_count": 357,
      "outputs": [
        {
          "output_type": "execute_result",
          "data": {
            "text/plain": [
              "(tensor([[ 0.,  1.,  2.,  3.],\n",
              "         [ 4.,  5.,  6.,  7.],\n",
              "         [ 8.,  9., 10., 11.],\n",
              "         [12., 13., 14., 15.],\n",
              "         [16., 17., 18., 19.]]),\n",
              " tensor([[1., 1., 1.],\n",
              "         [1., 1., 1.],\n",
              "         [1., 1., 1.],\n",
              "         [1., 1., 1.]]),\n",
              " tensor([[ 6.,  6.,  6.],\n",
              "         [22., 22., 22.],\n",
              "         [38., 38., 38.],\n",
              "         [54., 54., 54.],\n",
              "         [70., 70., 70.]]))"
            ]
          },
          "metadata": {},
          "execution_count": 357
        }
      ]
    },
    {
      "cell_type": "markdown",
      "source": [
        "#### **Norm**"
      ],
      "metadata": {
        "id": "YLGGvQ6zxITB"
      }
    },
    {
      "cell_type": "markdown",
      "source": [
        "向量范数$f: \\mathbb{R}^n \\mapsto \\mathbb{R} $.\n",
        "\n",
        "Properties:\n",
        "\n",
        "- $f(\\alpha \\mathbf{x}) = |\\alpha| f(\\mathbf{x})$, where $\\alpha$ is constant.\n",
        "- (Triangle Inequality)\n",
        "$f(\\mathbf{x}+ \\mathbf{y}) \\leq f(\\mathbf{x}) + f(\\mathbf{y})$\n",
        "- $f(\\mathbf{x}) \\geq 0$"
      ],
      "metadata": {
        "id": "ufCLKnp5xNND"
      }
    },
    {
      "cell_type": "code",
      "source": [
        "# L_2 norm\n",
        "u = torch.tensor([3.0, -4.0])\n",
        "torch.norm(u)"
      ],
      "metadata": {
        "id": "LiVAihqwxMyA",
        "colab": {
          "base_uri": "https://localhost:8080/",
          "height": 0
        },
        "outputId": "3d4d85e3-354f-4b3c-9fa0-3a175aa811d4"
      },
      "execution_count": 358,
      "outputs": [
        {
          "output_type": "execute_result",
          "data": {
            "text/plain": [
              "tensor(5.)"
            ]
          },
          "metadata": {},
          "execution_count": 358
        }
      ]
    },
    {
      "cell_type": "code",
      "source": [
        "# L_1 norm\n",
        "torch.abs(u).sum()"
      ],
      "metadata": {
        "id": "IF20F4xwy0OH",
        "colab": {
          "base_uri": "https://localhost:8080/",
          "height": 0
        },
        "outputId": "3c304845-4c43-4e59-eaa5-64baeaf6db21"
      },
      "execution_count": 359,
      "outputs": [
        {
          "output_type": "execute_result",
          "data": {
            "text/plain": [
              "tensor(7.)"
            ]
          },
          "metadata": {},
          "execution_count": 359
        }
      ]
    },
    {
      "cell_type": "code",
      "source": [
        "# Frobenius Norm for Matrices\n",
        "torch.norm(torch.ones(4,9))"
      ],
      "metadata": {
        "id": "1BV8uG6g49_e",
        "colab": {
          "base_uri": "https://localhost:8080/",
          "height": 0
        },
        "outputId": "f7271925-6909-45e8-954b-0c75ea08779f"
      },
      "execution_count": 360,
      "outputs": [
        {
          "output_type": "execute_result",
          "data": {
            "text/plain": [
              "tensor(6.)"
            ]
          },
          "metadata": {},
          "execution_count": 360
        }
      ]
    },
    {
      "cell_type": "markdown",
      "source": [
        "### **回顾：向量和矩阵求导**"
      ],
      "metadata": {
        "id": "3mHxp4dQyoyM"
      }
    },
    {
      "cell_type": "markdown",
      "source": [
        "#### 标量对向量求导：$∂ y/ ∂ \\mathbf{x}$"
      ],
      "metadata": {
        "id": "D32nn9hb1MyK"
      }
    },
    {
      "cell_type": "markdown",
      "source": [
        "注意：若y是标量，x是列向量，y对x求导是*行向量*，结果是每个y对x的分量求导：\n",
        "\n",
        "Let $\\mathbf{x} = (x_1,...,x_n)^T$, $ y \\in \\mathbb{R}$.\n",
        "\n",
        "$$\n",
        "\\frac{∂ y}{∂ \\mathbf{x}} = [\\frac{∂ y}{∂ x_1}, ..., \\frac{∂ y}{∂ x_n}]\n",
        "$$"
      ],
      "metadata": {
        "id": "X-40RRfhVfU2"
      }
    },
    {
      "cell_type": "markdown",
      "source": [
        "#### 向量对向量求导：$∂ \\mathbf{y}/ ∂ \\mathbf{x}$"
      ],
      "metadata": {
        "id": "4QBjuxFxyuc9"
      }
    },
    {
      "cell_type": "markdown",
      "source": [
        "Let $\\mathbf{x} = (x_1,...,x_n)^T$, $\\mathbf{y} = (y_1,...,y_m)^T$.\n",
        "\n",
        "$$\n",
        "\\frac{∂ \\mathbf{y}}{∂ \\mathbf{x}} =\n",
        "\\begin{bmatrix}\n",
        "  \\frac{∂y_1}{∂\\mathbf{x}} \\\\\n",
        "  \\vdots \\\\\n",
        "  \\frac{∂y_m}{∂\\mathbf{x}} \\\\\n",
        "\\end{bmatrix}\n",
        "=\n",
        "\\begin{bmatrix}\n",
        "  \\frac{∂y_1}{∂x_1} & \\cdots & \\frac{∂y_1}{∂x_n}\\\\\n",
        "  \\vdots            &         & \\vdots \\\\\n",
        "   \\frac{∂y_m}{∂x_1} & \\cdots & \\frac{∂y_m}{∂x_n} \\\\\n",
        "\\end{bmatrix}\n",
        "$$\n"
      ],
      "metadata": {
        "id": "ZTRb-qlWzU8t"
      }
    },
    {
      "cell_type": "markdown",
      "source": [
        "#### 向量/矩阵的链式求导"
      ],
      "metadata": {
        "id": "hOfZ3De816Z8"
      }
    },
    {
      "cell_type": "markdown",
      "source": [
        "Let $y = f(u), u = g(x)$.\n",
        "\n",
        "1.   y: scalar, u: scalar; $\\mathbf{x} \\in \\mathbb{R}^{n}$: vector\n",
        "$$\n",
        "\\frac{∂y}{∂\\mathbf{x}} = \\frac{∂y}{∂u} \\cdot \\frac{∂u}{∂\\mathbf{x}}\\\\\n",
        "(1,n); (1,1) (1,n)\n",
        "$$\n",
        "\n",
        "2.   y: scalar, $\\mathbf{u} \\in \\mathbb{R}^{k}$: vector ; x: vector\n",
        "$$\n",
        "\\frac{∂y}{∂\\mathbf{x}} = \\frac{∂y}{∂\\mathbf{u}} \\cdot \\frac{∂\\mathbf{u}}{∂\\mathbf{x}}\\\\\n",
        "(1,n); (1,k) (k,n)\n",
        "$$\n",
        "\n",
        "3.   $\\mathbf{y} \\in \\mathbb{R}^{m}$: vector, $\\mathbf{u}$: vector; $\\mathbf{x}$: vector\n",
        "$$\n",
        "\\frac{∂\\mathbf{y}}{∂\\mathbf{x}} = \\frac{∂\\mathbf{y}}{∂\\mathbf{u}} \\cdot \\frac{∂\\mathbf{u}}{∂\\mathbf{x}}\\\\\n",
        "(m,n); (m,k) (k,n)\n",
        "$$\n",
        "\n"
      ],
      "metadata": {
        "id": "xV-EP3C_2DWn"
      }
    },
    {
      "cell_type": "markdown",
      "source": [
        "***E.g***.1,\n",
        "\n",
        "$\\quad$  $\\mathbf{x}$, $\\mathbf{w} \\in \\mathbb{R}^{n}$, $y \\in \\mathbb{R}$, $z = (<\\mathbf{x}, \\mathbf{w}> - y)^2$,\n",
        "\n",
        "$\\quad$ Compute $\\frac{\\partial z}{\\partial \\mathbf{w}}$.\n",
        "\n"
      ],
      "metadata": {
        "id": "syyIC6Ek1X4R"
      }
    },
    {
      "cell_type": "markdown",
      "source": [
        "**Sol.**\n",
        "\n",
        "\\begin{equation}\n",
        "  \\begin{aligned}\n",
        "      \\frac{\\partial z}{\\partial \\mathbf{w}} &=  2(<\\mathbf{x}, \\mathbf{w}> - y) \\frac{\\partial <\\mathbf{x}, \\mathbf{w}>}{\\partial \\mathbf{w}} \\\\\n",
        "      &= 2(<\\mathbf{x}, \\mathbf{w}> - y) \\mathbf{x}^{T}\n",
        "  \\end{aligned}\n",
        "\\end{equation}\n",
        "\n",
        "$\\ast$ Determine $\\frac{\\partial <\\mathbf{x}, \\mathbf{w}>}{\\partial \\mathbf{w}} = \\mathbf{x}^{T}$.\n",
        "\n",
        "\\begin{equation}\n",
        "  \\begin{aligned}\n",
        "      \\frac{\\partial <\\mathbf{x}, \\mathbf{w}>}{\\partial \\mathbf{w}} &=  \\frac{\\partial \\sum_{i=1}^{n} x_i w_i}{\\partial \\mathbf{w}} \\\\\n",
        "      &= (x_1, ..., x_n).  (\\text{标量对向量求导})\n",
        "  \\end{aligned}\n",
        "\\end{equation}\n"
      ],
      "metadata": {
        "id": "xMTXaZzu-m0F"
      }
    },
    {
      "cell_type": "markdown",
      "source": [
        "***E.g***.2,\n",
        "\n",
        "$\\quad$  $\\mathbf{X} \\in \\mathbb{R}^{m \\times n}$, $\\mathbf{w} \\in \\mathbb{R}^{n}$, $\\mathbf{y} \\in \\mathbb{R}^{m}$, $z = || \\mathbf{X} \\mathbf{w} - \\mathbf{y}||^2$,\n",
        "\n",
        "$\\quad$ Compute $\\frac{\\partial z}{\\partial \\mathbf{w}}$."
      ],
      "metadata": {
        "id": "HLSYeezoApfe"
      }
    },
    {
      "cell_type": "markdown",
      "source": [
        "**Sol.**\n",
        "\n",
        "\\begin{equation}\n",
        "      \\frac{\\partial z}{\\partial \\mathbf{w}} =  2(\\mathbf{X} \\mathbf{w} - \\mathbf{y})^T \\mathbf{X}\n",
        "\\end{equation}\n",
        "\n",
        "$\\ast$ Set $\\mathbf{v} \\in \\mathbb{R}^n$. Determine $\\frac{∂||\\mathbf{v}||^{2}}{ ∂ \\mathbf{v}} = \\mathbf{v}^T$.\n",
        "\n",
        "\\begin{equation}\n",
        "  \\begin{aligned}\n",
        "      ||\\mathbf{v}||^{2} &=  \\sum_{i=1}^n v_{i}^2 \\\\\n",
        "      \\frac{∂||\\mathbf{v}||^{2}}{ ∂ \\mathbf{v}} &= (2v_1,...,2v_n) = 2\\mathbf{v}^{T}\n",
        "  \\end{aligned}\n",
        "\\end{equation}\n",
        "\n",
        "$\\ast$ Determine $\\frac{∂ (\\mathbf{X} \\mathbf{w}) }{ ∂ \\mathbf{w}} = \\mathbf{X}$, where $\\mathbf{X} \\in \\mathbb{R}^{m \\times n}$, $\\mathbf{w} \\in \\mathbb{R}^{n}$.\n",
        "\n",
        "\\begin{equation}\n",
        "      \\mathbf{Xw} =\n",
        "      \\begin{bmatrix}\n",
        "        \\mathbf{x_1} \\\\\n",
        "        \\vdots \\\\\n",
        "        \\mathbf{x_m}\n",
        "      \\end{bmatrix}  \\mathbf{w}\n",
        "      =\n",
        "      \\begin{bmatrix}\n",
        "        \\mathbf{x_1}\\mathbf{w} \\\\\n",
        "        \\vdots \\\\\n",
        "        \\mathbf{x_m}\\mathbf{w}\n",
        "      \\end{bmatrix}  \n",
        "      =\n",
        "      \\begin{bmatrix}\n",
        "        \\sum_{i=1}^n x_{1i}w_{i}\\\\\n",
        "        \\vdots \\\\\n",
        "        \\sum_{i=1}^n x_{mi}w_{i}\n",
        "      \\end{bmatrix}  \n",
        "\\end{equation}\n",
        "where $\\mathbf{x}_{j} \\in \\mathbb{R}^{1 \\times n}$, $j \\in [m]$.\n",
        "\n",
        "$$\n",
        "  \\frac{∂ (\\mathbf{X} \\mathbf{w}) }{ ∂ \\mathbf{w}}=\n",
        "  \\begin{bmatrix}\n",
        "        x_{11} & x_{12} & ⋯ & x_{1n}\\\\\n",
        "        \\vdots & \\vdots & ⋯ & \\vdots\\\\\n",
        "        x_{m1} & x_{m2} & ⋯ & x_{mn}\n",
        "  \\end{bmatrix} (标量对向量求导)\n",
        "  = \\mathbf{X}\n",
        "$$"
      ],
      "metadata": {
        "id": "DhgbHs_wAsYp"
      }
    },
    {
      "cell_type": "markdown",
      "source": [
        "### **Pyhtorch自动求导**"
      ],
      "metadata": {
        "id": "hy6uD90ZMPHp"
      }
    },
    {
      "cell_type": "markdown",
      "source": [
        "深度学习框架通过自动计算导数，即自动微分（automatic differentiation）来加快求导。 实际中，根据设计好的模型，系统会构建一个计算图（computational graph）， 来跟踪计算是哪些数据通过哪些操作组合起来产生输出。 自动微分使系统能够随后反向传播梯度。 这里，反向传播（backpropagate）意味着跟踪整个计算图，填充关于每个参数的偏导数。"
      ],
      "metadata": {
        "id": "plxIymfXMeIk"
      }
    },
    {
      "cell_type": "markdown",
      "source": [
        "- 将代码分解成操作子，计算表示成一个无环图\n",
        "- 显示构造（tensorflow/Theano/MXNet），流程大概是，A=a, B=b, c = f(a,b)，即分别定好要用的变量的值，然后代到定好的式子里面得到另一个变量的值。\n",
        "- 隐式构造（PyTorch/MXNet），相当于求导之前要判断下是不是隐函数求导。"
      ],
      "metadata": {
        "id": "41foqzbhJE09"
      }
    },
    {
      "cell_type": "markdown",
      "source": [
        "**自动求导的两种方法**：\n",
        "\n",
        "For $\\frac{∂y}{∂x}  = \\frac{∂y}{∂u_{n}}  \\frac{∂u_{n}}{∂u_{n-1}}...  \\frac{∂u_{1}}{∂x}$\n",
        "\n",
        "1.  正向积累$\\frac{∂y}{∂x}  = \\frac{∂y}{∂u_{n}} (\\frac{∂u_{n}}{∂u_{n-1}} ... (\\frac{∂u_{2}}{∂u_{1}} (\\frac{∂u_{1}}{∂x})))$\n",
        "2. 反向积累/ 反向传递$\\frac{∂y}{∂x}  = (((\\frac{∂y}{∂u_{n}})  \\frac{∂u_{n}}{∂u_{n-1}})...)  \\frac{∂u_{1}}{∂x}$\n",
        "\n",
        "反向求导很符合我们平时求导的顺序，我觉得更像是一种递归。\n"
      ],
      "metadata": {
        "id": "HyUCv22JeslY"
      }
    },
    {
      "cell_type": "markdown",
      "source": [
        "我们现在看下**反向积累**：\n",
        "下图中的正向指的是正着算值，反向是返回来求导来调整参数"
      ],
      "metadata": {
        "id": "N8kLH8MjaB6x"
      }
    },
    {
      "cell_type": "markdown",
      "source": [
        "![截屏2023-07-06 15.11.38.png](data:image/png;base64,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)"
      ],
      "metadata": {
        "id": "N4mhL-lTCu1-"
      }
    },
    {
      "cell_type": "markdown",
      "source": [
        "正向积累画成图就像二叉树后序遍历，不过二叉树是有向图。"
      ],
      "metadata": {
        "id": "SZ96B_jzF4DG"
      }
    },
    {
      "cell_type": "markdown",
      "source": [
        "**整个过程复杂度**：\n",
        "- 正向：$T(n) = O(n)$; $S(n) = O(n)$\n",
        "- 反向：$T(n) = O(n)$; $S(n) = O(1)$\n",
        "\n",
        "其中$n$是操作子个数。\n",
        "\n",
        "显然，向上走一遍和向下走一遍时间量级是没差别的，反向有些移出计算图的可以不用求导，即去除不必要的枝。但是向上计算结果麻烦在每一次求导都要扫一遍。\n",
        "\n",
        "空间复杂度的话，正向求值需要把算好的结果存储起来然后再传给下一步，所以都得算。但是反向就不需要，直接求就好了。\n",
        "\n",
        "相当于反向用时间去换空间。神经网络跑计算非常麻烦的一点在于内存空间不够。"
      ],
      "metadata": {
        "id": "wzzPsBBPL12a"
      }
    },
    {
      "cell_type": "markdown",
      "source": [
        "E.g.1, Find the derivative of the function $y = 2 \\mathbf{x}^T \\mathbf{x}$ with respect to the column vector $\\mathbf{x}$."
      ],
      "metadata": {
        "id": "-DksDqoH-KBB"
      }
    },
    {
      "cell_type": "code",
      "source": [
        "import torch\n",
        "\n",
        "x = torch.arange(4.0)\n",
        "x"
      ],
      "metadata": {
        "colab": {
          "base_uri": "https://localhost:8080/",
          "height": 0
        },
        "id": "aLoPf1L8-JF8",
        "outputId": "fe2212bd-7a42-45e4-9508-2edcc562e60e"
      },
      "execution_count": 361,
      "outputs": [
        {
          "output_type": "execute_result",
          "data": {
            "text/plain": [
              "tensor([0., 1., 2., 3.])"
            ]
          },
          "metadata": {},
          "execution_count": 361
        }
      ]
    },
    {
      "cell_type": "markdown",
      "source": [
        "在我们计算$y$关于$\\mathbf{x}$的梯度之前，需要一个地方来存储梯度(x.requires_grad_(True))"
      ],
      "metadata": {
        "id": "5qu7tx9UHlHM"
      }
    },
    {
      "cell_type": "code",
      "source": [
        "x.requires_grad_(True) # or x=torch.arange(4.0,requires_grad=True)\n",
        "x.grad  # default = None"
      ],
      "metadata": {
        "id": "UFOR0w2hMU-5"
      },
      "execution_count": 362,
      "outputs": []
    },
    {
      "cell_type": "code",
      "source": [
        "# Construct y = <x,x> = ||x||^2\n",
        "y = 2 * torch.dot(x,x)\n",
        "y #显式"
      ],
      "metadata": {
        "colab": {
          "base_uri": "https://localhost:8080/",
          "height": 0
        },
        "id": "Xe-EFHn3IuGf",
        "outputId": "7a4ef3c7-47f1-47a2-e3e1-f3cd66453f33"
      },
      "execution_count": 363,
      "outputs": [
        {
          "output_type": "execute_result",
          "data": {
            "text/plain": [
              "tensor(28., grad_fn=<MulBackward0>)"
            ]
          },
          "metadata": {},
          "execution_count": 363
        }
      ]
    },
    {
      "cell_type": "code",
      "source": [
        "# backward計算梯度（反向傳播正常操作）\n",
        "y.backward()\n",
        "x.grad # .grad不清空就會一直把新求的梯度cummulate上去"
      ],
      "metadata": {
        "colab": {
          "base_uri": "https://localhost:8080/",
          "height": 0
        },
        "id": "juWWFIhKK9RB",
        "outputId": "d68d721d-11ad-4993-fe6b-6be27628ced1"
      },
      "execution_count": 364,
      "outputs": [
        {
          "output_type": "execute_result",
          "data": {
            "text/plain": [
              "tensor([ 0.,  4.,  8., 12.])"
            ]
          },
          "metadata": {},
          "execution_count": 364
        }
      ]
    },
    {
      "cell_type": "code",
      "source": [
        "x.grad == 4*x"
      ],
      "metadata": {
        "colab": {
          "base_uri": "https://localhost:8080/",
          "height": 0
        },
        "id": "scpHUdO9unDA",
        "outputId": "420b7e42-753c-49db-e50a-e9492f26ce76"
      },
      "execution_count": 365,
      "outputs": [
        {
          "output_type": "execute_result",
          "data": {
            "text/plain": [
              "tensor([True, True, True, True])"
            ]
          },
          "metadata": {},
          "execution_count": 365
        }
      ]
    },
    {
      "cell_type": "markdown",
      "source": [
        "*Notes: pytorch里面下划线代表重写我的内容，如`zero_()`"
      ],
      "metadata": {
        "id": "tUtcqPJE8Y7Y"
      }
    },
    {
      "cell_type": "code",
      "source": [
        "from torch.autograd import grad\n",
        "x.grad.zero_() #zero out清除之前的值\n",
        "y = x.sum() #y = x_1+...+x_n\n",
        "y.backward()\n",
        "x.grad"
      ],
      "metadata": {
        "colab": {
          "base_uri": "https://localhost:8080/",
          "height": 0
        },
        "id": "I_bOi2n4uzM7",
        "outputId": "6db32627-7168-49ba-8862-8d8a3d2d4898"
      },
      "execution_count": 366,
      "outputs": [
        {
          "output_type": "execute_result",
          "data": {
            "text/plain": [
              "tensor([1., 1., 1., 1.])"
            ]
          },
          "metadata": {},
          "execution_count": 366
        }
      ]
    },
    {
      "cell_type": "markdown",
      "source": [
        "E.g.,2 当y不是标量时，向量y关于向量x的导数的最自然解释是一个矩阵。 对于高阶和高维的y和x，求导的结果可以是一个高阶张量。\n",
        "\n",
        "但当调用向量的反向计算时，我们通常会试图计算一批训练样本中每个组成部分的损失函数的导数。 这里，我们的目的不是计算微分矩阵，而是单独计算批量中每个样本的偏导数之和。\n",
        "\n",
        "后面会详细说明。"
      ],
      "metadata": {
        "id": "XERTMJiqRx-V"
      }
    },
    {
      "cell_type": "code",
      "source": [
        "# y is a vector\n",
        "x.grad.zero_()\n",
        "y = x * x #element-wise product\n",
        "y.sum().backward() #i.e., \\nabla y_i之和\n",
        "x.grad"
      ],
      "metadata": {
        "colab": {
          "base_uri": "https://localhost:8080/",
          "height": 0
        },
        "id": "dYVtcAbSSDlM",
        "outputId": "0ca65f64-fedc-403f-9a2c-90124c778081"
      },
      "execution_count": 367,
      "outputs": [
        {
          "output_type": "execute_result",
          "data": {
            "text/plain": [
              "tensor([0., 2., 4., 6.])"
            ]
          },
          "metadata": {},
          "execution_count": 367
        }
      ]
    },
    {
      "cell_type": "markdown",
      "source": [
        "#### **分离计算**"
      ],
      "metadata": {
        "id": "g6QFnwDo2qOZ"
      }
    },
    {
      "cell_type": "markdown",
      "source": [
        "有时，我们希望将某些计算移动到记录的计算图之外。 例如，假设y是作为x的函数计算的，而z则是作为y和x的函数计算的。 想象一下，我们想计算z关于x的梯度，但由于某种原因，希望将y视为一个常数， 并且只考虑到x在y被计算后发挥的作用。"
      ],
      "metadata": {
        "id": "haccGNIA2wKo"
      }
    },
    {
      "cell_type": "code",
      "source": [
        "x.grad.zero_() # Remember to clear out gradients\n",
        "y = x * x\n",
        "u = y.detach() #把y当作一个常数，而不是关于x的函数，赋给u\n",
        "z = u * x # i.e.，z = 常数*x\n",
        "\n",
        "z.sum().backward()\n",
        "x.grad == u"
      ],
      "metadata": {
        "colab": {
          "base_uri": "https://localhost:8080/",
          "height": 0
        },
        "id": "bv20xkRw28ST",
        "outputId": "1048b7c9-7940-4b79-b250-f795b5b4de99"
      },
      "execution_count": 368,
      "outputs": [
        {
          "output_type": "execute_result",
          "data": {
            "text/plain": [
              "tensor([True, True, True, True])"
            ]
          },
          "metadata": {},
          "execution_count": 368
        }
      ]
    },
    {
      "cell_type": "markdown",
      "source": [
        "#### **Python控制流的梯度计算**"
      ],
      "metadata": {
        "id": "Dx7uj1z_764v"
      }
    },
    {
      "cell_type": "code",
      "source": [
        "def f(a):\n",
        "  b = a * 2\n",
        "  while b.norm() < 1000:\n",
        "    b = b * 2\n",
        "  if b.sum() >0:\n",
        "    c = b\n",
        "  else:\n",
        "    c = 100 * b\n",
        "  return c\n",
        "\n",
        "a =  torch.randn(size = (), requires_grad = True)\n",
        "d = f(a)\n",
        "d.backward()"
      ],
      "metadata": {
        "id": "0hdHRB7S7DKb"
      },
      "execution_count": 369,
      "outputs": []
    },
    {
      "cell_type": "markdown",
      "source": [
        "最开始$b$和$a$是线性关系，后面无论$c=?$，都是$b$乘以n个两倍以后判断得到的，所以无论怎么弄，最后都会得到$c=ka$，其中$k$是常数，所以求个导就是$d/a$。\n",
        "\n",
        "我们可以验证一下："
      ],
      "metadata": {
        "id": "7IVUqQvxXvq6"
      }
    },
    {
      "cell_type": "code",
      "source": [
        "a.grad == d/a"
      ],
      "metadata": {
        "colab": {
          "base_uri": "https://localhost:8080/",
          "height": 0
        },
        "id": "SpWpid7hf4QL",
        "outputId": "b4501b1f-1d8e-4d19-f773-619896d681bc"
      },
      "execution_count": 370,
      "outputs": [
        {
          "output_type": "execute_result",
          "data": {
            "text/plain": [
              "tensor(True)"
            ]
          },
          "metadata": {},
          "execution_count": 370
        }
      ]
    },
    {
      "cell_type": "markdown",
      "source": [
        "#### **Exercise**"
      ],
      "metadata": {
        "id": "GYlGxj6fbCY-"
      }
    },
    {
      "cell_type": "markdown",
      "source": [
        "1. 为什么计算二阶导数比一阶导数的开销要更大？\n",
        "\n",
        "因为\n",
        "- 二阶导要存储一阶导占空间；\n",
        "- 有时候二阶导要算的更多，比如$f(x_1,...,x_n)$的一阶导就是个向量，但是二阶导就是个Hessian矩阵，空间和时间都大。"
      ],
      "metadata": {
        "id": "DJYBj0SjbFcY"
      }
    },
    {
      "cell_type": "markdown",
      "source": [
        "2. 在运行反向传播函数之后，立即再次运行它，看看会发生什么。"
      ],
      "metadata": {
        "id": "ZqtGFt0Ldlp_"
      }
    },
    {
      "cell_type": "code",
      "source": [
        "x = torch.arange(3.0, requires_grad=True)\n",
        "y = torch.dot(x,x)\n",
        "y.backward()\n",
        "x.grad"
      ],
      "metadata": {
        "colab": {
          "base_uri": "https://localhost:8080/",
          "height": 0
        },
        "id": "sgB4jMsQdm5-",
        "outputId": "118de795-f269-4738-ace1-4099b130844f"
      },
      "execution_count": 371,
      "outputs": [
        {
          "output_type": "execute_result",
          "data": {
            "text/plain": [
              "tensor([0., 2., 4.])"
            ]
          },
          "metadata": {},
          "execution_count": 371
        }
      ]
    },
    {
      "cell_type": "code",
      "source": [
        "g = torch.dot(x,x)\n",
        "g.backward()\n",
        "x.grad"
      ],
      "metadata": {
        "colab": {
          "base_uri": "https://localhost:8080/",
          "height": 0
        },
        "id": "OggIC2-6eXhV",
        "outputId": "b20170b0-1d40-4e16-b028-2e4c06c8b6cb"
      },
      "execution_count": 372,
      "outputs": [
        {
          "output_type": "execute_result",
          "data": {
            "text/plain": [
              "tensor([0., 4., 8.])"
            ]
          },
          "metadata": {},
          "execution_count": 372
        }
      ]
    },
    {
      "cell_type": "markdown",
      "source": [
        "没有清零叠加的样子⬆️"
      ],
      "metadata": {
        "id": "T__H7E6XfHIq"
      }
    },
    {
      "cell_type": "markdown",
      "source": [
        "3. 在控制流的例子中，我们计算d关于a的导数，如果将变量a更改为随机向量或矩阵，会发生什么？"
      ],
      "metadata": {
        "id": "SuVmm4cgfKj8"
      }
    },
    {
      "cell_type": "code",
      "source": [
        "# vector\n",
        "a.grad.zero_()\n",
        "a =  torch.randn(3, requires_grad = True)\n",
        "d = f(a)\n",
        "d.sum().backward()\n",
        "a.grad"
      ],
      "metadata": {
        "colab": {
          "base_uri": "https://localhost:8080/",
          "height": 0
        },
        "id": "Na8wZjpcfuH6",
        "outputId": "0ec623d0-309c-4bd2-c81f-12f870b11d83"
      },
      "execution_count": 373,
      "outputs": [
        {
          "output_type": "execute_result",
          "data": {
            "text/plain": [
              "tensor([102400., 102400., 102400.])"
            ]
          },
          "metadata": {},
          "execution_count": 373
        }
      ]
    },
    {
      "cell_type": "markdown",
      "source": [
        "*注意，要sum一下，不然求导会出错， `.backward()`输入要标量。"
      ],
      "metadata": {
        "id": "mL8TCzf3hIZb"
      }
    },
    {
      "cell_type": "code",
      "source": [
        "# Matrix\n",
        "a.grad.zero_()\n",
        "a =  torch.randn(size = (3,3), requires_grad = True)\n",
        "d = f(a)\n",
        "d.sum().backward()\n",
        "a.grad"
      ],
      "metadata": {
        "colab": {
          "base_uri": "https://localhost:8080/",
          "height": 0
        },
        "id": "f82jlUvYhOun",
        "outputId": "48294625-7bea-48cc-b2b9-bee05f3acf01"
      },
      "execution_count": 374,
      "outputs": [
        {
          "output_type": "execute_result",
          "data": {
            "text/plain": [
              "tensor([[512., 512., 512.],\n",
              "        [512., 512., 512.],\n",
              "        [512., 512., 512.]])"
            ]
          },
          "metadata": {},
          "execution_count": 374
        }
      ]
    },
    {
      "cell_type": "markdown",
      "source": [
        "结论：backward得到的导数形状和a一样。"
      ],
      "metadata": {
        "id": "UK7rSMVkjHIb"
      }
    },
    {
      "cell_type": "markdown",
      "source": [
        "4. 使$f(x) = sin(x)$，绘制$f(x)$和 $df(x) / dx$ 的图像，其中后者不使用$f'(x) = cos(x)$。"
      ],
      "metadata": {
        "id": "8Hi7smWjjb16"
      }
    },
    {
      "cell_type": "code",
      "source": [
        "x = torch.arange(-3*torch.pi,3*torch.pi, 0.1)\n",
        "x.requires_grad = True\n",
        "\n",
        "def f(x):\n",
        "  return torch.sin(x)\n",
        "\n",
        "t = f(x)\n",
        "t.sum().backward()\n",
        "\n",
        "df = x.grad.detach().numpy() #画图前一定要把tensor格式改成numpy呀！\n",
        "x = x.detach().numpy()\n",
        "\n",
        "plot(x, df, 'x', 'f\\'(x)', legend=['f\\'(x)'])"
      ],
      "metadata": {
        "colab": {
          "base_uri": "https://localhost:8080/",
          "height": 265
        },
        "id": "6XtLdla4jzZb",
        "outputId": "55368b07-8bcc-4c43-c077-9bf3115f1c7b"
      },
      "execution_count": 375,
      "outputs": [
        {
          "output_type": "display_data",
          "data": {
            "text/plain": [
              "<Figure size 350x250 with 1 Axes>"
            ],
            "image/svg+xml": "<?xml version=\"1.0\" encoding=\"utf-8\" standalone=\"no\"?>\n<!DOCTYPE svg PUBLIC \"-//W3C//DTD SVG 1.1//EN\"\n  \"http://www.w3.org/Graphics/SVG/1.1/DTD/svg11.dtd\">\n<svg xmlns:xlink=\"http://www.w3.org/1999/xlink\" width=\"258.046508pt\" height=\"183.35625pt\" viewBox=\"0 0 258.046508 183.35625\" xmlns=\"http://www.w3.org/2000/svg\" version=\"1.1\">\n <metadata>\n  <rdf:RDF xmlns:dc=\"http://purl.org/dc/elements/1.1/\" xmlns:cc=\"http://creativecommons.org/ns#\" xmlns:rdf=\"http://www.w3.org/1999/02/22-rdf-syntax-ns#\">\n   <cc:Work>\n    <dc:type rdf:resource=\"http://purl.org/dc/dcmitype/StillImage\"/>\n    <dc:date>2023-07-06T12:03:38.133781</dc:date>\n    <dc:format>image/svg+xml</dc:format>\n    <dc:creator>\n     <cc:Agent>\n      <dc:title>Matplotlib v3.7.1, https://matplotlib.org/</dc:title>\n     </cc:Agent>\n    </dc:creator>\n   </cc:Work>\n  </rdf:RDF>\n </metadata>\n <defs>\n  <style type=\"text/css\">*{stroke-linejoin: round; stroke-linecap: butt}</style>\n </defs>\n <g id=\"figure_1\">\n  <g id=\"patch_1\">\n   <path d=\"M 0 183.35625 \nL 258.046508 183.35625 \nL 258.046508 0 \nL 0 0 \nz\n\" style=\"fill: #ffffff\"/>\n  </g>\n  <g id=\"axes_1\">\n   <g id=\"patch_2\">\n    <path d=\"M 52.160938 145.8 \nL 247.460938 145.8 \nL 247.460938 7.2 \nL 52.160938 7.2 \nz\n\" style=\"fill: #ffffff\"/>\n   </g>\n   <g id=\"matplotlib.axis_1\">\n    <g id=\"xtick_1\">\n     <g id=\"line2d_1\">\n      <path d=\"M 55.605867 145.8 \nL 55.605867 7.2 \n\" clip-path=\"url(#p4cb46f87ce)\" style=\"fill: none; stroke: #b0b0b0; stroke-width: 0.8; stroke-linecap: square\"/>\n     </g>\n     <g id=\"line2d_2\">\n      <defs>\n       <path id=\"m140a894cc5\" d=\"M 0 0 \nL 0 3.5 \n\" style=\"stroke: #000000; stroke-width: 0.8\"/>\n      </defs>\n      <g>\n       <use xlink:href=\"#m140a894cc5\" x=\"55.605867\" y=\"145.8\" style=\"stroke: #000000; stroke-width: 0.8\"/>\n      </g>\n     </g>\n     <g id=\"text_1\">\n      <!-- −10 -->\n      <g transform=\"translate(45.053523 160.398438) scale(0.1 -0.1)\">\n       <defs>\n        <path id=\"DejaVuSans-2212\" d=\"M 678 2272 \nL 4684 2272 \nL 4684 1741 \nL 678 1741 \nL 678 2272 \nz\n\" transform=\"scale(0.015625)\"/>\n        <path id=\"DejaVuSans-31\" d=\"M 794 531 \nL 1825 531 \nL 1825 4091 \nL 703 3866 \nL 703 4441 \nL 1819 4666 \nL 2450 4666 \nL 2450 531 \nL 3481 531 \nL 3481 0 \nL 794 0 \nL 794 531 \nz\n\" transform=\"scale(0.015625)\"/>\n        <path id=\"DejaVuSans-30\" d=\"M 2034 4250 \nQ 1547 4250 1301 3770 \nQ 1056 3291 1056 2328 \nQ 1056 1369 1301 889 \nQ 1547 409 2034 409 \nQ 2525 409 2770 889 \nQ 3016 1369 3016 2328 \nQ 3016 3291 2770 3770 \nQ 2525 4250 2034 4250 \nz\nM 2034 4750 \nQ 2819 4750 3233 4129 \nQ 3647 3509 3647 2328 \nQ 3647 1150 3233 529 \nQ 2819 -91 2034 -91 \nQ 1250 -91 836 529 \nQ 422 1150 422 2328 \nQ 422 3509 836 4129 \nQ 1250 4750 2034 4750 \nz\n\" transform=\"scale(0.015625)\"/>\n       </defs>\n       <use xlink:href=\"#DejaVuSans-2212\"/>\n       <use xlink:href=\"#DejaVuSans-31\" x=\"83.789062\"/>\n       <use xlink:href=\"#DejaVuSans-30\" x=\"147.412109\"/>\n      </g>\n     </g>\n    </g>\n    <g id=\"xtick_2\">\n     <g id=\"line2d_3\">\n      <path d=\"M 102.825402 145.8 \nL 102.825402 7.2 \n\" clip-path=\"url(#p4cb46f87ce)\" style=\"fill: none; stroke: #b0b0b0; stroke-width: 0.8; stroke-linecap: square\"/>\n     </g>\n     <g id=\"line2d_4\">\n      <g>\n       <use xlink:href=\"#m140a894cc5\" x=\"102.825402\" y=\"145.8\" style=\"stroke: #000000; stroke-width: 0.8\"/>\n      </g>\n     </g>\n     <g id=\"text_2\">\n      <!-- −5 -->\n      <g transform=\"translate(95.454309 160.398438) scale(0.1 -0.1)\">\n       <defs>\n        <path id=\"DejaVuSans-35\" d=\"M 691 4666 \nL 3169 4666 \nL 3169 4134 \nL 1269 4134 \nL 1269 2991 \nQ 1406 3038 1543 3061 \nQ 1681 3084 1819 3084 \nQ 2600 3084 3056 2656 \nQ 3513 2228 3513 1497 \nQ 3513 744 3044 326 \nQ 2575 -91 1722 -91 \nQ 1428 -91 1123 -41 \nQ 819 9 494 109 \nL 494 744 \nQ 775 591 1075 516 \nQ 1375 441 1709 441 \nQ 2250 441 2565 725 \nQ 2881 1009 2881 1497 \nQ 2881 1984 2565 2268 \nQ 2250 2553 1709 2553 \nQ 1456 2553 1204 2497 \nQ 953 2441 691 2322 \nL 691 4666 \nz\n\" transform=\"scale(0.015625)\"/>\n       </defs>\n       <use xlink:href=\"#DejaVuSans-2212\"/>\n       <use xlink:href=\"#DejaVuSans-35\" x=\"83.789062\"/>\n      </g>\n     </g>\n    </g>\n    <g id=\"xtick_3\">\n     <g id=\"line2d_5\">\n      <path d=\"M 150.044938 145.8 \nL 150.044938 7.2 \n\" clip-path=\"url(#p4cb46f87ce)\" style=\"fill: none; stroke: #b0b0b0; stroke-width: 0.8; stroke-linecap: square\"/>\n     </g>\n     <g id=\"line2d_6\">\n      <g>\n       <use xlink:href=\"#m140a894cc5\" x=\"150.044938\" y=\"145.8\" style=\"stroke: #000000; stroke-width: 0.8\"/>\n      </g>\n     </g>\n     <g id=\"text_3\">\n      <!-- 0 -->\n      <g transform=\"translate(146.863688 160.398438) scale(0.1 -0.1)\">\n       <use xlink:href=\"#DejaVuSans-30\"/>\n      </g>\n     </g>\n    </g>\n    <g id=\"xtick_4\">\n     <g id=\"line2d_7\">\n      <path d=\"M 197.264473 145.8 \nL 197.264473 7.2 \n\" clip-path=\"url(#p4cb46f87ce)\" style=\"fill: none; stroke: #b0b0b0; stroke-width: 0.8; stroke-linecap: square\"/>\n     </g>\n     <g id=\"line2d_8\">\n      <g>\n       <use xlink:href=\"#m140a894cc5\" x=\"197.264473\" y=\"145.8\" style=\"stroke: #000000; stroke-width: 0.8\"/>\n      </g>\n     </g>\n     <g id=\"text_4\">\n      <!-- 5 -->\n      <g transform=\"translate(194.083223 160.398438) scale(0.1 -0.1)\">\n       <use xlink:href=\"#DejaVuSans-35\"/>\n      </g>\n     </g>\n    </g>\n    <g id=\"xtick_5\">\n     <g id=\"line2d_9\">\n      <path d=\"M 244.484008 145.8 \nL 244.484008 7.2 \n\" clip-path=\"url(#p4cb46f87ce)\" style=\"fill: none; stroke: #b0b0b0; stroke-width: 0.8; stroke-linecap: square\"/>\n     </g>\n     <g id=\"line2d_10\">\n      <g>\n       <use xlink:href=\"#m140a894cc5\" x=\"244.484008\" y=\"145.8\" style=\"stroke: #000000; stroke-width: 0.8\"/>\n      </g>\n     </g>\n     <g id=\"text_5\">\n      <!-- 10 -->\n      <g transform=\"translate(238.121508 160.398438) scale(0.1 -0.1)\">\n       <use xlink:href=\"#DejaVuSans-31\"/>\n       <use xlink:href=\"#DejaVuSans-30\" x=\"63.623047\"/>\n      </g>\n     </g>\n    </g>\n    <g id=\"text_6\">\n     <!-- x -->\n     <g transform=\"translate(146.851563 174.076563) scale(0.1 -0.1)\">\n      <defs>\n       <path id=\"DejaVuSans-78\" d=\"M 3513 3500 \nL 2247 1797 \nL 3578 0 \nL 2900 0 \nL 1881 1375 \nL 863 0 \nL 184 0 \nL 1544 1831 \nL 300 3500 \nL 978 3500 \nL 1906 2253 \nL 2834 3500 \nL 3513 3500 \nz\n\" transform=\"scale(0.015625)\"/>\n      </defs>\n      <use xlink:href=\"#DejaVuSans-78\"/>\n     </g>\n    </g>\n   </g>\n   <g id=\"matplotlib.axis_2\">\n    <g id=\"ytick_1\">\n     <g id=\"line2d_11\">\n      <path d=\"M 52.160938 139.5 \nL 247.460938 139.5 \n\" clip-path=\"url(#p4cb46f87ce)\" style=\"fill: none; stroke: #b0b0b0; stroke-width: 0.8; stroke-linecap: square\"/>\n     </g>\n     <g id=\"line2d_12\">\n      <defs>\n       <path id=\"mf119768677\" d=\"M 0 0 \nL -3.5 0 \n\" style=\"stroke: #000000; stroke-width: 0.8\"/>\n      </defs>\n      <g>\n       <use xlink:href=\"#mf119768677\" x=\"52.160938\" y=\"139.5\" style=\"stroke: #000000; stroke-width: 0.8\"/>\n      </g>\n     </g>\n     <g id=\"text_7\">\n      <!-- −1.0 -->\n      <g transform=\"translate(20.878125 143.299219) scale(0.1 -0.1)\">\n       <defs>\n        <path id=\"DejaVuSans-2e\" d=\"M 684 794 \nL 1344 794 \nL 1344 0 \nL 684 0 \nL 684 794 \nz\n\" transform=\"scale(0.015625)\"/>\n       </defs>\n       <use xlink:href=\"#DejaVuSans-2212\"/>\n       <use xlink:href=\"#DejaVuSans-31\" x=\"83.789062\"/>\n       <use xlink:href=\"#DejaVuSans-2e\" x=\"147.412109\"/>\n       <use xlink:href=\"#DejaVuSans-30\" x=\"179.199219\"/>\n      </g>\n     </g>\n    </g>\n    <g id=\"ytick_2\">\n     <g id=\"line2d_13\">\n      <path d=\"M 52.160938 107.999501 \nL 247.460938 107.999501 \n\" clip-path=\"url(#p4cb46f87ce)\" style=\"fill: none; stroke: #b0b0b0; stroke-width: 0.8; stroke-linecap: square\"/>\n     </g>\n     <g id=\"line2d_14\">\n      <g>\n       <use xlink:href=\"#mf119768677\" x=\"52.160938\" y=\"107.999501\" style=\"stroke: #000000; stroke-width: 0.8\"/>\n      </g>\n     </g>\n     <g id=\"text_8\">\n      <!-- −0.5 -->\n      <g transform=\"translate(20.878125 111.798719) scale(0.1 -0.1)\">\n       <use xlink:href=\"#DejaVuSans-2212\"/>\n       <use xlink:href=\"#DejaVuSans-30\" x=\"83.789062\"/>\n       <use xlink:href=\"#DejaVuSans-2e\" x=\"147.412109\"/>\n       <use xlink:href=\"#DejaVuSans-35\" x=\"179.199219\"/>\n      </g>\n     </g>\n    </g>\n    <g id=\"ytick_3\">\n     <g id=\"line2d_15\">\n      <path d=\"M 52.160938 76.499001 \nL 247.460938 76.499001 \n\" clip-path=\"url(#p4cb46f87ce)\" style=\"fill: none; stroke: #b0b0b0; stroke-width: 0.8; stroke-linecap: square\"/>\n     </g>\n     <g id=\"line2d_16\">\n      <g>\n       <use xlink:href=\"#mf119768677\" x=\"52.160938\" y=\"76.499001\" style=\"stroke: #000000; stroke-width: 0.8\"/>\n      </g>\n     </g>\n     <g id=\"text_9\">\n      <!-- 0.0 -->\n      <g transform=\"translate(29.257812 80.29822) scale(0.1 -0.1)\">\n       <use xlink:href=\"#DejaVuSans-30\"/>\n       <use xlink:href=\"#DejaVuSans-2e\" x=\"63.623047\"/>\n       <use xlink:href=\"#DejaVuSans-30\" x=\"95.410156\"/>\n      </g>\n     </g>\n    </g>\n    <g id=\"ytick_4\">\n     <g id=\"line2d_17\">\n      <path d=\"M 52.160938 44.998502 \nL 247.460938 44.998502 \n\" clip-path=\"url(#p4cb46f87ce)\" style=\"fill: none; stroke: #b0b0b0; stroke-width: 0.8; stroke-linecap: square\"/>\n     </g>\n     <g id=\"line2d_18\">\n      <g>\n       <use xlink:href=\"#mf119768677\" x=\"52.160938\" y=\"44.998502\" style=\"stroke: #000000; stroke-width: 0.8\"/>\n      </g>\n     </g>\n     <g id=\"text_10\">\n      <!-- 0.5 -->\n      <g transform=\"translate(29.257812 48.79772) scale(0.1 -0.1)\">\n       <use xlink:href=\"#DejaVuSans-30\"/>\n       <use xlink:href=\"#DejaVuSans-2e\" x=\"63.623047\"/>\n       <use xlink:href=\"#DejaVuSans-35\" x=\"95.410156\"/>\n      </g>\n     </g>\n    </g>\n    <g id=\"ytick_5\">\n     <g id=\"line2d_19\">\n      <path d=\"M 52.160938 13.498002 \nL 247.460938 13.498002 \n\" clip-path=\"url(#p4cb46f87ce)\" style=\"fill: none; stroke: #b0b0b0; stroke-width: 0.8; stroke-linecap: square\"/>\n     </g>\n     <g id=\"line2d_20\">\n      <g>\n       <use xlink:href=\"#mf119768677\" x=\"52.160938\" y=\"13.498002\" style=\"stroke: #000000; stroke-width: 0.8\"/>\n      </g>\n     </g>\n     <g id=\"text_11\">\n      <!-- 1.0 -->\n      <g transform=\"translate(29.257812 17.297221) scale(0.1 -0.1)\">\n       <use xlink:href=\"#DejaVuSans-31\"/>\n       <use xlink:href=\"#DejaVuSans-2e\" x=\"63.623047\"/>\n       <use xlink:href=\"#DejaVuSans-30\" x=\"95.410156\"/>\n      </g>\n     </g>\n    </g>\n    <g id=\"text_12\">\n     <!-- f'(x) -->\n     <g transform=\"translate(14.798438 86.495313) rotate(-90) scale(0.1 -0.1)\">\n      <defs>\n       <path id=\"DejaVuSans-66\" d=\"M 2375 4863 \nL 2375 4384 \nL 1825 4384 \nQ 1516 4384 1395 4259 \nQ 1275 4134 1275 3809 \nL 1275 3500 \nL 2222 3500 \nL 2222 3053 \nL 1275 3053 \nL 1275 0 \nL 697 0 \nL 697 3053 \nL 147 3053 \nL 147 3500 \nL 697 3500 \nL 697 3744 \nQ 697 4328 969 4595 \nQ 1241 4863 1831 4863 \nL 2375 4863 \nz\n\" transform=\"scale(0.015625)\"/>\n       <path id=\"DejaVuSans-27\" d=\"M 1147 4666 \nL 1147 2931 \nL 616 2931 \nL 616 4666 \nL 1147 4666 \nz\n\" transform=\"scale(0.015625)\"/>\n       <path id=\"DejaVuSans-28\" d=\"M 1984 4856 \nQ 1566 4138 1362 3434 \nQ 1159 2731 1159 2009 \nQ 1159 1288 1364 580 \nQ 1569 -128 1984 -844 \nL 1484 -844 \nQ 1016 -109 783 600 \nQ 550 1309 550 2009 \nQ 550 2706 781 3412 \nQ 1013 4119 1484 4856 \nL 1984 4856 \nz\n\" transform=\"scale(0.015625)\"/>\n       <path id=\"DejaVuSans-29\" d=\"M 513 4856 \nL 1013 4856 \nQ 1481 4119 1714 3412 \nQ 1947 2706 1947 2009 \nQ 1947 1309 1714 600 \nQ 1481 -109 1013 -844 \nL 513 -844 \nQ 928 -128 1133 580 \nQ 1338 1288 1338 2009 \nQ 1338 2731 1133 3434 \nQ 928 4138 513 4856 \nz\n\" transform=\"scale(0.015625)\"/>\n      </defs>\n      <use xlink:href=\"#DejaVuSans-66\"/>\n      <use xlink:href=\"#DejaVuSans-27\" x=\"35.205078\"/>\n      <use xlink:href=\"#DejaVuSans-28\" x=\"62.695312\"/>\n      <use xlink:href=\"#DejaVuSans-78\" x=\"101.708984\"/>\n      <use xlink:href=\"#DejaVuSans-29\" x=\"160.888672\"/>\n     </g>\n    </g>\n   </g>\n   <g id=\"line2d_21\">\n    <path d=\"M 61.03821 139.5 \nL 61.982605 139.185254 \nL 62.92699 138.244176 \nL 63.871384 136.686152 \nL 64.815769 134.526774 \nL 65.760164 131.787578 \nL 66.704558 128.495955 \nL 67.648943 124.684832 \nL 69.537732 115.661025 \nL 71.426512 105.075991 \nL 74.259686 87.207067 \nL 79.926024 50.281336 \nL 81.814804 39.422856 \nL 83.703588 30.042459 \nL 84.647978 26.026155 \nL 85.592368 22.514156 \nL 86.536762 19.541548 \nL 87.481152 17.138048 \nL 88.425542 15.327666 \nL 89.369931 14.128485 \nL 90.314321 13.55249 \nL 91.258711 13.605433 \nL 92.203101 14.286787 \nL 93.147491 15.589742 \nL 94.091885 17.501295 \nL 95.036275 20.00232 \nL 95.980665 23.067846 \nL 96.925054 26.667235 \nL 98.813838 35.318797 \nL 100.702618 45.612067 \nL 102.591402 57.136727 \nL 107.313356 88.249471 \nL 110.14653 106.016035 \nL 112.035309 116.485288 \nL 113.924091 125.360429 \nL 114.868481 129.086742 \nL 115.812873 132.287618 \nL 116.757263 134.931069 \nL 117.701655 136.990691 \nL 118.646045 138.445895 \nL 119.590434 139.282149 \nL 120.534827 139.491093 \nL 121.479216 139.070643 \nL 122.423606 138.024999 \nL 123.367998 136.364602 \nL 124.312388 134.106051 \nL 125.25678 131.271906 \nL 126.20117 127.890493 \nL 127.14556 123.995596 \nL 129.034342 114.82574 \nL 130.923123 104.127916 \nL 133.756295 86.161706 \nL 139.422638 49.321833 \nL 141.31142 38.571653 \nL 143.200202 29.333516 \nL 144.144592 25.399334 \nL 145.088983 21.97572 \nL 146.033374 19.096885 \nL 146.977765 16.791594 \nL 147.922155 15.082879 \nL 148.866546 13.987813 \nL 149.810937 13.517341 \nL 150.755327 13.676158 \nL 151.699718 14.462682 \nL 152.644109 15.86905 \nL 153.5885 17.881215 \nL 154.53289 20.47907 \nL 155.477281 23.636658 \nL 156.421672 27.322426 \nL 158.310453 36.126298 \nL 160.199234 46.539699 \nL 163.032407 64.256026 \nL 168.698752 101.289323 \nL 170.587533 112.301823 \nL 172.476313 121.886962 \nL 174.365095 129.662643 \nL 175.309485 132.771875 \nL 176.253877 135.318856 \nL 177.198267 137.278118 \nL 178.142659 138.6301 \nL 179.087048 139.361288 \nL 180.031438 139.464379 \nL 180.97583 138.938338 \nL 181.92022 137.788424 \nL 182.86461 136.026131 \nL 183.809002 133.669056 \nL 184.753392 130.740762 \nL 185.697784 127.270495 \nL 187.586563 118.847846 \nL 189.475345 108.73687 \nL 191.364125 97.340687 \nL 195.141689 72.543073 \nL 197.974863 54.13842 \nL 199.863647 42.882639 \nL 201.752426 32.967062 \nL 203.641206 24.786962 \nL 204.585596 21.452706 \nL 205.529986 18.668452 \nL 206.474375 16.462023 \nL 207.41877 14.855456 \nL 208.363159 13.864821 \nL 209.307549 13.5 \nL 210.251939 13.764644 \nL 211.196329 14.65611 \nL 212.140723 16.165497 \nL 213.085113 18.27771 \nL 214.029503 20.971649 \nL 214.973897 24.220415 \nL 215.918287 27.991515 \nL 217.807067 36.945202 \nL 219.695851 47.4758 \nL 222.529025 65.296874 \nL 228.195363 102.25964 \nL 230.084143 113.168351 \nL 231.972932 122.615214 \nL 232.917317 126.669993 \nL 233.861711 130.22352 \nL 234.806097 133.240221 \nL 235.750491 135.690008 \nL 236.694885 137.548372 \nL 237.63927 138.796739 \nL 238.583665 139.422659 \nL 238.583665 139.422659 \n\" clip-path=\"url(#p4cb46f87ce)\" style=\"fill: none; stroke: #1f77b4; stroke-width: 1.5; stroke-linecap: square\"/>\n   </g>\n   <g id=\"patch_3\">\n    <path d=\"M 52.160938 145.8 \nL 52.160938 7.2 \n\" style=\"fill: none; stroke: #000000; stroke-width: 0.8; stroke-linejoin: miter; stroke-linecap: square\"/>\n   </g>\n   <g id=\"patch_4\">\n    <path d=\"M 247.460938 145.8 \nL 247.460938 7.2 \n\" style=\"fill: none; stroke: #000000; stroke-width: 0.8; stroke-linejoin: miter; stroke-linecap: square\"/>\n   </g>\n   <g id=\"patch_5\">\n    <path d=\"M 52.160937 145.8 \nL 247.460938 145.8 \n\" style=\"fill: none; stroke: #000000; stroke-width: 0.8; stroke-linejoin: miter; stroke-linecap: square\"/>\n   </g>\n   <g id=\"patch_6\">\n    <path d=\"M 52.160937 7.2 \nL 247.460938 7.2 \n\" style=\"fill: none; stroke: #000000; stroke-width: 0.8; stroke-linejoin: miter; stroke-linecap: square\"/>\n   </g>\n   <g id=\"legend_1\">\n    <g id=\"patch_7\">\n     <path d=\"M 123.815625 85.339063 \nL 175.80625 85.339063 \nQ 177.80625 85.339063 177.80625 83.339063 \nL 177.80625 69.660938 \nQ 177.80625 67.660938 175.80625 67.660938 \nL 123.815625 67.660938 \nQ 121.815625 67.660938 121.815625 69.660938 \nL 121.815625 83.339063 \nQ 121.815625 85.339063 123.815625 85.339063 \nz\n\" style=\"fill: #ffffff; opacity: 0.8; stroke: #cccccc; stroke-linejoin: miter\"/>\n    </g>\n    <g id=\"line2d_22\">\n     <path d=\"M 125.815625 75.759375 \nL 135.815625 75.759375 \nL 145.815625 75.759375 \n\" style=\"fill: none; stroke: #1f77b4; stroke-width: 1.5; stroke-linecap: square\"/>\n    </g>\n    <g id=\"text_13\">\n     <!-- f'(x) -->\n     <g transform=\"translate(153.815625 79.259375) scale(0.1 -0.1)\">\n      <use xlink:href=\"#DejaVuSans-66\"/>\n      <use xlink:href=\"#DejaVuSans-27\" x=\"35.205078\"/>\n      <use xlink:href=\"#DejaVuSans-28\" x=\"62.695312\"/>\n      <use xlink:href=\"#DejaVuSans-78\" x=\"101.708984\"/>\n      <use xlink:href=\"#DejaVuSans-29\" x=\"160.888672\"/>\n     </g>\n    </g>\n   </g>\n  </g>\n </g>\n <defs>\n  <clipPath id=\"p4cb46f87ce\">\n   <rect x=\"52.160938\" y=\"7.2\" width=\"195.3\" height=\"138.6\"/>\n  </clipPath>\n </defs>\n</svg>\n"
          },
          "metadata": {}
        }
      ]
    },
    {
      "cell_type": "markdown",
      "source": [
        "## **Torch for Probability** (see d2l Ch2.6.1)"
      ],
      "metadata": {
        "id": "ZNLLO2kX1CtM"
      }
    },
    {
      "cell_type": "markdown",
      "source": [
        "这个Section主要适应一下用torch package来做一些概率的计算。"
      ],
      "metadata": {
        "id": "mBsU3vwsv6iv"
      }
    },
    {
      "cell_type": "markdown",
      "source": [
        "E.g.，检查骰子是否有瑕疵，方法是多次投掷并记录结果。 对于每个骰子，我们将观察到{1, ..., 6}中的一个值。 对于每个值，一种自然的方法是将它出现的次数除以投掷的总次数， 即此事件（event）概率的估计值。"
      ],
      "metadata": {
        "id": "UuQPgmCh2KKS"
      }
    },
    {
      "cell_type": "code",
      "source": [
        "import torch\n",
        "from torch.distributions import multinomial #multinomial is here!\n",
        "from d2l import torch as d2l"
      ],
      "metadata": {
        "id": "Nne7Q16q14iw"
      },
      "execution_count": 376,
      "outputs": []
    },
    {
      "cell_type": "code",
      "source": [
        "fair_probs = torch.ones([6]) / 6      #1/6 array\n",
        "fair_probs"
      ],
      "metadata": {
        "colab": {
          "base_uri": "https://localhost:8080/",
          "height": 0
        },
        "id": "Z7NDJg_O2oH7",
        "outputId": "6e9eb2f5-f124-4e3b-a500-3d9feb48bb6f"
      },
      "execution_count": 377,
      "outputs": [
        {
          "output_type": "execute_result",
          "data": {
            "text/plain": [
              "tensor([0.1667, 0.1667, 0.1667, 0.1667, 0.1667, 0.1667])"
            ]
          },
          "metadata": {},
          "execution_count": 377
        }
      ]
    },
    {
      "cell_type": "markdown",
      "source": [
        "***E.g.1,***"
      ],
      "metadata": {
        "id": "eEG_9Y6a1s4j"
      }
    },
    {
      "cell_type": "code",
      "source": [
        "counts = multinomial.Multinomial(1000, fair_probs).sample()  #在索引处的值是采样结果中出现的次数。\n",
        "# 我这里填了1000，说明投了1000次骰子。然后我们看看每个面被抽到多少次。\n",
        "p_hat = counts/ 1000\n",
        "p_hat"
      ],
      "metadata": {
        "colab": {
          "base_uri": "https://localhost:8080/",
          "height": 0
        },
        "id": "ByEGVNRkxZwj",
        "outputId": "491963bb-7eae-43db-bba3-f7a29dd41f04"
      },
      "execution_count": 378,
      "outputs": [
        {
          "output_type": "execute_result",
          "data": {
            "text/plain": [
              "tensor([0.1780, 0.1510, 0.1720, 0.1630, 0.1620, 0.1740])"
            ]
          },
          "metadata": {},
          "execution_count": 378
        }
      ]
    },
    {
      "cell_type": "markdown",
      "source": [
        "***E.g.2,*** Set 500 groups and sample 10 samples for each group."
      ],
      "metadata": {
        "id": "GT7qfOSJ16vb"
      }
    },
    {
      "cell_type": "code",
      "source": [
        "counts = multinomial.Multinomial(10, fair_probs).sample((500,)) # counts.shape = [500,6]\n",
        "cum_counts = counts.cumsum(dim=0) #cumsum()累加，1_1=x_1, i_2 = x_1 +x_2, ...\n",
        "estimates = cum_counts / cum_counts.sum(dim=1, keepdims = True)\n",
        "\n",
        "d2l.set_figsize((6, 4.5))\n",
        "for i in range(6):\n",
        "  d2l.plt.plot(estimates[:,i].numpy(),\n",
        "               label = () )"
      ],
      "metadata": {
        "colab": {
          "base_uri": "https://localhost:8080/",
          "height": 395
        },
        "id": "HGNUBBXn1yQn",
        "outputId": "f46ffb9a-0223-448e-c592-350d4a47ce0b"
      },
      "execution_count": 379,
      "outputs": [
        {
          "output_type": "display_data",
          "data": {
            "text/plain": [
              "<Figure size 600x450 with 1 Axes>"
            ],
            "image/svg+xml": "<?xml version=\"1.0\" encoding=\"utf-8\" standalone=\"no\"?>\n<!DOCTYPE svg PUBLIC \"-//W3C//DTD SVG 1.1//EN\"\n  \"http://www.w3.org/Graphics/SVG/1.1/DTD/svg11.dtd\">\n<svg xmlns:xlink=\"http://www.w3.org/1999/xlink\" width=\"378.465625pt\" height=\"280.558125pt\" viewBox=\"0 0 378.465625 280.558125\" xmlns=\"http://www.w3.org/2000/svg\" version=\"1.1\">\n <metadata>\n  <rdf:RDF xmlns:dc=\"http://purl.org/dc/elements/1.1/\" xmlns:cc=\"http://creativecommons.org/ns#\" xmlns:rdf=\"http://www.w3.org/1999/02/22-rdf-syntax-ns#\">\n   <cc:Work>\n    <dc:type rdf:resource=\"http://purl.org/dc/dcmitype/StillImage\"/>\n    <dc:date>2023-07-06T12:03:38.693989</dc:date>\n    <dc:format>image/svg+xml</dc:format>\n    <dc:creator>\n     <cc:Agent>\n      <dc:title>Matplotlib v3.7.1, https://matplotlib.org/</dc:title>\n     </cc:Agent>\n    </dc:creator>\n   </cc:Work>\n  </rdf:RDF>\n </metadata>\n <defs>\n  <style type=\"text/css\">*{stroke-linejoin: round; stroke-linecap: butt}</style>\n </defs>\n <g id=\"figure_1\">\n  <g id=\"patch_1\">\n   <path d=\"M 0 280.558125 \nL 378.465625 280.558125 \nL 378.465625 0 \nL 0 0 \nz\n\" style=\"fill: #ffffff\"/>\n  </g>\n  <g id=\"axes_1\">\n   <g id=\"patch_2\">\n    <path d=\"M 36.465625 256.68 \nL 371.265625 256.68 \nL 371.265625 7.2 \nL 36.465625 7.2 \nz\n\" style=\"fill: #ffffff\"/>\n   </g>\n   <g id=\"matplotlib.axis_1\">\n    <g id=\"xtick_1\">\n     <g id=\"line2d_1\">\n      <defs>\n       <path id=\"m99307e222a\" d=\"M 0 0 \nL 0 3.5 \n\" style=\"stroke: #000000; stroke-width: 0.8\"/>\n      </defs>\n      <g>\n       <use xlink:href=\"#m99307e222a\" x=\"51.683807\" y=\"256.68\" style=\"stroke: #000000; stroke-width: 0.8\"/>\n      </g>\n     </g>\n     <g id=\"text_1\">\n      <!-- 0 -->\n      <g transform=\"translate(48.502557 271.278437) scale(0.1 -0.1)\">\n       <defs>\n        <path id=\"DejaVuSans-30\" d=\"M 2034 4250 \nQ 1547 4250 1301 3770 \nQ 1056 3291 1056 2328 \nQ 1056 1369 1301 889 \nQ 1547 409 2034 409 \nQ 2525 409 2770 889 \nQ 3016 1369 3016 2328 \nQ 3016 3291 2770 3770 \nQ 2525 4250 2034 4250 \nz\nM 2034 4750 \nQ 2819 4750 3233 4129 \nQ 3647 3509 3647 2328 \nQ 3647 1150 3233 529 \nQ 2819 -91 2034 -91 \nQ 1250 -91 836 529 \nQ 422 1150 422 2328 \nQ 422 3509 836 4129 \nQ 1250 4750 2034 4750 \nz\n\" transform=\"scale(0.015625)\"/>\n       </defs>\n       <use xlink:href=\"#DejaVuSans-30\"/>\n      </g>\n     </g>\n    </g>\n    <g id=\"xtick_2\">\n     <g id=\"line2d_2\">\n      <g>\n       <use xlink:href=\"#m99307e222a\" x=\"112.678524\" y=\"256.68\" style=\"stroke: #000000; stroke-width: 0.8\"/>\n      </g>\n     </g>\n     <g id=\"text_2\">\n      <!-- 100 -->\n      <g transform=\"translate(103.134774 271.278437) scale(0.1 -0.1)\">\n       <defs>\n        <path id=\"DejaVuSans-31\" d=\"M 794 531 \nL 1825 531 \nL 1825 4091 \nL 703 3866 \nL 703 4441 \nL 1819 4666 \nL 2450 4666 \nL 2450 531 \nL 3481 531 \nL 3481 0 \nL 794 0 \nL 794 531 \nz\n\" transform=\"scale(0.015625)\"/>\n       </defs>\n       <use xlink:href=\"#DejaVuSans-31\"/>\n       <use xlink:href=\"#DejaVuSans-30\" x=\"63.623047\"/>\n       <use xlink:href=\"#DejaVuSans-30\" x=\"127.246094\"/>\n      </g>\n     </g>\n    </g>\n    <g id=\"xtick_3\">\n     <g id=\"line2d_3\">\n      <g>\n       <use xlink:href=\"#m99307e222a\" x=\"173.67324\" y=\"256.68\" style=\"stroke: #000000; stroke-width: 0.8\"/>\n      </g>\n     </g>\n     <g id=\"text_3\">\n      <!-- 200 -->\n      <g transform=\"translate(164.12949 271.278437) scale(0.1 -0.1)\">\n       <defs>\n        <path id=\"DejaVuSans-32\" d=\"M 1228 531 \nL 3431 531 \nL 3431 0 \nL 469 0 \nL 469 531 \nQ 828 903 1448 1529 \nQ 2069 2156 2228 2338 \nQ 2531 2678 2651 2914 \nQ 2772 3150 2772 3378 \nQ 2772 3750 2511 3984 \nQ 2250 4219 1831 4219 \nQ 1534 4219 1204 4116 \nQ 875 4013 500 3803 \nL 500 4441 \nQ 881 4594 1212 4672 \nQ 1544 4750 1819 4750 \nQ 2544 4750 2975 4387 \nQ 3406 4025 3406 3419 \nQ 3406 3131 3298 2873 \nQ 3191 2616 2906 2266 \nQ 2828 2175 2409 1742 \nQ 1991 1309 1228 531 \nz\n\" transform=\"scale(0.015625)\"/>\n       </defs>\n       <use xlink:href=\"#DejaVuSans-32\"/>\n       <use xlink:href=\"#DejaVuSans-30\" x=\"63.623047\"/>\n       <use xlink:href=\"#DejaVuSans-30\" x=\"127.246094\"/>\n      </g>\n     </g>\n    </g>\n    <g id=\"xtick_4\">\n     <g id=\"line2d_4\">\n      <g>\n       <use xlink:href=\"#m99307e222a\" x=\"234.667957\" y=\"256.68\" style=\"stroke: #000000; stroke-width: 0.8\"/>\n      </g>\n     </g>\n     <g id=\"text_4\">\n      <!-- 300 -->\n      <g transform=\"translate(225.124207 271.278437) scale(0.1 -0.1)\">\n       <defs>\n        <path id=\"DejaVuSans-33\" d=\"M 2597 2516 \nQ 3050 2419 3304 2112 \nQ 3559 1806 3559 1356 \nQ 3559 666 3084 287 \nQ 2609 -91 1734 -91 \nQ 1441 -91 1130 -33 \nQ 819 25 488 141 \nL 488 750 \nQ 750 597 1062 519 \nQ 1375 441 1716 441 \nQ 2309 441 2620 675 \nQ 2931 909 2931 1356 \nQ 2931 1769 2642 2001 \nQ 2353 2234 1838 2234 \nL 1294 2234 \nL 1294 2753 \nL 1863 2753 \nQ 2328 2753 2575 2939 \nQ 2822 3125 2822 3475 \nQ 2822 3834 2567 4026 \nQ 2313 4219 1838 4219 \nQ 1578 4219 1281 4162 \nQ 984 4106 628 3988 \nL 628 4550 \nQ 988 4650 1302 4700 \nQ 1616 4750 1894 4750 \nQ 2613 4750 3031 4423 \nQ 3450 4097 3450 3541 \nQ 3450 3153 3228 2886 \nQ 3006 2619 2597 2516 \nz\n\" transform=\"scale(0.015625)\"/>\n       </defs>\n       <use xlink:href=\"#DejaVuSans-33\"/>\n       <use xlink:href=\"#DejaVuSans-30\" x=\"63.623047\"/>\n       <use xlink:href=\"#DejaVuSans-30\" x=\"127.246094\"/>\n      </g>\n     </g>\n    </g>\n    <g id=\"xtick_5\">\n     <g id=\"line2d_5\">\n      <g>\n       <use xlink:href=\"#m99307e222a\" x=\"295.662674\" y=\"256.68\" style=\"stroke: #000000; stroke-width: 0.8\"/>\n      </g>\n     </g>\n     <g id=\"text_5\">\n      <!-- 400 -->\n      <g transform=\"translate(286.118924 271.278437) scale(0.1 -0.1)\">\n       <defs>\n        <path id=\"DejaVuSans-34\" d=\"M 2419 4116 \nL 825 1625 \nL 2419 1625 \nL 2419 4116 \nz\nM 2253 4666 \nL 3047 4666 \nL 3047 1625 \nL 3713 1625 \nL 3713 1100 \nL 3047 1100 \nL 3047 0 \nL 2419 0 \nL 2419 1100 \nL 313 1100 \nL 313 1709 \nL 2253 4666 \nz\n\" transform=\"scale(0.015625)\"/>\n       </defs>\n       <use xlink:href=\"#DejaVuSans-34\"/>\n       <use xlink:href=\"#DejaVuSans-30\" x=\"63.623047\"/>\n       <use xlink:href=\"#DejaVuSans-30\" x=\"127.246094\"/>\n      </g>\n     </g>\n    </g>\n    <g id=\"xtick_6\">\n     <g id=\"line2d_6\">\n      <g>\n       <use xlink:href=\"#m99307e222a\" x=\"356.65739\" y=\"256.68\" style=\"stroke: #000000; stroke-width: 0.8\"/>\n      </g>\n     </g>\n     <g id=\"text_6\">\n      <!-- 500 -->\n      <g transform=\"translate(347.11364 271.278437) scale(0.1 -0.1)\">\n       <defs>\n        <path id=\"DejaVuSans-35\" d=\"M 691 4666 \nL 3169 4666 \nL 3169 4134 \nL 1269 4134 \nL 1269 2991 \nQ 1406 3038 1543 3061 \nQ 1681 3084 1819 3084 \nQ 2600 3084 3056 2656 \nQ 3513 2228 3513 1497 \nQ 3513 744 3044 326 \nQ 2575 -91 1722 -91 \nQ 1428 -91 1123 -41 \nQ 819 9 494 109 \nL 494 744 \nQ 775 591 1075 516 \nQ 1375 441 1709 441 \nQ 2250 441 2565 725 \nQ 2881 1009 2881 1497 \nQ 2881 1984 2565 2268 \nQ 2250 2553 1709 2553 \nQ 1456 2553 1204 2497 \nQ 953 2441 691 2322 \nL 691 4666 \nz\n\" transform=\"scale(0.015625)\"/>\n       </defs>\n       <use xlink:href=\"#DejaVuSans-35\"/>\n       <use xlink:href=\"#DejaVuSans-30\" x=\"63.623047\"/>\n       <use xlink:href=\"#DejaVuSans-30\" x=\"127.246094\"/>\n      </g>\n     </g>\n    </g>\n   </g>\n   <g id=\"matplotlib.axis_2\">\n    <g id=\"ytick_1\">\n     <g id=\"line2d_7\">\n      <defs>\n       <path id=\"mc5be4ed0e3\" d=\"M 0 0 \nL -3.5 0 \n\" style=\"stroke: #000000; stroke-width: 0.8\"/>\n      </defs>\n      <g>\n       <use xlink:href=\"#mc5be4ed0e3\" x=\"36.465625\" y=\"245.34\" style=\"stroke: #000000; stroke-width: 0.8\"/>\n      </g>\n     </g>\n     <g id=\"text_7\">\n      <!-- 0.00 -->\n      <g transform=\"translate(7.2 249.139219) scale(0.1 -0.1)\">\n       <defs>\n        <path id=\"DejaVuSans-2e\" d=\"M 684 794 \nL 1344 794 \nL 1344 0 \nL 684 0 \nL 684 794 \nz\n\" transform=\"scale(0.015625)\"/>\n       </defs>\n       <use xlink:href=\"#DejaVuSans-30\"/>\n       <use xlink:href=\"#DejaVuSans-2e\" x=\"63.623047\"/>\n       <use xlink:href=\"#DejaVuSans-30\" x=\"95.410156\"/>\n       <use xlink:href=\"#DejaVuSans-30\" x=\"159.033203\"/>\n      </g>\n     </g>\n    </g>\n    <g id=\"ytick_2\">\n     <g id=\"line2d_8\">\n      <g>\n       <use xlink:href=\"#mc5be4ed0e3\" x=\"36.465625\" y=\"207.540002\" style=\"stroke: #000000; stroke-width: 0.8\"/>\n      </g>\n     </g>\n     <g id=\"text_8\">\n      <!-- 0.05 -->\n      <g transform=\"translate(7.2 211.33922) scale(0.1 -0.1)\">\n       <use xlink:href=\"#DejaVuSans-30\"/>\n       <use xlink:href=\"#DejaVuSans-2e\" x=\"63.623047\"/>\n       <use xlink:href=\"#DejaVuSans-30\" x=\"95.410156\"/>\n       <use xlink:href=\"#DejaVuSans-35\" x=\"159.033203\"/>\n      </g>\n     </g>\n    </g>\n    <g id=\"ytick_3\">\n     <g id=\"line2d_9\">\n      <g>\n       <use xlink:href=\"#mc5be4ed0e3\" x=\"36.465625\" y=\"169.740003\" style=\"stroke: #000000; stroke-width: 0.8\"/>\n      </g>\n     </g>\n     <g id=\"text_9\">\n      <!-- 0.10 -->\n      <g transform=\"translate(7.2 173.539222) scale(0.1 -0.1)\">\n       <use xlink:href=\"#DejaVuSans-30\"/>\n       <use xlink:href=\"#DejaVuSans-2e\" x=\"63.623047\"/>\n       <use xlink:href=\"#DejaVuSans-31\" x=\"95.410156\"/>\n       <use xlink:href=\"#DejaVuSans-30\" x=\"159.033203\"/>\n      </g>\n     </g>\n    </g>\n    <g id=\"ytick_4\">\n     <g id=\"line2d_10\">\n      <g>\n       <use xlink:href=\"#mc5be4ed0e3\" x=\"36.465625\" y=\"131.940005\" style=\"stroke: #000000; stroke-width: 0.8\"/>\n      </g>\n     </g>\n     <g id=\"text_10\">\n      <!-- 0.15 -->\n      <g transform=\"translate(7.2 135.739223) scale(0.1 -0.1)\">\n       <use xlink:href=\"#DejaVuSans-30\"/>\n       <use xlink:href=\"#DejaVuSans-2e\" x=\"63.623047\"/>\n       <use xlink:href=\"#DejaVuSans-31\" x=\"95.410156\"/>\n       <use xlink:href=\"#DejaVuSans-35\" x=\"159.033203\"/>\n      </g>\n     </g>\n    </g>\n    <g id=\"ytick_5\">\n     <g id=\"line2d_11\">\n      <g>\n       <use xlink:href=\"#mc5be4ed0e3\" x=\"36.465625\" y=\"94.140006\" style=\"stroke: #000000; stroke-width: 0.8\"/>\n      </g>\n     </g>\n     <g id=\"text_11\">\n      <!-- 0.20 -->\n      <g transform=\"translate(7.2 97.939225) scale(0.1 -0.1)\">\n       <use xlink:href=\"#DejaVuSans-30\"/>\n       <use xlink:href=\"#DejaVuSans-2e\" x=\"63.623047\"/>\n       <use xlink:href=\"#DejaVuSans-32\" x=\"95.410156\"/>\n       <use xlink:href=\"#DejaVuSans-30\" x=\"159.033203\"/>\n      </g>\n     </g>\n    </g>\n    <g id=\"ytick_6\">\n     <g id=\"line2d_12\">\n      <g>\n       <use xlink:href=\"#mc5be4ed0e3\" x=\"36.465625\" y=\"56.340008\" style=\"stroke: #000000; stroke-width: 0.8\"/>\n      </g>\n     </g>\n     <g id=\"text_12\">\n      <!-- 0.25 -->\n      <g transform=\"translate(7.2 60.139226) scale(0.1 -0.1)\">\n       <use xlink:href=\"#DejaVuSans-30\"/>\n       <use xlink:href=\"#DejaVuSans-2e\" x=\"63.623047\"/>\n       <use xlink:href=\"#DejaVuSans-32\" x=\"95.410156\"/>\n       <use xlink:href=\"#DejaVuSans-35\" x=\"159.033203\"/>\n      </g>\n     </g>\n    </g>\n    <g id=\"ytick_7\">\n     <g id=\"line2d_13\">\n      <g>\n       <use xlink:href=\"#mc5be4ed0e3\" x=\"36.465625\" y=\"18.540009\" style=\"stroke: #000000; stroke-width: 0.8\"/>\n      </g>\n     </g>\n     <g id=\"text_13\">\n      <!-- 0.30 -->\n      <g transform=\"translate(7.2 22.339228) scale(0.1 -0.1)\">\n       <use xlink:href=\"#DejaVuSans-30\"/>\n       <use xlink:href=\"#DejaVuSans-2e\" x=\"63.623047\"/>\n       <use xlink:href=\"#DejaVuSans-33\" x=\"95.410156\"/>\n       <use xlink:href=\"#DejaVuSans-30\" x=\"159.033203\"/>\n      </g>\n     </g>\n    </g>\n   </g>\n   <g id=\"line2d_14\">\n    <path d=\"M 51.683807 94.140004 \nL 52.293754 56.340008 \nL 52.903701 94.140004 \nL 53.513648 75.240011 \nL 54.123595 79.020008 \nL 54.733543 106.740003 \nL 55.34349 104.940003 \nL 55.953437 94.140004 \nL 56.563384 94.140004 \nL 57.173331 109.26 \nL 57.783278 101.012735 \nL 59.003173 111.586156 \nL 59.61312 104.940003 \nL 60.833014 113.040008 \nL 62.052909 110.940002 \nL 62.662856 110.05579 \nL 63.88275 101.340003 \nL 64.492697 107.885456 \nL 65.712592 113.040008 \nL 66.322539 109.26 \nL 68.15238 107.640008 \nL 69.372275 101.700008 \nL 69.982222 103.894844 \nL 70.592169 98.86501 \nL 71.202116 101.012735 \nL 71.812063 98.587062 \nL 72.42201 102.78001 \nL 73.031958 100.440009 \nL 74.251852 104.087379 \nL 74.861799 103.83231 \nL 75.471746 105.480004 \nL 76.081694 99.671717 \nL 76.691641 103.140003 \nL 77.301588 104.688843 \nL 77.911535 107.885456 \nL 78.521482 109.26 \nL 79.131429 112.218262 \nL 79.741377 108.616606 \nL 80.351324 111.465009 \nL 80.961271 111.111437 \nL 81.571218 109.26 \nL 82.181165 110.445884 \nL 83.40106 109.830575 \nL 84.011007 106.740003 \nL 85.230901 103.590006 \nL 86.450795 105.871044 \nL 87.67069 105.480004 \nL 88.280637 107.772792 \nL 88.890584 107.552905 \nL 90.110478 109.496255 \nL 90.720426 108.096928 \nL 91.330373 107.885456 \nL 91.94032 106.551951 \nL 92.550267 107.481179 \nL 93.160214 106.192183 \nL 93.770161 108.180009 \nL 94.380109 107.982258 \nL 94.990056 109.890011 \nL 95.600003 110.709864 \nL 96.20995 112.529195 \nL 96.819897 111.276 \nL 97.429844 112.045272 \nL 98.039792 110.830909 \nL 98.649739 110.616925 \nL 99.259686 111.365323 \nL 101.089527 110.735132 \nL 101.699475 111.446027 \nL 102.309422 111.240008 \nL 104.139263 113.257247 \nL 104.74921 112.180917 \nL 105.359158 111.97821 \nL 105.969105 110.940002 \nL 106.579052 111.586156 \nL 107.188999 111.396527 \nL 108.408893 114.246384 \nL 109.018841 114.034743 \nL 110.238735 115.183305 \nL 110.848682 114.968578 \nL 111.458629 115.521827 \nL 112.068576 115.308001 \nL 112.678524 114.349911 \nL 113.288471 114.892943 \nL 113.898418 114.691463 \nL 115.118312 115.740002 \nL 115.728259 116.962645 \nL 116.338207 115.336265 \nL 116.948154 116.540005 \nL 117.558101 115.640923 \nL 118.168048 114.070916 \nL 118.777995 115.253522 \nL 120.607837 116.687378 \nL 121.217784 117.806087 \nL 121.827731 118.253803 \nL 122.437678 117.40154 \nL 123.047625 117.845088 \nL 123.657573 117.01059 \nL 124.877467 116.632572 \nL 125.487414 117.687543 \nL 126.097361 117.496101 \nL 127.927203 120.540001 \nL 128.53715 120.927403 \nL 129.147097 121.899382 \nL 130.976939 121.263671 \nL 131.586886 121.630919 \nL 132.196833 122.561059 \nL 132.80678 122.913144 \nL 133.416727 121.020003 \nL 134.636622 122.834896 \nL 135.856516 123.509787 \nL 136.466463 121.680002 \nL 137.07641 121.484685 \nL 137.686357 120.759719 \nL 139.516199 120.208971 \nL 140.736093 120.88286 \nL 141.955988 120.523903 \nL 143.175882 121.175768 \nL 143.785829 119.505792 \nL 144.395776 119.834119 \nL 145.005723 119.66728 \nL 146.225618 120.309232 \nL 147.445512 119.977976 \nL 148.055459 120.766422 \nL 148.665406 120.6 \nL 149.275354 121.374792 \nL 150.495248 121.968224 \nL 151.105195 121.337572 \nL 151.715142 121.172727 \nL 152.325089 121.465308 \nL 152.935037 120.848985 \nL 153.544984 120.69001 \nL 154.154931 120.085571 \nL 154.764878 120.822354 \nL 155.374825 121.108425 \nL 155.984772 120.951634 \nL 156.59472 120.359655 \nL 157.814614 120.924001 \nL 158.424561 120.771818 \nL 159.034508 121.475594 \nL 159.644455 120.897313 \nL 160.254403 120.747823 \nL 160.86435 121.020003 \nL 161.474297 120.453822 \nL 162.084244 121.140001 \nL 162.694191 120.99246 \nL 163.304138 121.668264 \nL 163.914086 121.519461 \nL 164.524033 121.77872 \nL 165.13398 121.226631 \nL 165.743927 121.88681 \nL 166.353874 121.340005 \nL 166.963821 121.196846 \nL 167.573769 119.867757 \nL 168.183716 120.521256 \nL 168.793663 120.776279 \nL 169.40361 119.469901 \nL 170.013557 119.727696 \nL 170.623504 119.597142 \nL 171.233452 119.084167 \nL 171.843399 118.958187 \nL 172.453346 119.213368 \nL 173.063293 119.84401 \nL 176.113029 119.217075 \nL 176.722976 118.361364 \nL 177.94287 118.128466 \nL 178.552818 118.375412 \nL 179.162765 117.900006 \nL 179.772712 118.14569 \nL 180.382659 117.675849 \nL 181.602553 117.455895 \nL 182.212501 116.995821 \nL 182.822448 117.240007 \nL 183.432395 117.13355 \nL 184.652289 117.613981 \nL 185.262236 117.16364 \nL 185.872184 117.059458 \nL 186.482131 116.615685 \nL 187.092078 116.514895 \nL 187.702025 117.09001 \nL 188.311972 117.324001 \nL 188.921919 117.221419 \nL 189.531867 117.452786 \nL 190.141814 116.687378 \nL 191.361708 116.491305 \nL 191.971655 116.06728 \nL 193.19155 117.17691 \nL 194.411444 116.980861 \nL 195.021391 117.204409 \nL 196.851233 116.914902 \nL 197.46118 117.450003 \nL 198.071127 117.353279 \nL 198.681074 117.569753 \nL 199.291021 118.09556 \nL 199.900968 117.997383 \nL 200.510916 118.208573 \nL 201.120863 117.188784 \nL 203.560651 118.029602 \nL 204.170599 118.536821 \nL 204.780546 118.440007 \nL 205.390493 118.642771 \nL 207.830282 118.261407 \nL 208.440229 118.460938 \nL 209.050176 118.95082 \nL 210.880017 119.532367 \nL 212.099912 119.340001 \nL 212.709859 118.959629 \nL 213.319806 119.150531 \nL 213.929753 118.773718 \nL 214.5397 118.681794 \nL 215.149648 118.871602 \nL 216.369542 118.131147 \nL 216.979489 118.598825 \nL 217.589436 118.786155 \nL 218.809331 119.706551 \nL 220.639172 120.246484 \nL 221.249119 120.694842 \nL 221.859066 119.790004 \nL 222.469014 119.698721 \nL 223.078961 120.144263 \nL 224.298855 120.493521 \nL 224.908802 120.401055 \nL 225.518749 120.837911 \nL 226.738644 121.177503 \nL 227.348591 121.607138 \nL 227.958538 121.25173 \nL 228.568485 121.158566 \nL 229.178432 120.548225 \nL 229.78838 120.974131 \nL 230.398327 121.140001 \nL 231.008274 121.048482 \nL 233.448063 121.699874 \nL 234.05801 121.608006 \nL 234.667957 121.265586 \nL 235.277904 121.676431 \nL 235.887851 121.336039 \nL 237.717693 121.069413 \nL 238.32764 121.474208 \nL 238.937587 121.140001 \nL 239.547534 121.297287 \nL 241.377376 122.490009 \nL 242.59727 122.790961 \nL 243.207217 122.700005 \nL 243.817164 122.848865 \nL 244.427112 122.758303 \nL 246.256953 123.198753 \nL 246.8669 122.872713 \nL 249.306689 123.449541 \nL 249.916636 123.127737 \nL 250.526583 123.501474 \nL 251.13653 123.642447 \nL 252.966372 123.375055 \nL 254.186266 123.653521 \nL 254.796213 123.565156 \nL 255.406161 123.251644 \nL 256.016108 123.615005 \nL 256.626055 123.751878 \nL 257.236002 123.664268 \nL 258.455896 123.935299 \nL 259.065844 123.847926 \nL 260.285738 124.11551 \nL 260.895685 124.46791 \nL 261.505632 124.160875 \nL 262.115579 124.511102 \nL 262.725527 124.423582 \nL 263.335474 124.119318 \nL 263.945421 124.03342 \nL 264.555368 123.732006 \nL 265.165315 123.863078 \nL 265.775262 123.778644 \nL 266.38521 123.48052 \nL 266.995157 122.756951 \nL 267.605104 122.676348 \nL 268.824998 122.940001 \nL 269.434945 122.859556 \nL 270.044893 122.990143 \nL 270.65484 123.330005 \nL 271.264787 123.458564 \nL 271.874734 123.377578 \nL 272.484681 123.713554 \nL 273.094628 123.840006 \nL 273.704576 123.758637 \nL 274.92447 124.421205 \nL 276.144364 123.847318 \nL 277.974206 123.60775 \nL 278.584153 123.73142 \nL 279.1941 123.45016 \nL 279.804047 123.775209 \nL 280.413994 123.696385 \nL 281.633889 123.940008 \nL 282.243836 123.661902 \nL 282.853783 123.783162 \nL 284.073677 123.62796 \nL 284.683625 123.353583 \nL 285.293572 123.671253 \nL 286.513466 123.909953 \nL 287.73336 123.756497 \nL 288.953255 124.380008 \nL 289.563202 124.109314 \nL 292.002991 124.571393 \nL 293.222885 124.418095 \nL 293.832832 124.152066 \nL 295.052726 124.002001 \nL 295.662674 124.304598 \nL 296.272621 124.417622 \nL 296.882568 123.967304 \nL 297.492515 124.267726 \nL 298.102462 124.380008 \nL 298.712409 124.305521 \nL 299.322357 124.417149 \nL 299.932304 124.713539 \nL 300.542251 124.823623 \nL 302.372092 124.600199 \nL 302.98204 124.892544 \nL 304.201934 125.108679 \nL 304.811881 124.670776 \nL 305.421828 124.778855 \nL 306.641723 124.271748 \nL 307.25167 124.560004 \nL 307.861617 124.487749 \nL 308.471564 124.774123 \nL 309.081511 124.70171 \nL 310.301406 124.913655 \nL 310.911353 124.663949 \nL 311.5213 124.592459 \nL 313.961089 125.011471 \nL 315.180983 124.868875 \nL 315.79093 125.146452 \nL 316.400877 125.075177 \nL 317.010824 125.177623 \nL 317.620772 125.106595 \nL 318.230719 124.863288 \nL 318.840666 124.793308 \nL 319.450613 124.551826 \nL 320.06056 124.140001 \nL 321.890402 124.448117 \nL 322.500349 124.380008 \nL 323.110296 124.651219 \nL 323.720243 124.752088 \nL 324.33019 124.683753 \nL 324.940138 124.952475 \nL 326.160032 124.815839 \nL 326.769979 124.915221 \nL 327.989873 125.445737 \nL 328.599821 125.376928 \nL 329.819715 125.571074 \nL 330.429662 125.172317 \nL 331.649556 124.708706 \nL 332.259504 124.806387 \nL 332.869451 124.740001 \nL 333.479398 124.510628 \nL 334.089345 124.771037 \nL 334.699292 124.867749 \nL 335.30924 124.801802 \nL 335.919187 125.059923 \nL 337.139081 125.250453 \nL 337.749028 125.505961 \nL 338.358975 125.439372 \nL 338.968923 125.052714 \nL 339.57887 125.307027 \nL 340.188817 125.081778 \nL 341.408711 124.951765 \nL 342.018658 125.204153 \nL 343.238553 125.074456 \nL 343.8485 125.167507 \nL 345.678341 124.974792 \nL 346.288289 125.06728 \nL 346.898236 124.847629 \nL 347.508183 124.784453 \nL 348.11813 125.031997 \nL 348.728077 125.123606 \nL 350.557919 124.934304 \nL 351.167866 124.718056 \nL 352.38776 124.900328 \nL 352.997707 124.838189 \nL 353.607655 124.928717 \nL 354.827549 124.805069 \nL 355.437496 124.895112 \nL 356.047443 124.833604 \nL 356.047443 124.833604 \n\" clip-path=\"url(#pec5c50502f)\" style=\"fill: none; stroke: #1f77b4; stroke-width: 1.5; stroke-linecap: square\"/>\n   </g>\n   <g id=\"line2d_15\">\n    <path d=\"M 51.683807 18.54 \nL 52.293754 131.94 \nL 52.903701 119.340001 \nL 53.513648 150.840004 \nL 54.123595 139.500004 \nL 54.733543 131.94 \nL 55.34349 126.540001 \nL 55.953437 122.490009 \nL 56.563384 127.74 \nL 57.173331 109.26 \nL 57.783278 121.630919 \nL 58.393226 125.640006 \nL 59.003173 123.216924 \nL 59.61312 126.540001 \nL 60.223067 119.340001 \nL 60.833014 108.315001 \nL 61.442961 111.928237 \nL 62.052909 110.940002 \nL 63.272803 124.380008 \nL 63.88275 122.940001 \nL 64.492697 125.06728 \nL 65.102644 123.722611 \nL 65.712592 128.790003 \nL 66.322539 130.428008 \nL 66.932486 134.847692 \nL 67.542433 136.14 \nL 68.15238 134.640005 \nL 68.762327 138.457245 \nL 69.372275 136.980006 \nL 69.982222 140.475487 \nL 71.202116 137.667278 \nL 71.812063 140.834117 \nL 72.42201 137.339999 \nL 73.031958 138.240005 \nL 73.641905 135.004865 \nL 74.251852 135.918952 \nL 74.861799 134.847692 \nL 75.471746 131.94 \nL 76.081694 132.86195 \nL 76.691641 128.34 \nL 77.301588 129.302799 \nL 78.521482 127.74 \nL 79.131429 123.722611 \nL 80.961271 126.540001 \nL 81.571218 127.404002 \nL 82.791112 126.124616 \nL 83.40106 126.947556 \nL 84.011007 126.340008 \nL 84.620954 123.005463 \nL 86.450795 117.602073 \nL 87.060743 117.204409 \nL 87.67069 118.080003 \nL 88.280637 116.448205 \nL 88.890584 117.307745 \nL 89.500531 115.740002 \nL 90.110478 115.402505 \nL 91.94032 117.835523 \nL 92.550267 117.487066 \nL 93.160214 118.244352 \nL 93.770161 117.900006 \nL 94.380109 118.630142 \nL 95.600003 122.10165 \nL 96.20995 121.72379 \nL 96.819897 122.364007 \nL 97.429844 120.997901 \nL 98.039792 120.649094 \nL 99.259686 123.805828 \nL 99.869633 123.435008 \nL 100.47958 124.006676 \nL 101.699475 123.286994 \nL 102.309422 123.840006 \nL 103.529316 121.391172 \nL 104.139263 121.077941 \nL 104.74921 119.912728 \nL 105.969105 121.020003 \nL 106.579052 120.724616 \nL 107.188999 118.792182 \nL 108.408893 118.267659 \nL 109.018841 117.217905 \nL 109.628788 117.765003 \nL 110.238735 119.080213 \nL 110.848682 119.597142 \nL 111.458629 118.576373 \nL 112.068576 119.088008 \nL 114.508365 115.220774 \nL 115.728259 114.823019 \nL 116.338207 116.042812 \nL 116.948154 115.140002 \nL 118.168048 116.132732 \nL 118.777995 113.891358 \nL 119.387942 113.040008 \nL 119.99789 113.541774 \nL 120.607837 112.045272 \nL 121.217784 112.54696 \nL 121.827731 111.736559 \nL 122.437678 112.878463 \nL 123.047625 112.719668 \nL 123.657573 113.834119 \nL 124.26752 114.300006 \nL 124.877467 113.508598 \nL 125.487414 113.349836 \nL 126.097361 113.808299 \nL 126.707308 113.040008 \nL 127.317256 113.493604 \nL 127.927203 112.740002 \nL 128.53715 112.593553 \nL 129.147097 111.268126 \nL 129.757044 112.307449 \nL 130.366991 112.167692 \nL 130.976939 112.607184 \nL 132.196833 112.329484 \nL 132.80678 113.32209 \nL 133.416727 113.740009 \nL 134.026674 113.040008 \nL 134.636622 112.902053 \nL 135.246569 113.313923 \nL 136.466463 113.040008 \nL 137.686357 113.838592 \nL 138.296305 112.114835 \nL 138.906252 112.515001 \nL 139.516199 113.431037 \nL 140.126146 112.781098 \nL 141.34604 112.529195 \nL 141.955988 112.91316 \nL 142.565935 112.788003 \nL 143.785829 113.53737 \nL 144.395776 113.41059 \nL 145.615671 114.137426 \nL 146.225618 114.978469 \nL 146.835565 114.845741 \nL 147.445512 115.193174 \nL 148.055459 114.585288 \nL 148.665406 114.930006 \nL 149.275354 114.800872 \nL 150.495248 115.474975 \nL 151.105195 115.344883 \nL 151.715142 115.67455 \nL 152.325089 115.544819 \nL 153.544984 116.190004 \nL 154.764878 115.930599 \nL 155.374825 114.918954 \nL 155.984772 114.798146 \nL 156.59472 115.552716 \nL 157.204667 115.429666 \nL 157.814614 114.44401 \nL 158.424561 114.758188 \nL 159.034508 113.360347 \nL 159.644455 113.252369 \nL 160.254403 113.567943 \nL 161.474297 113.353261 \nL 162.084244 114.078463 \nL 162.694191 113.556397 \nL 163.304138 113.861742 \nL 163.914086 113.755139 \nL 166.353874 114.940009 \nL 166.963821 114.432632 \nL 168.183716 115.79626 \nL 170.623504 116.897148 \nL 171.233452 116.781634 \nL 171.843399 117.049094 \nL 172.453346 116.933975 \nL 173.063293 116.064002 \nL 173.67324 116.707171 \nL 174.283187 116.969708 \nL 174.893135 117.602073 \nL 176.113029 118.110734 \nL 176.722976 117.627386 \nL 177.332923 118.244352 \nL 177.94287 118.491929 \nL 178.552818 118.375412 \nL 179.162765 117.900006 \nL 179.772712 117.787398 \nL 180.382659 118.389065 \nL 180.992606 118.275218 \nL 182.212501 118.753959 \nL 182.822448 118.639999 \nL 184.042342 119.108815 \nL 184.652289 118.994799 \nL 185.262236 119.225456 \nL 185.872184 119.111947 \nL 188.921919 120.232042 \nL 189.531867 120.117103 \nL 190.141814 119.671583 \nL 190.751761 119.89022 \nL 191.361708 119.449567 \nL 191.971655 119.66728 \nL 192.581602 119.231381 \nL 193.19155 119.448159 \nL 193.801497 119.986155 \nL 195.021391 119.767124 \nL 195.631338 119.021014 \nL 196.241285 119.551766 \nL 196.851233 119.761762 \nL 197.46118 119.025002 \nL 198.681074 119.444137 \nL 199.291021 119.340001 \nL 199.900968 119.856402 \nL 200.510916 119.751432 \nL 201.120863 119.954635 \nL 201.73081 119.850127 \nL 202.340757 120.356129 \nL 204.780546 119.940001 \nL 205.390493 119.240405 \nL 206.00044 119.141575 \nL 206.610387 119.636481 \nL 207.220334 119.536885 \nL 207.830282 119.732224 \nL 208.440229 120.219076 \nL 209.050176 120.118387 \nL 209.660123 120.309232 \nL 210.27007 119.919318 \nL 210.880017 120.398025 \nL 211.489965 120.585637 \nL 212.099912 119.340001 \nL 212.709859 118.959629 \nL 213.319806 119.434742 \nL 213.929753 119.340001 \nL 214.5397 119.528064 \nL 215.149648 119.433683 \nL 215.759595 119.62 \nL 216.979489 119.432647 \nL 218.199383 119.799861 \nL 218.809331 119.706551 \nL 219.419278 119.340001 \nL 221.249119 119.069038 \nL 221.859066 119.250003 \nL 222.469014 119.698721 \nL 224.298855 119.428738 \nL 224.908802 119.605265 \nL 225.518749 119.516224 \nL 226.738644 120.390004 \nL 227.348591 119.514399 \nL 227.958538 119.687591 \nL 229.78838 119.426012 \nL 230.398327 119.08286 \nL 232.838115 118.748056 \nL 233.448063 118.160076 \nL 234.05801 118.332007 \nL 235.277904 117.671129 \nL 235.887851 117.593466 \nL 236.497798 117.765003 \nL 237.107746 117.687543 \nL 237.717693 117.857648 \nL 238.32764 117.534143 \nL 238.937587 117.458182 \nL 239.547534 117.872045 \nL 240.157481 117.795487 \nL 240.767429 117.962517 \nL 241.987323 117.810289 \nL 242.59727 117.49414 \nL 243.207217 117.900006 \nL 243.817164 117.82481 \nL 244.427112 117.511613 \nL 245.037059 117.675849 \nL 246.8669 117.455895 \nL 247.476847 117.853052 \nL 248.086795 117.545578 \nL 248.696742 117.706671 \nL 249.306689 117.634157 \nL 250.526583 117.028073 \nL 251.13653 116.497321 \nL 252.356425 117.278185 \nL 253.576319 117.594221 \nL 254.186266 117.296762 \nL 254.796213 117.453777 \nL 255.406161 117.835523 \nL 256.016108 117.315 \nL 256.626055 117.694899 \nL 257.236002 117.625212 \nL 257.845949 118.001957 \nL 258.455896 117.487066 \nL 259.065844 117.640296 \nL 259.675791 118.013684 \nL 260.285738 118.164492 \nL 261.505632 118.025219 \nL 262.115579 117.737696 \nL 262.725527 118.105428 \nL 263.945421 118.401322 \nL 264.555368 118.764008 \nL 265.775262 118.624093 \nL 266.38521 118.768897 \nL 266.995157 119.126445 \nL 267.605104 119.269019 \nL 268.215051 119.198431 \nL 268.824998 119.551766 \nL 269.434945 119.480783 \nL 270.044893 119.620788 \nL 270.65484 119.550009 \nL 271.264787 119.270202 \nL 271.874734 119.200774 \nL 273.094628 118.647694 \nL 273.704576 118.787676 \nL 274.92447 118.65336 \nL 275.534417 118.381315 \nL 276.144364 118.520497 \nL 276.754311 118.863243 \nL 277.364259 118.592832 \nL 277.974206 118.527099 \nL 278.584153 118.259042 \nL 280.413994 118.066597 \nL 281.023942 118.203661 \nL 281.633889 118.140001 \nL 282.853783 118.809474 \nL 283.46373 118.943159 \nL 284.683625 118.813631 \nL 285.293572 118.946257 \nL 285.903519 118.88182 \nL 286.513466 119.013579 \nL 288.343308 118.821753 \nL 288.953255 118.952318 \nL 290.783096 118.762904 \nL 291.393043 119.084167 \nL 292.002991 119.021014 \nL 292.612938 119.1491 \nL 293.222885 118.705248 \nL 294.442779 118.96106 \nL 295.662674 118.837266 \nL 296.272621 118.399711 \nL 296.882568 118.339509 \nL 298.102462 117.473334 \nL 299.932304 117.301775 \nL 300.542251 117.060303 \nL 301.152198 117.004394 \nL 301.762145 117.132705 \nL 302.372092 116.893408 \nL 302.98204 116.83831 \nL 303.591987 117.148702 \nL 304.811881 117.038077 \nL 305.421828 117.164462 \nL 306.031775 117.471103 \nL 306.641723 117.054558 \nL 307.861617 117.30485 \nL 308.471564 117.249954 \nL 309.081511 117.374053 \nL 309.691458 117.140952 \nL 310.301406 117.086833 \nL 310.911353 116.855501 \nL 311.5213 116.979351 \nL 312.131247 116.749348 \nL 312.741194 116.872872 \nL 313.351141 117.171638 \nL 313.961089 116.942784 \nL 314.571036 116.890006 \nL 315.180983 116.662864 \nL 315.79093 116.959355 \nL 316.400877 116.906904 \nL 317.010824 117.028073 \nL 317.620772 116.45671 \nL 318.230719 116.405757 \nL 318.840666 116.182828 \nL 319.450613 116.476368 \nL 320.670507 116.375296 \nL 321.280455 116.495767 \nL 321.890402 116.275136 \nL 324.33019 116.077509 \nL 325.550085 116.652005 \nL 326.160032 116.266834 \nL 326.769979 116.385142 \nL 327.379926 116.169141 \nL 327.989873 116.287145 \nL 328.599821 116.238468 \nL 329.209768 116.024213 \nL 329.819715 115.645475 \nL 330.429662 115.763591 \nL 331.039609 116.045888 \nL 331.649556 116.162618 \nL 332.259504 115.950854 \nL 332.869451 116.06728 \nL 333.479398 116.346479 \nL 334.699292 116.576133 \nL 335.30924 116.527985 \nL 335.919187 116.318158 \nL 336.529134 116.270776 \nL 337.139081 116.545976 \nL 337.749028 116.498301 \nL 338.358975 116.290322 \nL 339.57887 116.516326 \nL 340.188817 116.788112 \nL 341.408711 117.01059 \nL 342.018658 116.962645 \nL 343.238553 117.183016 \nL 344.458447 117.715886 \nL 345.068394 117.823819 \nL 346.898236 117.677325 \nL 348.728077 117.997383 \nL 349.338024 117.639395 \nL 349.947972 117.745717 \nL 350.557919 117.543674 \nL 351.167866 117.496101 \nL 353.607655 117.917422 \nL 354.827549 117.821938 \nL 356.047443 118.029602 \nL 356.047443 118.029602 \n\" clip-path=\"url(#pec5c50502f)\" style=\"fill: none; stroke: #ff7f0e; stroke-width: 1.5; stroke-linecap: square\"/>\n   </g>\n   <g id=\"line2d_16\">\n    <path d=\"M 51.683807 94.140004 \nL 52.293754 169.740002 \nL 52.903701 194.939999 \nL 53.513648 169.740002 \nL 54.123595 154.620006 \nL 54.733543 131.94 \nL 55.34349 115.740002 \nL 55.953437 122.490009 \nL 56.563384 119.340001 \nL 57.173331 131.94 \nL 57.783278 135.376371 \nL 58.393226 144.539999 \nL 59.003173 134.847692 \nL 59.61312 121.140001 \nL 60.223067 119.340001 \nL 60.833014 113.040008 \nL 61.442961 111.928237 \nL 62.052909 115.140002 \nL 62.662856 106.076849 \nL 63.88275 104.940003 \nL 65.102644 110.574793 \nL 65.712592 113.040008 \nL 66.322539 112.284006 \nL 66.932486 114.493848 \nL 67.542433 119.340001 \nL 68.15238 118.440007 \nL 68.762327 120.208971 \nL 69.372275 116.820004 \nL 69.982222 118.527099 \nL 71.202116 117.049094 \nL 71.812063 118.598825 \nL 72.42201 122.220003 \nL 73.031958 123.540001 \nL 73.641905 126.831895 \nL 74.251852 121.992636 \nL 75.471746 120.6 \nL 76.691641 122.940001 \nL 77.911535 118.194548 \nL 78.521482 117.66001 \nL 79.131429 118.792182 \nL 80.961271 117.28286 \nL 82.181165 113.41059 \nL 82.791112 115.9477 \nL 84.011007 115.140002 \nL 86.450795 118.905522 \nL 87.060743 121.048482 \nL 87.67069 121.86001 \nL 88.890584 125.843232 \nL 89.500531 126.540001 \nL 90.110478 124.852507 \nL 90.720426 124.380008 \nL 91.330373 125.06728 \nL 91.94032 124.605674 \nL 92.550267 123.045883 \nL 93.160214 122.626961 \nL 93.770161 124.380008 \nL 94.990056 125.640006 \nL 95.600003 125.208501 \nL 96.20995 123.76703 \nL 96.819897 125.388002 \nL 97.429844 124.976842 \nL 98.039792 125.558187 \nL 98.649739 125.155385 \nL 99.869633 122.490009 \nL 101.089527 121.798547 \nL 102.919369 123.490591 \nL 103.529316 123.14931 \nL 104.139263 123.684827 \nL 104.74921 123.349099 \nL 105.359158 124.71978 \nL 105.969105 124.380008 \nL 107.798946 125.843232 \nL 108.408893 125.505961 \nL 109.018841 126.767368 \nL 109.628788 125.640006 \nL 110.238735 125.315262 \nL 110.848682 125.768577 \nL 111.458629 123.921826 \nL 112.068576 125.136009 \nL 112.678524 124.829109 \nL 113.288471 125.269412 \nL 113.898418 126.435155 \nL 114.508365 126.851542 \nL 115.118312 125.100005 \nL 115.728259 124.80793 \nL 116.338207 125.227855 \nL 117.558101 124.657437 \nL 118.168048 123.692735 \nL 118.777995 123.426492 \nL 119.387942 123.840006 \nL 119.99789 123.577176 \nL 120.607837 123.982107 \nL 121.217784 122.407829 \nL 121.827731 122.815869 \nL 122.437678 122.57077 \nL 123.047625 121.689161 \nL 123.657573 122.092942 \nL 124.26752 121.86001 \nL 124.877467 122.880498 \nL 125.487414 123.264599 \nL 126.097361 122.41318 \nL 126.707308 122.185171 \nL 127.317256 120.751203 \nL 127.927203 120.540001 \nL 129.147097 121.308755 \nL 129.757044 120.512097 \nL 130.366991 120.890779 \nL 130.976939 120.109476 \nL 131.586886 120.485455 \nL 132.196833 120.287377 \nL 132.80678 120.656428 \nL 133.416727 121.58 \nL 134.026674 121.934124 \nL 134.636622 120.07577 \nL 135.246569 120.435662 \nL 135.856516 120.246484 \nL 136.466463 120.6 \nL 137.07641 119.876172 \nL 137.686357 119.694936 \nL 138.296305 120.573572 \nL 138.906252 119.865008 \nL 139.516199 120.730351 \nL 140.126146 120.548225 \nL 140.736093 119.854295 \nL 141.34604 119.680551 \nL 141.955988 119.00175 \nL 142.565935 119.84401 \nL 143.175882 120.174443 \nL 144.395776 121.810589 \nL 145.005723 121.630919 \nL 146.835565 119.661028 \nL 147.445512 119.499495 \nL 148.055459 119.815475 \nL 148.665406 119.655001 \nL 149.275354 119.026962 \nL 150.495248 120.576816 \nL 151.105195 120.41561 \nL 151.715142 121.172727 \nL 152.325089 121.009887 \nL 153.544984 122.490009 \nL 154.154931 122.322258 \nL 154.764878 123.045883 \nL 155.374825 122.876848 \nL 156.59472 123.418617 \nL 157.204667 124.119318 \nL 157.814614 123.948007 \nL 158.424561 124.208189 \nL 159.034508 124.038309 \nL 159.644455 123.44562 \nL 160.254403 123.281902 \nL 160.86435 122.700005 \nL 161.474297 122.959895 \nL 162.084244 123.632309 \nL 163.304138 124.133478 \nL 163.914086 123.562712 \nL 164.524033 124.217427 \nL 165.13398 124.460858 \nL 165.743927 123.897448 \nL 168.793663 125.085079 \nL 169.40361 124.925574 \nL 170.013557 123.992313 \nL 170.623504 124.61143 \nL 171.233452 124.84051 \nL 172.453346 124.531965 \nL 173.063293 124.758003 \nL 173.67324 123.853435 \nL 174.283187 124.454854 \nL 175.503082 123.416477 \nL 176.113029 123.642447 \nL 178.552818 123.077809 \nL 179.162765 123.66001 \nL 180.992606 124.309014 \nL 182.212501 124.028373 \nL 184.652289 124.863288 \nL 185.262236 125.410916 \nL 185.872184 125.611494 \nL 186.482131 126.150819 \nL 187.092078 126.346283 \nL 187.702025 125.865008 \nL 188.311972 125.724 \nL 188.921919 126.253277 \nL 189.531867 125.445737 \nL 191.361708 125.037393 \nL 191.971655 125.230919 \nL 192.581602 125.748626 \nL 193.19155 125.288507 \nL 195.021391 124.892544 \nL 195.631338 125.400766 \nL 196.241285 124.316471 \nL 196.851233 124.19021 \nL 197.46118 124.695007 \nL 198.681074 124.442485 \nL 199.291021 124.006676 \nL 199.900968 123.884268 \nL 200.510916 123.454295 \nL 201.120863 123.33513 \nL 201.73081 123.829079 \nL 202.950704 124.197837 \nL 203.560651 123.775209 \nL 204.170599 123.054749 \nL 204.780546 122.040007 \nL 205.390493 121.929731 \nL 206.00044 122.415591 \nL 206.610387 122.008239 \nL 207.220334 122.19469 \nL 208.440229 121.977214 \nL 209.660123 120.6 \nL 210.27007 120.498624 \nL 211.489965 120.873082 \nL 212.099912 121.344556 \nL 212.709859 121.241896 \nL 213.319806 120.855789 \nL 213.929753 120.755731 \nL 214.5397 120.374334 \nL 215.149648 119.714729 \nL 215.759595 119.340001 \nL 216.369542 119.52598 \nL 216.979489 119.432647 \nL 217.589436 119.063078 \nL 218.809331 119.431644 \nL 219.419278 119.887832 \nL 220.029225 119.521958 \nL 220.639172 119.974541 \nL 221.249119 119.88194 \nL 221.859066 120.06001 \nL 222.469014 119.698721 \nL 223.078961 119.608092 \nL 223.688908 120.052372 \nL 224.908802 120.401055 \nL 226.128697 120.218051 \nL 226.738644 119.865008 \nL 227.348591 120.037581 \nL 228.568485 119.340001 \nL 229.178432 119.253709 \nL 229.78838 119.426012 \nL 231.008274 118.74204 \nL 232.228168 119.085462 \nL 232.838115 119.00175 \nL 233.448063 119.171439 \nL 234.05801 119.088008 \nL 234.667957 119.507448 \nL 235.277904 119.67378 \nL 236.497798 120.500528 \nL 237.717693 120.328236 \nL 238.32764 120.735442 \nL 239.547534 120.563309 \nL 240.157481 119.990323 \nL 240.767429 119.907208 \nL 241.377376 119.582317 \nL 241.987323 119.984093 \nL 242.59727 120.142551 \nL 243.207217 119.820003 \nL 244.427112 120.134958 \nL 245.037059 119.577744 \nL 246.256953 119.891256 \nL 246.8669 119.811036 \nL 247.476847 119.966092 \nL 248.086795 119.418025 \nL 249.306689 119.727696 \nL 249.916636 120.113013 \nL 250.526583 119.571199 \nL 251.13653 119.724147 \nL 251.746478 119.416605 \nL 254.186266 119.112983 \nL 254.796213 118.811863 \nL 255.406161 118.963887 \nL 256.016108 119.340001 \nL 257.236002 119.190894 \nL 257.845949 118.670979 \nL 259.065844 119.413901 \nL 259.675791 118.897895 \nL 260.285738 118.605314 \nL 260.895685 118.534196 \nL 261.505632 118.682616 \nL 262.725527 118.541158 \nL 263.335474 118.688282 \nL 263.945421 119.051182 \nL 264.555368 118.764008 \nL 265.165315 119.12462 \nL 267.605104 118.843101 \nL 268.215051 118.986069 \nL 268.824998 118.492943 \nL 269.434945 118.63609 \nL 270.044893 118.567857 \nL 271.874734 118.991938 \nL 272.484681 118.715206 \nL 273.094628 118.855392 \nL 273.704576 118.580553 \nL 274.314523 118.513772 \nL 274.92447 118.035369 \nL 275.534417 118.17587 \nL 276.144364 117.905864 \nL 277.974206 118.323873 \nL 278.584153 118.6644 \nL 279.1941 118.800969 \nL 280.413994 118.669796 \nL 281.633889 118.940005 \nL 282.243836 118.475628 \nL 282.853783 118.610529 \nL 283.46373 118.546306 \nL 284.683625 118.813631 \nL 285.293572 118.158758 \nL 285.903519 118.489101 \nL 286.513466 118.426015 \nL 287.123413 118.753959 \nL 287.73336 118.690524 \nL 288.343308 118.04437 \nL 288.953255 118.176929 \nL 289.563202 118.502158 \nL 290.173149 118.440007 \nL 290.783096 118.570538 \nL 291.393043 118.316652 \nL 292.002991 118.255448 \nL 293.832832 118.643525 \nL 294.442779 118.392636 \nL 295.052726 118.332007 \nL 295.662674 117.706085 \nL 296.272621 117.45941 \nL 296.882568 117.589141 \nL 297.492515 117.905357 \nL 298.102462 118.033342 \nL 298.712409 118.346899 \nL 299.322357 118.28743 \nL 299.932304 118.413534 \nL 300.542251 118.169347 \nL 301.152198 118.479514 \nL 301.762145 118.052414 \nL 302.372092 118.361364 \nL 302.98204 118.119668 \nL 303.591987 117.696521 \nL 304.201934 117.639767 \nL 304.811881 117.765003 \nL 305.421828 117.70835 \nL 307.861617 118.202715 \nL 308.471564 118.503982 \nL 309.081511 118.446383 \nL 309.691458 118.567361 \nL 310.301406 118.509885 \nL 310.911353 118.807616 \nL 311.5213 118.926892 \nL 312.131247 119.222245 \nL 312.741194 118.811333 \nL 313.351141 118.578142 \nL 313.961089 118.696844 \nL 315.180983 119.281805 \nL 315.79093 119.223879 \nL 316.400877 119.513802 \nL 317.010824 119.108815 \nL 317.620772 119.051678 \nL 318.230719 119.167406 \nL 318.840666 118.93818 \nL 319.450613 119.053638 \nL 320.06056 119.340001 \nL 320.670507 119.454028 \nL 321.280455 119.226233 \nL 321.890402 119.169738 \nL 323.110296 119.396508 \nL 323.720243 119.340001 \nL 324.940138 118.891012 \nL 325.550085 118.836004 \nL 326.160032 119.116498 \nL 326.769979 119.061242 \nL 327.379926 119.173117 \nL 327.989873 118.951462 \nL 328.599821 119.229241 \nL 329.819715 119.450288 \nL 330.429662 119.725161 \nL 331.039609 119.834119 \nL 331.649556 119.613916 \nL 332.259504 119.722649 \nL 332.869451 119.66728 \nL 333.479398 119.448858 \nL 334.089345 119.720182 \nL 334.699292 119.177421 \nL 335.30924 119.448159 \nL 335.919187 119.555855 \nL 336.529134 119.340001 \nL 337.139081 119.608667 \nL 337.749028 119.393624 \nL 338.358975 119.661028 \nL 338.968923 119.767124 \nL 339.57887 119.712938 \nL 340.188817 119.340001 \nL 340.798764 119.286953 \nL 341.408711 119.392948 \nL 342.018658 119.023019 \nL 342.628606 119.129127 \nL 344.458447 118.501752 \nL 345.068394 118.451205 \nL 345.678341 118.087832 \nL 346.288289 118.038355 \nL 347.508183 118.251111 \nL 348.11813 117.891129 \nL 349.338024 118.103198 \nL 350.557919 118.005584 \nL 352.38776 118.319761 \nL 353.607655 118.22226 \nL 354.217602 118.325924 \nL 354.827549 118.277359 \nL 355.437496 118.531988 \nL 356.047443 118.483209 \nL 356.047443 118.483209 \n\" clip-path=\"url(#pec5c50502f)\" style=\"fill: none; stroke: #2ca02c; stroke-width: 1.5; stroke-linecap: square\"/>\n   </g>\n   <g id=\"line2d_17\">\n    <path d=\"M 51.683807 245.34 \nL 52.293754 94.140004 \nL 52.903701 68.940006 \nL 53.513648 37.440004 \nL 54.123595 63.900011 \nL 54.733543 81.540005 \nL 55.34349 94.140004 \nL 55.953437 103.590006 \nL 56.563384 110.940002 \nL 57.173331 124.380008 \nL 57.783278 107.885456 \nL 58.393226 106.740003 \nL 59.003173 117.40154 \nL 60.223067 124.380008 \nL 60.833014 131.94 \nL 61.442961 134.163529 \nL 62.052909 140.339999 \nL 62.662856 137.908423 \nL 63.272803 143.28 \nL 63.88275 144.539999 \nL 64.492697 142.249092 \nL 65.102644 146.731309 \nL 66.322539 142.523998 \nL 67.542433 144.539999 \nL 68.15238 145.440004 \nL 68.762327 141.064142 \nL 69.982222 138.036779 \nL 70.592169 139.027504 \nL 71.202116 135.376371 \nL 71.812063 136.387058 \nL 72.42201 133.020002 \nL 73.031958 131.94 \nL 73.641905 132.961625 \nL 74.251852 131.94 \nL 74.861799 129.032308 \nL 76.081694 127.330248 \nL 77.911535 130.22182 \nL 79.131429 122.079131 \nL 79.741377 123.093197 \nL 80.351324 122.490009 \nL 81.571218 127.404002 \nL 82.181165 128.234118 \nL 82.791112 130.48616 \nL 84.011007 131.94 \nL 84.620954 131.252728 \nL 85.230901 131.94 \nL 86.450795 130.636551 \nL 87.060743 131.299321 \nL 87.67069 129.420003 \nL 88.280637 126.362955 \nL 88.890584 124.623878 \nL 90.110478 126.03375 \nL 91.330373 125.06728 \nL 91.94032 126.86239 \nL 92.550267 125.269412 \nL 93.160214 125.913921 \nL 93.770161 123.300005 \nL 94.380109 125.018873 \nL 94.990056 124.590004 \nL 95.600003 126.244118 \nL 96.20995 126.831895 \nL 96.819897 124.380008 \nL 97.429844 123.982107 \nL 98.039792 124.576373 \nL 99.259686 123.805828 \nL 99.869633 124.380008 \nL 100.47958 122.140008 \nL 101.089527 122.720497 \nL 102.309422 122.040007 \nL 102.919369 122.601186 \nL 103.529316 124.028373 \nL 104.139263 124.553797 \nL 105.359158 127.268098 \nL 105.969105 126.06001 \nL 106.579052 125.709231 \nL 107.188999 126.187825 \nL 107.798946 125.030329 \nL 108.408893 125.505961 \nL 109.018841 124.380008 \nL 109.628788 124.065008 \nL 110.238735 122.197732 \nL 110.848682 121.140001 \nL 112.068576 120.6 \nL 112.678524 121.835057 \nL 113.288471 122.304707 \nL 114.508365 121.763084 \nL 115.118312 122.940001 \nL 115.728259 122.668305 \nL 116.338207 123.814772 \nL 117.558101 123.270276 \nL 118.168048 124.380008 \nL 118.777995 124.107568 \nL 119.99789 124.915221 \nL 120.607837 124.645271 \nL 121.217784 125.037393 \nL 121.827731 124.771037 \nL 123.047625 126.81458 \nL 123.657573 125.269412 \nL 124.26752 124.380008 \nL 124.877467 124.130087 \nL 125.487414 124.503937 \nL 126.097361 124.257081 \nL 126.707308 124.623878 \nL 127.317256 123.775209 \nL 127.927203 123.540001 \nL 128.53715 123.903779 \nL 129.147097 123.671253 \nL 130.976939 124.726268 \nL 131.586886 124.494553 \nL 132.196833 125.403165 \nL 132.80678 125.734038 \nL 133.416727 125.500001 \nL 134.636622 126.14584 \nL 135.246569 124.818261 \nL 135.856516 124.597563 \nL 136.466463 125.46001 \nL 137.07641 125.237881 \nL 137.686357 126.083667 \nL 138.296305 126.388956 \nL 138.906252 126.165002 \nL 139.516199 126.465526 \nL 140.736093 128.082859 \nL 141.34604 128.364333 \nL 141.955988 128.134634 \nL 142.565935 128.916005 \nL 143.785829 129.453167 \nL 144.395776 129.222353 \nL 145.005723 128.50364 \nL 145.615671 129.257422 \nL 146.225618 128.547698 \nL 146.835565 129.291601 \nL 147.445512 128.590642 \nL 149.885301 127.74 \nL 150.495248 127.070066 \nL 151.105195 127.330248 \nL 151.715142 128.045458 \nL 152.325089 128.296629 \nL 152.935037 128.092097 \nL 153.544984 127.440006 \nL 154.154931 127.690298 \nL 154.764878 127.048245 \nL 155.374825 126.855789 \nL 155.984772 127.544661 \nL 156.59472 126.47758 \nL 157.204667 125.857246 \nL 158.424561 125.496825 \nL 159.034508 124.892544 \nL 159.644455 124.71978 \nL 160.254403 124.971288 \nL 160.86435 125.640006 \nL 161.474297 125.883652 \nL 162.084244 125.293847 \nL 162.694191 125.123606 \nL 163.304138 125.366091 \nL 164.524033 125.030329 \nL 165.13398 125.269412 \nL 165.743927 125.103835 \nL 166.353874 124.540008 \nL 166.963821 124.777897 \nL 167.573769 124.617491 \nL 168.183716 124.065008 \nL 170.013557 124.767702 \nL 170.623504 125.382865 \nL 171.843399 125.06728 \nL 172.453346 125.291763 \nL 173.67324 124.981799 \nL 174.283187 123.706344 \nL 175.503082 124.157653 \nL 176.113029 123.642447 \nL 176.722976 123.866221 \nL 177.332923 123.357391 \nL 177.94287 123.216924 \nL 178.552818 123.439526 \nL 179.162765 123.300005 \nL 180.382659 123.738123 \nL 181.602553 123.461504 \nL 182.212501 123.67675 \nL 182.822448 123.540001 \nL 183.432395 123.056135 \nL 184.652289 122.792065 \nL 185.262236 123.005463 \nL 185.872184 122.874843 \nL 186.482131 123.085954 \nL 187.092078 122.278121 \nL 187.702025 122.152502 \nL 188.311972 122.700005 \nL 189.531867 123.114455 \nL 190.141814 123.650536 \nL 191.361708 124.051309 \nL 191.971655 123.594547 \nL 192.581602 124.119318 \nL 193.19155 123.990646 \nL 193.801497 123.216924 \nL 194.411444 123.093197 \nL 195.021391 122.650179 \nL 195.631338 122.848865 \nL 196.241285 123.36353 \nL 196.851233 123.557575 \nL 198.681074 122.255703 \nL 199.291021 122.140008 \nL 199.900968 122.335089 \nL 200.510916 121.911436 \nL 201.120863 122.105863 \nL 201.73081 122.60478 \nL 202.340757 121.880333 \nL 202.950704 122.376151 \nL 203.560651 122.565599 \nL 204.170599 122.151161 \nL 205.390493 123.124988 \nL 206.00044 123.010871 \nL 206.610387 122.304707 \nL 207.220334 122.490009 \nL 207.830282 122.379689 \nL 209.050176 122.745416 \nL 209.660123 122.635388 \nL 210.27007 122.815869 \nL 211.489965 122.597796 \nL 212.099912 122.776373 \nL 212.709859 123.238869 \nL 213.319806 122.845271 \nL 213.929753 123.020908 \nL 214.5397 123.477321 \nL 215.759595 123.819999 \nL 216.369542 123.71049 \nL 216.979489 122.767946 \nL 218.199383 122.558987 \nL 218.809331 122.180732 \nL 220.029225 123.069968 \nL 220.639172 122.9659 \nL 221.859066 123.840006 \nL 223.078961 124.165539 \nL 223.688908 124.059443 \nL 224.298855 124.486487 \nL 224.908802 124.380008 \nL 225.518749 124.80294 \nL 226.128697 124.6961 \nL 227.348591 125.007821 \nL 227.958538 124.640697 \nL 228.568485 125.055474 \nL 229.178432 125.208501 \nL 229.78838 124.844441 \nL 230.398327 125.254294 \nL 231.008274 125.405091 \nL 232.228168 125.194555 \nL 233.448063 125.49251 \nL 234.05801 125.388002 \nL 234.667957 125.535352 \nL 235.277904 125.181059 \nL 235.887851 125.328127 \nL 236.497798 124.728161 \nL 237.107746 124.875747 \nL 237.717693 124.775295 \nL 238.32764 124.183 \nL 238.937587 124.330913 \nL 239.547534 123.98855 \nL 240.157481 123.892266 \nL 240.767429 123.553508 \nL 241.377376 123.94385 \nL 241.987323 123.848636 \nL 243.207217 124.140001 \nL 246.256953 123.671253 \nL 246.8669 123.343748 \nL 247.476847 123.253052 \nL 248.086795 123.631024 \nL 249.306689 122.984307 \nL 249.916636 123.127737 \nL 250.526583 123.501474 \nL 251.13653 123.41196 \nL 251.746478 123.552776 \nL 252.966372 122.918248 \nL 254.796213 122.659766 \nL 256.016108 122.940001 \nL 256.626055 122.854542 \nL 257.236002 123.216924 \nL 258.455896 122.601186 \nL 259.065844 122.074321 \nL 259.675791 121.992636 \nL 260.895685 122.270235 \nL 262.115579 122.107632 \nL 263.335474 122.38139 \nL 263.945421 122.30046 \nL 264.555368 122.652004 \nL 265.165315 122.140008 \nL 265.775262 122.490009 \nL 266.38521 122.623852 \nL 266.995157 122.970519 \nL 268.824998 123.36353 \nL 269.434945 123.704249 \nL 270.044893 122.990143 \nL 271.874734 123.377578 \nL 272.484681 123.297031 \nL 273.094628 123.009237 \nL 273.704576 123.137267 \nL 274.314523 123.058038 \nL 274.92447 123.185235 \nL 275.534417 123.10631 \nL 276.144364 123.232684 \nL 276.754311 122.949734 \nL 277.364259 123.075849 \nL 277.974206 122.998073 \nL 278.584153 123.123388 \nL 279.1941 123.045883 \nL 279.804047 122.767203 \nL 280.413994 122.892135 \nL 281.023942 122.815869 \nL 281.633889 123.140005 \nL 282.243836 123.262965 \nL 282.853783 122.589482 \nL 283.46373 122.514804 \nL 284.073677 122.242624 \nL 284.683625 122.366632 \nL 285.293572 122.293126 \nL 285.903519 122.416368 \nL 287.123413 122.270235 \nL 287.73336 122.002888 \nL 288.343308 122.125611 \nL 288.953255 121.86001 \nL 289.563202 121.982464 \nL 290.173149 121.911436 \nL 290.783096 121.456037 \nL 291.393043 120.811066 \nL 292.002991 120.743553 \nL 292.612938 121.058181 \nL 293.832832 120.922919 \nL 296.882568 121.528586 \nL 297.492515 121.460802 \nL 298.102462 121.766677 \nL 298.712409 121.698624 \nL 299.322357 122.002414 \nL 299.932304 122.119416 \nL 300.542251 122.051013 \nL 301.152198 122.351717 \nL 301.762145 122.467017 \nL 302.372092 122.765243 \nL 303.591987 122.992182 \nL 304.201934 122.740482 \nL 304.811881 123.035192 \nL 305.421828 122.784608 \nL 306.031775 122.716081 \nL 306.641723 122.828306 \nL 307.25167 122.760004 \nL 307.861617 122.332881 \nL 309.081511 122.557027 \nL 310.301406 122.423296 \nL 310.911353 122.711834 \nL 311.5213 122.644918 \nL 312.131247 122.754957 \nL 313.351141 122.621869 \nL 313.961089 122.204975 \nL 314.571036 121.965002 \nL 316.400877 121.77311 \nL 317.010824 121.883126 \nL 317.620772 122.165637 \nL 318.230719 122.274257 \nL 319.450613 122.833645 \nL 320.06056 122.940001 \nL 321.280455 122.809977 \nL 322.500349 123.020908 \nL 323.110296 122.956144 \nL 323.720243 122.553433 \nL 324.33019 122.827506 \nL 324.940138 122.595238 \nL 326.769979 122.908143 \nL 327.379926 122.84464 \nL 327.989873 122.947932 \nL 331.039609 122.634126 \nL 331.649556 122.900877 \nL 332.259504 122.67449 \nL 333.479398 122.551236 \nL 334.089345 122.164139 \nL 334.699292 122.429042 \nL 335.30924 122.368333 \nL 335.919187 122.631659 \nL 336.529134 122.732314 \nL 337.139081 122.510152 \nL 337.749028 122.449792 \nL 338.358975 122.229173 \nL 338.968923 122.16967 \nL 340.188817 122.370383 \nL 340.798764 122.310948 \nL 341.408711 122.092942 \nL 342.018658 122.192831 \nL 342.628606 122.134151 \nL 343.8485 122.33251 \nL 344.458447 122.273896 \nL 345.678341 122.470442 \nL 346.288289 122.411907 \nL 346.898236 122.197732 \nL 348.11813 122.082511 \nL 348.728077 121.870329 \nL 349.947972 122.065714 \nL 351.167866 121.952205 \nL 351.777813 121.435748 \nL 352.38776 121.227453 \nL 352.997707 121.172727 \nL 353.607655 121.270644 \nL 354.217602 121.063949 \nL 354.827549 121.161687 \nL 355.437496 120.804532 \nL 356.047443 120.751203 \nL 356.047443 120.751203 \n\" clip-path=\"url(#pec5c50502f)\" style=\"fill: none; stroke: #d62728; stroke-width: 1.5; stroke-linecap: square\"/>\n   </g>\n   <g id=\"line2d_18\">\n    <path d=\"M 51.683807 169.740002 \nL 52.903701 169.740002 \nL 53.513648 188.64 \nL 54.123595 169.740002 \nL 54.733543 157.140003 \nL 55.34349 148.139998 \nL 55.953437 150.840004 \nL 56.563384 136.14 \nL 57.173331 131.94 \nL 57.783278 142.249092 \nL 58.393226 131.94 \nL 59.003173 129.032308 \nL 59.61312 137.339999 \nL 60.223067 134.460009 \nL 61.442961 147.504704 \nL 62.052909 144.539999 \nL 62.662856 145.866316 \nL 63.272803 139.500004 \nL 63.88275 144.539999 \nL 64.492697 131.94 \nL 65.712592 122.490009 \nL 66.322539 124.380008 \nL 66.932486 123.216924 \nL 67.542433 119.340001 \nL 68.15238 118.440007 \nL 68.762327 120.208971 \nL 69.372275 124.380008 \nL 69.982222 120.965806 \nL 70.592169 124.852507 \nL 71.202116 126.212733 \nL 71.812063 125.269412 \nL 72.42201 122.220003 \nL 73.031958 125.640006 \nL 74.861799 129.032308 \nL 75.471746 128.160004 \nL 76.081694 131.01805 \nL 76.691641 131.94 \nL 77.301588 129.302799 \nL 77.911535 128.50364 \nL 79.131429 133.58348 \nL 79.741377 132.744262 \nL 80.351324 130.365002 \nL 80.961271 129.625718 \nL 82.181165 131.198824 \nL 82.791112 127.578468 \nL 83.40106 125.521135 \nL 84.011007 126.340008 \nL 84.620954 128.50364 \nL 85.230901 127.890009 \nL 85.840848 128.624212 \nL 86.450795 126.726216 \nL 87.060743 126.173902 \nL 87.67069 128.160004 \nL 88.280637 128.841643 \nL 88.890584 130.720646 \nL 89.500531 131.34 \nL 90.110478 130.758757 \nL 90.720426 132.521547 \nL 91.330373 131.94 \nL 91.94032 130.247471 \nL 93.160214 131.392181 \nL 93.770161 133.020002 \nL 94.990056 127.74 \nL 95.600003 124.172884 \nL 96.20995 123.76703 \nL 96.819897 124.380008 \nL 97.429844 125.971588 \nL 99.869633 124.380008 \nL 100.47958 125.873333 \nL 101.089527 125.486348 \nL 101.699475 126.019522 \nL 102.309422 127.440006 \nL 102.919369 126.158829 \nL 103.529316 126.665586 \nL 104.139263 126.291725 \nL 104.74921 127.64455 \nL 105.359158 126.418651 \nL 105.969105 127.74 \nL 106.579052 128.201539 \nL 107.188999 127.831305 \nL 107.798946 125.843232 \nL 108.408893 123.093197 \nL 109.628788 124.065008 \nL 110.238735 122.97712 \nL 110.848682 122.68286 \nL 111.458629 123.921826 \nL 112.068576 121.356002 \nL 113.288471 122.304707 \nL 113.898418 121.297287 \nL 115.118312 120.780008 \nL 115.728259 121.9551 \nL 116.338207 121.695143 \nL 116.948154 122.84001 \nL 118.168048 123.692735 \nL 118.777995 124.788655 \nL 119.387942 124.514999 \nL 120.607837 125.308424 \nL 121.827731 124.771037 \nL 122.437678 123.863078 \nL 124.26752 125.010007 \nL 125.487414 124.503937 \nL 126.707308 125.233555 \nL 127.317256 126.194404 \nL 128.53715 125.689607 \nL 129.147097 126.03375 \nL 129.757044 125.200469 \nL 130.366991 124.961544 \nL 130.976939 125.880464 \nL 132.196833 125.403165 \nL 132.80678 124.605674 \nL 133.416727 124.940004 \nL 134.026674 123.601768 \nL 134.636622 124.490373 \nL 135.856516 125.141439 \nL 136.466463 125.999999 \nL 137.07641 126.310223 \nL 137.686357 126.083667 \nL 138.296305 126.388956 \nL 138.906252 127.215005 \nL 139.516199 125.944146 \nL 140.126146 125.208501 \nL 140.736093 125.511436 \nL 141.34604 125.299468 \nL 141.955988 125.597728 \nL 143.175882 123.178419 \nL 145.005723 122.612733 \nL 145.615671 121.453559 \nL 146.225618 120.793853 \nL 147.445512 121.413421 \nL 148.055459 120.766422 \nL 149.275354 121.374792 \nL 149.885301 120.273341 \nL 150.495248 119.649211 \nL 151.105195 119.49366 \nL 151.715142 118.423639 \nL 152.325089 119.188202 \nL 153.544984 119.790004 \nL 154.154931 120.532904 \nL 154.764878 119.932949 \nL 155.374825 120.666319 \nL 155.984772 120.512097 \nL 156.59472 120.796658 \nL 157.204667 120.64345 \nL 157.814614 120.924001 \nL 160.254403 123.704249 \nL 161.474297 123.377578 \nL 162.084244 121.555386 \nL 162.694191 122.231809 \nL 163.304138 120.846529 \nL 163.914086 121.519461 \nL 165.13398 122.035196 \nL 165.743927 121.88681 \nL 166.353874 122.540005 \nL 167.573769 122.242624 \nL 168.183716 121.308755 \nL 168.793663 120.776279 \nL 169.40361 121.418355 \nL 170.623504 120.368577 \nL 171.233452 121.002948 \nL 171.843399 120.86728 \nL 172.453346 121.112874 \nL 173.063293 120.978006 \nL 173.67324 121.220604 \nL 174.893135 120.953797 \nL 175.503082 120.451771 \nL 176.722976 121.664276 \nL 177.332923 121.531312 \nL 178.552818 121.992636 \nL 179.772712 121.728634 \nL 180.382659 121.9551 \nL 180.992606 122.534372 \nL 181.602553 122.40169 \nL 183.432395 123.056135 \nL 184.042342 122.923486 \nL 185.262236 121.974555 \nL 185.872184 121.848598 \nL 186.482131 122.064328 \nL 187.092078 121.939104 \nL 187.702025 122.152502 \nL 188.311972 121.020003 \nL 188.921919 120.901065 \nL 189.531867 121.11622 \nL 190.141814 121.661054 \nL 190.751761 121.871005 \nL 191.361708 121.750444 \nL 191.971655 122.285454 \nL 192.581602 121.18656 \nL 193.19155 121.070472 \nL 196.241285 122.092942 \nL 196.851233 121.659668 \nL 197.46118 121.54501 \nL 198.071127 122.058673 \nL 198.681074 121.943305 \nL 199.291021 122.45111 \nL 199.900968 122.025249 \nL 201.120863 122.41318 \nL 201.73081 121.686559 \nL 202.340757 121.575494 \nL 202.950704 120.858076 \nL 204.170599 121.247573 \nL 204.780546 121.740001 \nL 206.610387 122.304707 \nL 207.220334 122.19469 \nL 207.830282 122.379689 \nL 208.440229 122.270235 \nL 209.050176 121.869732 \nL 210.27007 122.236552 \nL 211.489965 122.022895 \nL 212.099912 122.203646 \nL 213.319806 121.992636 \nL 213.929753 122.454614 \nL 214.5397 122.348957 \nL 215.759595 122.700005 \nL 216.369542 123.152554 \nL 217.589436 123.493847 \nL 218.199383 122.558987 \nL 219.419278 121.805227 \nL 220.029225 121.705349 \nL 220.639172 121.334248 \nL 221.249119 120.423879 \nL 221.859066 120.870006 \nL 222.469014 121.04392 \nL 223.078961 120.948514 \nL 223.688908 121.120929 \nL 224.298855 120.759719 \nL 224.908802 121.196846 \nL 226.128697 120.481467 \nL 226.738644 120.390004 \nL 227.348591 120.560763 \nL 228.568485 121.418355 \nL 229.78838 121.748191 \nL 230.398327 121.654295 \nL 231.618221 121.979197 \nL 232.228168 121.885458 \nL 232.838115 122.046045 \nL 233.448063 121.952712 \nL 234.05801 122.112003 \nL 234.667957 121.767916 \nL 236.497798 122.241317 \nL 237.107746 121.90132 \nL 237.717693 122.057648 \nL 238.32764 121.720456 \nL 238.937587 121.876367 \nL 239.547534 121.541946 \nL 240.157481 121.453559 \nL 240.767429 121.122641 \nL 241.377376 121.036158 \nL 241.987323 120.708699 \nL 243.817164 120.456458 \nL 244.427112 120.61193 \nL 245.037059 120.52868 \nL 245.647006 120.919945 \nL 246.256953 120.836255 \nL 246.8669 121.224119 \nL 247.476847 120.905221 \nL 252.356425 120.256364 \nL 252.966372 120.405865 \nL 253.576319 120.099044 \nL 254.796213 119.943595 \nL 256.016108 119.340001 \nL 260.285738 120.368577 \nL 260.895685 120.292334 \nL 261.505632 120.654783 \nL 262.115579 120.578157 \nL 262.725527 119.848358 \nL 263.335474 119.557241 \nL 265.165315 119.340001 \nL 265.775262 119.697955 \nL 267.605104 120.120854 \nL 268.215051 119.835516 \nL 268.824998 119.975295 \nL 269.434945 119.691962 \nL 270.044893 119.83137 \nL 271.264787 118.851359 \nL 271.874734 118.783102 \nL 273.094628 119.478463 \nL 273.704576 119.61617 \nL 274.314523 119.340001 \nL 274.92447 119.271339 \nL 275.534417 119.613916 \nL 276.144364 119.544883 \nL 276.754311 119.067573 \nL 279.1941 119.609523 \nL 279.804047 119.541605 \nL 280.413994 119.876172 \nL 281.023942 119.406849 \nL 281.633889 119.340001 \nL 282.243836 119.672462 \nL 282.853783 119.804221 \nL 283.46373 119.736854 \nL 284.073677 120.065654 \nL 284.683625 119.800582 \nL 285.293572 120.1275 \nL 285.903519 119.66728 \nL 288.343308 120.18216 \nL 288.953255 119.921549 \nL 289.563202 120.048959 \nL 290.173149 120.368577 \nL 290.783096 120.301842 \nL 291.393043 120.619196 \nL 292.002991 120.360759 \nL 292.612938 120.294553 \nL 293.222885 120.60953 \nL 294.442779 120.855789 \nL 295.662674 120.722544 \nL 296.272621 121.032542 \nL 296.882568 121.153407 \nL 298.102462 120.646672 \nL 298.712409 120.767594 \nL 299.322357 120.516423 \nL 299.932304 119.895886 \nL 300.542251 120.202595 \nL 301.152198 119.954635 \nL 301.762145 120.07577 \nL 302.372092 120.01282 \nL 302.98204 119.767124 \nL 304.811881 120.1275 \nL 305.421828 119.883889 \nL 306.031775 119.822302 \nL 306.641723 120.121868 \nL 307.25167 119.700006 \nL 308.471564 119.937162 \nL 309.081511 119.697449 \nL 309.691458 119.815475 \nL 310.301406 119.755059 \nL 310.911353 119.872398 \nL 311.5213 119.635084 \nL 312.131247 119.222245 \nL 312.741194 119.163779 \nL 313.351141 119.281399 \nL 313.961089 119.57388 \nL 314.571036 119.690002 \nL 315.180983 119.630995 \nL 315.79093 119.223879 \nL 316.400877 119.166212 \nL 317.010824 119.455606 \nL 317.620772 119.570669 \nL 318.840666 119.454817 \nL 319.450613 119.225456 \nL 320.06056 119.168578 \nL 320.670507 118.940906 \nL 321.280455 119.226233 \nL 322.500349 119.453262 \nL 323.110296 119.057491 \nL 324.33019 119.283754 \nL 324.940138 119.227754 \nL 326.160032 118.781243 \nL 326.769979 118.224964 \nL 327.379926 118.004908 \nL 328.599821 117.900006 \nL 329.209768 118.013684 \nL 329.819715 118.292308 \nL 330.429662 118.404634 \nL 331.039609 118.351766 \nL 332.259504 118.574717 \nL 332.869451 118.358187 \nL 333.479398 118.469162 \nL 334.089345 118.416733 \nL 334.699292 118.689679 \nL 336.529134 119.016924 \nL 337.139081 118.802693 \nL 337.749028 118.911065 \nL 338.358975 118.858478 \nL 338.968923 119.126445 \nL 339.57887 118.753959 \nL 340.188817 119.021014 \nL 342.018658 119.340001 \nL 342.628606 119.28728 \nL 343.238553 119.550448 \nL 343.8485 119.655001 \nL 344.458447 119.601964 \nL 345.068394 119.235437 \nL 345.678341 119.496532 \nL 346.288289 119.287944 \nL 346.898236 119.547846 \nL 349.338024 119.340001 \nL 349.947972 119.442864 \nL 350.557919 119.699273 \nL 351.167866 119.800976 \nL 351.777813 120.055628 \nL 352.997707 120.256364 \nL 353.607655 120.20371 \nL 354.217602 120.4555 \nL 354.827549 120.402655 \nL 355.437496 120.047021 \nL 356.047443 120.297606 \nL 356.047443 120.297606 \n\" clip-path=\"url(#pec5c50502f)\" style=\"fill: none; stroke: #9467bd; stroke-width: 1.5; stroke-linecap: square\"/>\n   </g>\n   <g id=\"line2d_19\">\n    <path d=\"M 51.683807 94.140004 \nL 52.293754 94.140004 \nL 52.903701 68.940006 \nL 53.513648 94.140004 \nL 54.123595 109.26 \nL 54.733543 106.740003 \nL 55.34349 126.540001 \nL 55.953437 122.490009 \nL 56.563384 127.74 \nL 57.173331 109.26 \nL 57.783278 107.885456 \nL 58.393226 100.440009 \nL 59.003173 99.955388 \nL 60.223067 109.26 \nL 60.833014 108.315001 \nL 61.442961 98.587062 \nL 62.052909 94.140004 \nL 62.662856 98.118956 \nL 63.88275 97.740003 \nL 64.492697 101.012735 \nL 65.712592 94.140004 \nL 66.322539 97.16401 \nL 66.932486 91.232312 \nL 67.542433 88.540012 \nL 68.15238 91.44001 \nL 68.762327 91.533106 \nL 69.372275 96.660001 \nL 69.982222 94.140004 \nL 71.202116 98.721829 \nL 71.812063 96.363533 \nL 72.42201 98.460001 \nL 73.031958 96.240009 \nL 73.641905 92.096764 \nL 74.251852 94.140004 \nL 75.471746 101.700008 \nL 76.081694 103.359518 \nL 76.691641 101.340003 \nL 77.301588 102.930705 \nL 77.911535 102.730916 \nL 79.131429 105.644353 \nL 79.741377 108.616606 \nL 80.351324 108.315001 \nL 80.961271 106.482861 \nL 82.791112 105.770772 \nL 83.40106 106.977745 \nL 85.230901 114.390005 \nL 85.840848 114.034743 \nL 86.450795 116.298624 \nL 87.67069 113.040008 \nL 88.280637 112.730167 \nL 88.890584 109.991623 \nL 89.500531 108.540002 \nL 90.110478 109.496255 \nL 91.330373 109.030909 \nL 91.94032 109.937021 \nL 92.550267 111.928237 \nL 93.160214 111.670443 \nL 93.770161 109.26 \nL 94.380109 109.047052 \nL 94.990056 107.790005 \nL 96.20995 107.42109 \nL 96.819897 108.252006 \nL 97.429844 108.06632 \nL 98.039792 108.867281 \nL 99.259686 108.494434 \nL 99.869633 110.20501 \nL 101.089527 111.657082 \nL 101.699475 110.535184 \nL 102.309422 108.540002 \nL 102.919369 109.26 \nL 104.139263 107.174493 \nL 104.74921 107.026366 \nL 105.359158 105.182702 \nL 105.969105 105.900007 \nL 106.579052 104.940003 \nL 108.408893 109.420857 \nL 109.018841 110.05579 \nL 109.628788 109.890011 \nL 110.238735 111.286398 \nL 110.848682 111.882861 \nL 112.068576 114.552011 \nL 112.678524 115.098422 \nL 113.288471 114.151766 \nL 113.898418 115.425441 \nL 115.118312 116.460011 \nL 115.728259 114.823019 \nL 116.948154 113.040008 \nL 118.777995 114.572434 \nL 119.387942 114.390005 \nL 119.99789 112.872752 \nL 120.607837 113.37159 \nL 121.217784 113.204357 \nL 121.827731 113.691726 \nL 122.437678 113.524617 \nL 123.047625 112.719668 \nL 124.877467 114.133393 \nL 125.487414 112.730167 \nL 126.097361 113.193666 \nL 126.707308 112.430331 \nL 127.317256 112.284006 \nL 127.927203 112.740002 \nL 128.53715 111.998274 \nL 129.147097 111.858753 \nL 129.757044 112.307449 \nL 130.366991 112.167692 \nL 130.976939 111.452978 \nL 131.586886 111.321827 \nL 132.80678 108.808657 \nL 134.026674 109.704708 \nL 136.466463 109.26 \nL 137.07641 109.688937 \nL 137.686357 109.579438 \nL 138.296305 110.00014 \nL 138.906252 109.890011 \nL 139.516199 109.26 \nL 140.126146 109.674247 \nL 140.736093 109.054296 \nL 141.955988 109.868866 \nL 142.565935 109.26 \nL 143.175882 109.159874 \nL 143.785829 109.558428 \nL 144.395776 108.963532 \nL 145.005723 109.849095 \nL 145.615671 110.235494 \nL 146.225618 111.101546 \nL 146.835565 110.993512 \nL 148.055459 111.732458 \nL 150.495248 111.300739 \nL 151.105195 112.118057 \nL 151.715142 111.550918 \nL 152.325089 110.535184 \nL 153.544984 109.440008 \nL 154.764878 109.26 \nL 155.374825 109.613685 \nL 155.984772 109.084194 \nL 156.59472 109.434803 \nL 157.204667 109.3469 \nL 157.814614 110.124002 \nL 158.424561 109.174091 \nL 159.644455 110.704051 \nL 160.254403 109.766825 \nL 160.86435 109.680003 \nL 162.084244 110.340002 \nL 163.304138 110.163915 \nL 163.914086 110.485955 \nL 164.524033 109.17871 \nL 165.13398 108.694021 \nL 166.353874 108.540002 \nL 166.963821 108.86211 \nL 167.573769 109.576656 \nL 168.183716 109.496255 \nL 168.793663 109.024984 \nL 169.40361 109.337944 \nL 170.013557 110.035389 \nL 170.623504 109.182867 \nL 171.233452 109.106499 \nL 171.843399 109.412735 \nL 172.453346 108.956085 \nL 173.67324 109.560896 \nL 174.283187 110.233072 \nL 174.893135 110.153798 \nL 175.503082 110.816478 \nL 176.113029 110.366352 \nL 176.722976 111.021563 \nL 177.332923 111.305222 \nL 177.94287 111.222693 \nL 178.552818 110.779235 \nL 179.162765 111.420004 \nL 179.772712 110.979814 \nL 180.382659 110.187177 \nL 180.992606 109.756911 \nL 181.602553 110.037203 \nL 182.212501 109.963257 \nL 182.822448 109.54001 \nL 183.432395 109.469038 \nL 184.042342 109.05193 \nL 184.652289 109.329045 \nL 185.262236 109.26 \nL 185.872184 109.533667 \nL 186.482131 108.783253 \nL 187.092078 109.395611 \nL 187.702025 108.990005 \nL 188.311972 109.26 \nL 188.921919 108.524073 \nL 190.141814 109.061055 \nL 190.751761 108.665768 \nL 191.361708 109.26 \nL 193.19155 109.065325 \nL 195.021391 109.836613 \nL 196.241285 109.704708 \nL 197.46118 110.20501 \nL 198.071127 110.138342 \nL 198.681074 110.384635 \nL 199.291021 110.006674 \nL 199.900968 109.941639 \nL 201.120863 111.042449 \nL 201.73081 110.667946 \nL 203.560651 110.469609 \nL 204.170599 111.00694 \nL 204.780546 111.240008 \nL 205.390493 111.172416 \nL 206.00044 110.807725 \nL 206.610387 111.335301 \nL 207.830282 111.20148 \nL 208.440229 110.549311 \nL 209.050176 111.069733 \nL 209.660123 111.295388 \nL 210.27007 111.229655 \nL 210.880017 110.587331 \nL 211.489965 110.524798 \nL 212.709859 111.542266 \nL 213.319806 111.761061 \nL 214.5397 111.629561 \nL 215.759595 112.060007 \nL 216.369542 111.99388 \nL 216.979489 112.484122 \nL 217.589436 112.416925 \nL 218.809331 112.833819 \nL 219.419278 112.492177 \nL 220.639172 112.360148 \nL 221.249119 112.565807 \nL 223.078961 111.56554 \nL 223.688908 110.969686 \nL 224.298855 110.644232 \nL 224.908802 110.05579 \nL 225.518749 109.735812 \nL 226.128697 109.681468 \nL 226.738644 109.365004 \nL 227.348591 109.312327 \nL 227.958538 109.78138 \nL 228.568485 109.467844 \nL 229.178432 109.933157 \nL 229.78838 109.621232 \nL 231.008274 110.028821 \nL 231.618221 109.719736 \nL 232.228168 109.667274 \nL 232.838115 109.361478 \nL 233.448063 109.563419 \nL 234.05801 109.512004 \nL 234.667957 109.963257 \nL 235.277904 109.910863 \nL 235.887851 109.609314 \nL 236.497798 109.558428 \nL 237.107746 110.00361 \nL 237.717693 109.951767 \nL 238.32764 110.392769 \nL 239.547534 110.776903 \nL 240.157481 111.210977 \nL 240.767429 111.399175 \nL 241.377376 111.101546 \nL 243.817164 110.886841 \nL 244.427112 111.072493 \nL 245.037059 111.494727 \nL 245.647006 110.96634 \nL 246.256953 110.913754 \nL 246.8669 111.332529 \nL 247.476847 111.044352 \nL 248.086795 111.460131 \nL 248.696742 111.406677 \nL 250.526583 111.941846 \nL 251.13653 112.348545 \nL 251.746478 112.293198 \nL 253.576319 112.812291 \nL 254.796213 113.605874 \nL 256.016108 113.49001 \nL 256.626055 112.983918 \nL 257.236002 112.704505 \nL 258.455896 113.040008 \nL 259.675791 112.929484 \nL 260.895685 112.380707 \nL 261.505632 112.327828 \nL 262.115579 112.493765 \nL 262.725527 112.876605 \nL 263.335474 113.040008 \nL 263.945421 112.769235 \nL 264.555368 112.716007 \nL 265.165315 112.878463 \nL 265.775262 112.39569 \nL 266.995157 112.292545 \nL 267.605104 112.028453 \nL 268.215051 111.97821 \nL 268.824998 111.716473 \nL 269.434945 111.667379 \nL 270.044893 112.03973 \nL 270.65484 111.990005 \nL 271.264787 112.359393 \nL 273.704576 112.159727 \nL 275.534417 112.62914 \nL 276.754311 113.346491 \nL 277.974206 113.243233 \nL 278.584153 112.786651 \nL 279.804047 113.090408 \nL 280.413994 112.838945 \nL 281.023942 112.989877 \nL 281.633889 112.540009 \nL 282.853783 112.443162 \nL 283.46373 112.593553 \nL 284.073677 112.545237 \nL 284.683625 112.891959 \nL 285.903519 112.794548 \nL 287.123413 112.307449 \nL 287.73336 112.650319 \nL 288.343308 112.797072 \nL 288.953255 112.749239 \nL 290.173149 112.268573 \nL 290.783096 112.607184 \nL 291.393043 112.752191 \nL 292.002991 113.087851 \nL 292.612938 112.658182 \nL 293.222885 112.801972 \nL 294.442779 112.708425 \nL 295.052726 112.85101 \nL 295.662674 113.181398 \nL 298.102462 113.740009 \nL 298.712409 113.505523 \nL 299.322357 113.457938 \nL 300.542251 113.73316 \nL 301.152198 113.500983 \nL 301.762145 113.637811 \nL 302.372092 113.406996 \nL 302.98204 113.543396 \nL 303.591987 113.313923 \nL 304.201934 113.449883 \nL 304.811881 113.40347 \nL 305.421828 113.719856 \nL 306.031775 113.673015 \nL 306.641723 113.806835 \nL 307.25167 113.760005 \nL 307.861617 113.892969 \nL 308.471564 113.129578 \nL 309.081511 113.263409 \nL 309.691458 113.218303 \nL 310.301406 113.351301 \nL 310.911353 113.128733 \nL 312.131247 113.393275 \nL 312.741194 113.70084 \nL 313.351141 113.479545 \nL 313.961089 113.610076 \nL 314.571036 113.565003 \nL 315.180983 113.694734 \nL 316.400877 113.604837 \nL 317.010824 113.386798 \nL 317.620772 113.688741 \nL 318.230719 113.816715 \nL 318.840666 114.116315 \nL 319.450613 113.899098 \nL 320.670507 114.151766 \nL 321.280455 113.935946 \nL 321.890402 113.891358 \nL 322.500349 113.677081 \nL 323.110296 113.802791 \nL 323.720243 114.097051 \nL 325.550085 113.964008 \nL 326.769979 114.545319 \nL 327.379926 114.667153 \nL 327.989873 114.455422 \nL 331.649556 114.19044 \nL 332.259504 114.310934 \nL 332.869451 114.594548 \nL 333.479398 114.713656 \nL 335.30924 114.094516 \nL 335.919187 113.56613 \nL 336.529134 113.524617 \nL 337.139081 113.32209 \nL 337.749028 113.281287 \nL 338.358975 113.561657 \nL 342.628606 113.277243 \nL 343.238553 113.079459 \nL 343.8485 112.725008 \nL 344.458447 112.843541 \nL 345.068394 113.118425 \nL 345.678341 113.235663 \nL 346.288289 113.508598 \nL 346.898236 113.62454 \nL 347.508183 113.584447 \nL 348.11813 113.699758 \nL 348.728077 113.659677 \nL 349.338024 113.928962 \nL 349.947972 113.734287 \nL 351.167866 113.961958 \nL 351.777813 113.921752 \nL 352.38776 113.728665 \nL 352.997707 113.689102 \nL 353.607655 113.497265 \nL 354.217602 113.45831 \nL 354.827549 113.571334 \nL 355.437496 113.835392 \nL 356.047443 113.644806 \nL 356.047443 113.644806 \n\" clip-path=\"url(#pec5c50502f)\" style=\"fill: none; stroke: #8c564b; stroke-width: 1.5; stroke-linecap: square\"/>\n   </g>\n   <g id=\"patch_3\">\n    <path d=\"M 36.465625 256.68 \nL 36.465625 7.2 \n\" style=\"fill: none; stroke: #000000; stroke-width: 0.8; stroke-linejoin: miter; stroke-linecap: square\"/>\n   </g>\n   <g id=\"patch_4\">\n    <path d=\"M 371.265625 256.68 \nL 371.265625 7.2 \n\" style=\"fill: none; stroke: #000000; stroke-width: 0.8; stroke-linejoin: miter; stroke-linecap: square\"/>\n   </g>\n   <g id=\"patch_5\">\n    <path d=\"M 36.465625 256.68 \nL 371.265625 256.68 \n\" style=\"fill: none; stroke: #000000; stroke-width: 0.8; stroke-linejoin: miter; stroke-linecap: square\"/>\n   </g>\n   <g id=\"patch_6\">\n    <path d=\"M 36.465625 7.2 \nL 371.265625 7.2 \n\" style=\"fill: none; stroke: #000000; stroke-width: 0.8; stroke-linejoin: miter; stroke-linecap: square\"/>\n   </g>\n  </g>\n </g>\n <defs>\n  <clipPath id=\"pec5c50502f\">\n   <rect x=\"36.465625\" y=\"7.2\" width=\"334.8\" height=\"249.48\"/>\n  </clipPath>\n </defs>\n</svg>\n"
          },
          "metadata": {}
        }
      ]
    },
    {
      "cell_type": "code",
      "source": [],
      "metadata": {
        "id": "5LflrjXexp7e"
      },
      "execution_count": 379,
      "outputs": []
    },
    {
      "cell_type": "code",
      "source": [],
      "metadata": {
        "id": "1-4JHzSxxnJ4"
      },
      "execution_count": 379,
      "outputs": []
    },
    {
      "cell_type": "code",
      "source": [
        "# var startClickConnect = function startClickConnect(){\n",
        "#     var clickConnect = function clickConnect(){\n",
        "#         console.log(\"Connnect Clicked - Start\");\n",
        "#         document.querySelector(\"#top-toolbar > colab-connect-button\").shadowRoot.querySelector(\"#connect\").click();\n",
        "#         console.log(\"Connnect Clicked - End\");\n",
        "#     };\n",
        "\n",
        "#     var intervalId = setInterval(clickConnect, 60000);\n",
        "\n",
        "#     var stopClickConnectHandler = function stopClickConnect() {\n",
        "#         console.log(\"Connnect Clicked Stopped - Start\");\n",
        "#         clearInterval(intervalId);\n",
        "#         console.log(\"Connnect Clicked Stopped - End\");\n",
        "#     };\n",
        "\n",
        "#     return stopClickConnectHandler;\n",
        "# };\n",
        "\n",
        "# var stopClickConnect = startClickConnect();\n",
        "\n",
        "# stopClickConnect();"
      ],
      "metadata": {
        "id": "6trLDrzkZBVt"
      },
      "execution_count": 380,
      "outputs": []
    }
  ]
}