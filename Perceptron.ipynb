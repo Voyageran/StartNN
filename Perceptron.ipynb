{
  "nbformat": 4,
  "nbformat_minor": 0,
  "metadata": {
    "colab": {
      "provenance": [],
      "authorship_tag": "ABX9TyNliv3YPpUckYHhAPNom3ut",
      "include_colab_link": true
    },
    "kernelspec": {
      "name": "python3",
      "display_name": "Python 3"
    },
    "language_info": {
      "name": "python"
    }
  },
  "cells": [
    {
      "cell_type": "markdown",
      "metadata": {
        "id": "view-in-github",
        "colab_type": "text"
      },
      "source": [
        "<a href=\"https://colab.research.google.com/github/Voyageran/StartNN/blob/main/Perceptron.ipynb\" target=\"_parent\"><img src=\"https://colab.research.google.com/assets/colab-badge.svg\" alt=\"Open In Colab\"/></a>"
      ]
    },
    {
      "cell_type": "code",
      "source": [
        "import sys\n",
        "from google.colab import drive\n",
        "drive.mount('/content/gdrive')\n",
        "sys.path.insert(0,\"/content/content/notebooks/colabInstallPackage\")\n",
        "\n",
        "!cp -av '/content/gdrive/MyDrive/Colab Notebooks/d2l' '/content/'"
      ],
      "metadata": {
        "colab": {
          "base_uri": "https://localhost:8080/",
          "height": 0
        },
        "id": "Z5EB3wC-L-jv",
        "outputId": "6818cc2e-f379-4847-a357-f30b3f3b1ec5"
      },
      "execution_count": 1,
      "outputs": [
        {
          "output_type": "stream",
          "name": "stdout",
          "text": [
            "Mounted at /content/gdrive\n",
            "'/content/gdrive/MyDrive/Colab Notebooks/d2l' -> '/content/d2l'\n",
            "'/content/gdrive/MyDrive/Colab Notebooks/d2l/paddle.py' -> '/content/d2l/paddle.py'\n",
            "'/content/gdrive/MyDrive/Colab Notebooks/d2l/mxnet.py' -> '/content/d2l/mxnet.py'\n",
            "'/content/gdrive/MyDrive/Colab Notebooks/d2l/tensorflow.py' -> '/content/d2l/tensorflow.py'\n",
            "'/content/gdrive/MyDrive/Colab Notebooks/d2l/torch.py' -> '/content/d2l/torch.py'\n",
            "'/content/gdrive/MyDrive/Colab Notebooks/d2l/__init__.py' -> '/content/d2l/__init__.py'\n",
            "'/content/gdrive/MyDrive/Colab Notebooks/d2l/__pycache__' -> '/content/d2l/__pycache__'\n",
            "'/content/gdrive/MyDrive/Colab Notebooks/d2l/__pycache__/mxnet.cpython-310.pyc' -> '/content/d2l/__pycache__/mxnet.cpython-310.pyc'\n",
            "'/content/gdrive/MyDrive/Colab Notebooks/d2l/__pycache__/__init__.cpython-310.pyc' -> '/content/d2l/__pycache__/__init__.cpython-310.pyc'\n",
            "'/content/gdrive/MyDrive/Colab Notebooks/d2l/__pycache__/torch.cpython-310.pyc' -> '/content/d2l/__pycache__/torch.cpython-310.pyc'\n",
            "'/content/gdrive/MyDrive/Colab Notebooks/d2l/__pycache__/tensorflow.cpython-310.pyc' -> '/content/d2l/__pycache__/tensorflow.cpython-310.pyc'\n",
            "'/content/gdrive/MyDrive/Colab Notebooks/d2l/__pycache__/paddle.cpython-310.pyc' -> '/content/d2l/__pycache__/paddle.cpython-310.pyc'\n"
          ]
        }
      ]
    },
    {
      "cell_type": "markdown",
      "source": [
        "# **Perceptron**"
      ],
      "metadata": {
        "id": "jSGXJj4x50d0"
      }
    },
    {
      "cell_type": "markdown",
      "source": [
        "Input: $\\mathbf{x}$, weight $\\mathbf{w}$, bias $b$,\n",
        "\n",
        "Output:\n",
        "$$\n",
        "o = \\sigma (<\\mathbf{w}, \\mathbf{x}> + b)\n",
        "$$\n",
        "\n",
        "$\\sigma (x)$的例子：\n",
        "$$\n",
        " \\sigma (x) =\n",
        "\\begin{cases}\n",
        "  1 & \\text{if } x > 0 \\\\\n",
        "  0/-1 & \\text{ otherwise }\n",
        "\\end{cases}\n",
        "$$"
      ],
      "metadata": {
        "id": "4v3gguQz9j75"
      }
    },
    {
      "cell_type": "markdown",
      "source": [
        "**Initialize** $w=0, b=0$\n",
        "\n",
        "**repeat**\n",
        "\n",
        "  **if** $y_i[<w,x_i>+b] \\leq 0$ **then** \\\\\n",
        "    $\\quad w= w+y_i x_i$ \\\\\n",
        "    $\\quad b = b+y_i$\n",
        "\n",
        "  **end if**\n",
        "\n",
        "**until** all classified correctly\n",
        "\n"
      ],
      "metadata": {
        "id": "ScO8ouO02_bl"
      }
    },
    {
      "cell_type": "markdown",
      "source": [
        "i.e.,\n",
        "batch_size = 1;\n",
        "\n",
        "loss function\n",
        "$$\n",
        "l(y, \\mathbf{x}, \\mathbf{w}) = max(0, -y<\\mathbf{w}, \\mathbf{x}>)\n",
        "$$"
      ],
      "metadata": {
        "id": "4xoPBNLQ8P-t"
      }
    },
    {
      "cell_type": "markdown",
      "source": [
        "## **Multilayer Perceptron**"
      ],
      "metadata": {
        "id": "OPalE0qX55vo"
      }
    },
    {
      "cell_type": "markdown",
      "source": [
        "### **手撕感知机**"
      ],
      "metadata": {
        "id": "ncLCn4_Z6EJ_"
      }
    },
    {
      "cell_type": "code",
      "source": [],
      "metadata": {
        "id": "vrjZTtG76M8v"
      },
      "execution_count": null,
      "outputs": []
    },
    {
      "cell_type": "markdown",
      "source": [
        "### **nn框架实现**"
      ],
      "metadata": {
        "id": "jfHmDfdb6H5T"
      }
    },
    {
      "cell_type": "code",
      "execution_count": null,
      "metadata": {
        "id": "yvbrdayr5trU"
      },
      "outputs": [],
      "source": []
    }
  ]
}