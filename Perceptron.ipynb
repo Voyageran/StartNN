{
  "nbformat": 4,
  "nbformat_minor": 0,
  "metadata": {
    "colab": {
      "provenance": [],
      "authorship_tag": "ABX9TyNNxYO8IPkZ7lBPZ56GqbA5",
      "include_colab_link": true
    },
    "kernelspec": {
      "name": "python3",
      "display_name": "Python 3"
    },
    "language_info": {
      "name": "python"
    }
  },
  "cells": [
    {
      "cell_type": "markdown",
      "metadata": {
        "id": "view-in-github",
        "colab_type": "text"
      },
      "source": [
        "<a href=\"https://colab.research.google.com/github/Voyageran/StartNN/blob/main/Perceptron.ipynb\" target=\"_parent\"><img src=\"https://colab.research.google.com/assets/colab-badge.svg\" alt=\"Open In Colab\"/></a>"
      ]
    },
    {
      "cell_type": "markdown",
      "source": [
        "# **Perceptron**"
      ],
      "metadata": {
        "id": "jSGXJj4x50d0"
      }
    },
    {
      "cell_type": "markdown",
      "source": [
        "Input: $\\mathbf{x}$, weight $\\mathbf{w}$, bias $b$,\n",
        "\n",
        "Output:\n",
        "$$\n",
        "o = \\sigma (<\\mathbf{w}, \\mathbf{x}> + b)\n",
        "$$\n",
        "\n",
        "$\\sigma (x)$的例子：\n",
        "$$\n",
        " \\sigma (x) =\n",
        "\\begin{cases}\n",
        "  1 & \\text{if } x > 0 \\\\\n",
        "  0 & \\text{ otherwise }\n",
        "\\end{cases}\n",
        "$$"
      ],
      "metadata": {
        "id": "4v3gguQz9j75"
      }
    },
    {
      "cell_type": "markdown",
      "source": [
        "## **Multilayer Perceptron**"
      ],
      "metadata": {
        "id": "OPalE0qX55vo"
      }
    },
    {
      "cell_type": "markdown",
      "source": [
        "### **手撕感知机**"
      ],
      "metadata": {
        "id": "ncLCn4_Z6EJ_"
      }
    },
    {
      "cell_type": "code",
      "source": [],
      "metadata": {
        "id": "vrjZTtG76M8v"
      },
      "execution_count": null,
      "outputs": []
    },
    {
      "cell_type": "markdown",
      "source": [
        "### **nn框架实现**"
      ],
      "metadata": {
        "id": "jfHmDfdb6H5T"
      }
    },
    {
      "cell_type": "code",
      "execution_count": null,
      "metadata": {
        "id": "yvbrdayr5trU"
      },
      "outputs": [],
      "source": []
    }
  ]
}