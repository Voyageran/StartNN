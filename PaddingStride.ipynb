{
  "nbformat": 4,
  "nbformat_minor": 0,
  "metadata": {
    "colab": {
      "provenance": [],
      "authorship_tag": "ABX9TyMlIehBx+DGRo1ynmoczQAk",
      "include_colab_link": true
    },
    "kernelspec": {
      "name": "python3",
      "display_name": "Python 3"
    },
    "language_info": {
      "name": "python"
    }
  },
  "cells": [
    {
      "cell_type": "markdown",
      "metadata": {
        "id": "view-in-github",
        "colab_type": "text"
      },
      "source": [
        "<a href=\"https://colab.research.google.com/github/Voyageran/StartNN/blob/main/PaddingStride.ipynb\" target=\"_parent\"><img src=\"https://colab.research.google.com/assets/colab-badge.svg\" alt=\"Open In Colab\"/></a>"
      ]
    },
    {
      "cell_type": "code",
      "source": [
        "import sys\n",
        "from google.colab import drive\n",
        "drive.mount('/content/gdrive')\n",
        "sys.path.insert(0,\"/content/content/notebooks/colabInstallPackage\")\n",
        "\n",
        "!cp -av '/content/gdrive/MyDrive/Colab Notebooks/d2l' '/content/'"
      ],
      "metadata": {
        "colab": {
          "base_uri": "https://localhost:8080/"
        },
        "id": "f_gw7_bpt8UJ",
        "outputId": "3fc4c971-43e1-4967-f43e-1a4aa9f67600"
      },
      "execution_count": 1,
      "outputs": [
        {
          "output_type": "stream",
          "name": "stdout",
          "text": [
            "Mounted at /content/gdrive\n",
            "'/content/gdrive/MyDrive/Colab Notebooks/d2l' -> '/content/d2l'\n",
            "'/content/gdrive/MyDrive/Colab Notebooks/d2l/paddle.py' -> '/content/d2l/paddle.py'\n",
            "'/content/gdrive/MyDrive/Colab Notebooks/d2l/mxnet.py' -> '/content/d2l/mxnet.py'\n",
            "'/content/gdrive/MyDrive/Colab Notebooks/d2l/tensorflow.py' -> '/content/d2l/tensorflow.py'\n",
            "'/content/gdrive/MyDrive/Colab Notebooks/d2l/torch.py' -> '/content/d2l/torch.py'\n",
            "'/content/gdrive/MyDrive/Colab Notebooks/d2l/__init__.py' -> '/content/d2l/__init__.py'\n",
            "'/content/gdrive/MyDrive/Colab Notebooks/d2l/__pycache__' -> '/content/d2l/__pycache__'\n",
            "'/content/gdrive/MyDrive/Colab Notebooks/d2l/__pycache__/mxnet.cpython-310.pyc' -> '/content/d2l/__pycache__/mxnet.cpython-310.pyc'\n",
            "'/content/gdrive/MyDrive/Colab Notebooks/d2l/__pycache__/__init__.cpython-310.pyc' -> '/content/d2l/__pycache__/__init__.cpython-310.pyc'\n",
            "'/content/gdrive/MyDrive/Colab Notebooks/d2l/__pycache__/torch.cpython-310.pyc' -> '/content/d2l/__pycache__/torch.cpython-310.pyc'\n",
            "'/content/gdrive/MyDrive/Colab Notebooks/d2l/__pycache__/tensorflow.cpython-310.pyc' -> '/content/d2l/__pycache__/tensorflow.cpython-310.pyc'\n",
            "'/content/gdrive/MyDrive/Colab Notebooks/d2l/__pycache__/paddle.cpython-310.pyc' -> '/content/d2l/__pycache__/paddle.cpython-310.pyc'\n"
          ]
        }
      ]
    },
    {
      "cell_type": "markdown",
      "source": [
        "# **Padding and Strid**"
      ],
      "metadata": {
        "id": "IoMHWaHItAuA"
      }
    },
    {
      "cell_type": "markdown",
      "source": [
        "Convolution会让input进来的东西变小。更大的kernel可以更快地减小output size, i.e., $n_{h} \\times n_{w}$ reduce to $(n_{h}-k_{h}+1) \\times (n_{w}-k_{w}+1) $.如果不想让output很小"
      ],
      "metadata": {
        "id": "JaQGSho3ueCv"
      }
    },
    {
      "cell_type": "markdown",
      "source": [
        "## **Padding**"
      ],
      "metadata": {
        "id": "_wy07kqsyn7-"
      }
    },
    {
      "cell_type": "markdown",
      "source": [
        "额外填充rows and columns such that input become larger.\n",
        "\n",
        "E.g.,\n",
        "**Original input**:\n",
        "$\n",
        "\\begin{bmatrix}\n",
        "0 & 1 & 2 \\\\\n",
        "3 & 4 & 5 \\\\\n",
        "6 & 7 & 8\n",
        "\\end{bmatrix}\n",
        "$\n",
        "\n",
        "Add extra pixels of filler around the boundary:\n",
        "**Input**:\n",
        "$\n",
        "\\begin{bmatrix}\n",
        "0 & 0 & 0 & 0 & 0 \\\\\n",
        "0 & 0 & 1 & 2 & 0 \\\\\n",
        "0 & 3 & 4 & 5 & 0 \\\\\n",
        "0 & 6 & 7 & 8 & 0 \\\\\n",
        "0 & 0 & 0 & 0 & 0\n",
        "\\end{bmatrix}\n",
        "$\n"
      ],
      "metadata": {
        "id": "SEOvSna4yq4P"
      }
    },
    {
      "cell_type": "code",
      "execution_count": 2,
      "metadata": {
        "id": "lCTz6MqqsyfR"
      },
      "outputs": [],
      "source": [
        "import torch\n",
        "from torch import nn"
      ]
    },
    {
      "cell_type": "code",
      "source": [],
      "metadata": {
        "id": "WIgcT5zguHWo"
      },
      "execution_count": null,
      "outputs": []
    }
  ]
}