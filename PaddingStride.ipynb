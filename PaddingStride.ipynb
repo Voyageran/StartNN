{
  "nbformat": 4,
  "nbformat_minor": 0,
  "metadata": {
    "colab": {
      "provenance": [],
      "authorship_tag": "ABX9TyNf7m8l6PeGiEJVhjGddPte",
      "include_colab_link": true
    },
    "kernelspec": {
      "name": "python3",
      "display_name": "Python 3"
    },
    "language_info": {
      "name": "python"
    }
  },
  "cells": [
    {
      "cell_type": "markdown",
      "metadata": {
        "id": "view-in-github",
        "colab_type": "text"
      },
      "source": [
        "<a href=\"https://colab.research.google.com/github/Voyageran/StartNN/blob/main/PaddingStride.ipynb\" target=\"_parent\"><img src=\"https://colab.research.google.com/assets/colab-badge.svg\" alt=\"Open In Colab\"/></a>"
      ]
    },
    {
      "cell_type": "code",
      "source": [
        "import sys\n",
        "from google.colab import drive\n",
        "drive.mount('/content/gdrive')\n",
        "sys.path.insert(0,\"/content/content/notebooks/colabInstallPackage\")\n",
        "\n",
        "!cp -av '/content/gdrive/MyDrive/Colab Notebooks/d2l' '/content/'"
      ],
      "metadata": {
        "colab": {
          "base_uri": "https://localhost:8080/"
        },
        "id": "f_gw7_bpt8UJ",
        "outputId": "3fc4c971-43e1-4967-f43e-1a4aa9f67600"
      },
      "execution_count": 1,
      "outputs": [
        {
          "output_type": "stream",
          "name": "stdout",
          "text": [
            "Mounted at /content/gdrive\n",
            "'/content/gdrive/MyDrive/Colab Notebooks/d2l' -> '/content/d2l'\n",
            "'/content/gdrive/MyDrive/Colab Notebooks/d2l/paddle.py' -> '/content/d2l/paddle.py'\n",
            "'/content/gdrive/MyDrive/Colab Notebooks/d2l/mxnet.py' -> '/content/d2l/mxnet.py'\n",
            "'/content/gdrive/MyDrive/Colab Notebooks/d2l/tensorflow.py' -> '/content/d2l/tensorflow.py'\n",
            "'/content/gdrive/MyDrive/Colab Notebooks/d2l/torch.py' -> '/content/d2l/torch.py'\n",
            "'/content/gdrive/MyDrive/Colab Notebooks/d2l/__init__.py' -> '/content/d2l/__init__.py'\n",
            "'/content/gdrive/MyDrive/Colab Notebooks/d2l/__pycache__' -> '/content/d2l/__pycache__'\n",
            "'/content/gdrive/MyDrive/Colab Notebooks/d2l/__pycache__/mxnet.cpython-310.pyc' -> '/content/d2l/__pycache__/mxnet.cpython-310.pyc'\n",
            "'/content/gdrive/MyDrive/Colab Notebooks/d2l/__pycache__/__init__.cpython-310.pyc' -> '/content/d2l/__pycache__/__init__.cpython-310.pyc'\n",
            "'/content/gdrive/MyDrive/Colab Notebooks/d2l/__pycache__/torch.cpython-310.pyc' -> '/content/d2l/__pycache__/torch.cpython-310.pyc'\n",
            "'/content/gdrive/MyDrive/Colab Notebooks/d2l/__pycache__/tensorflow.cpython-310.pyc' -> '/content/d2l/__pycache__/tensorflow.cpython-310.pyc'\n",
            "'/content/gdrive/MyDrive/Colab Notebooks/d2l/__pycache__/paddle.cpython-310.pyc' -> '/content/d2l/__pycache__/paddle.cpython-310.pyc'\n"
          ]
        }
      ]
    },
    {
      "cell_type": "markdown",
      "source": [
        "# **Padding and Strid**"
      ],
      "metadata": {
        "id": "IoMHWaHItAuA"
      }
    },
    {
      "cell_type": "markdown",
      "source": [
        "Padding and Strid are both hyperparameters"
      ],
      "metadata": {
        "id": "RdPfYFOHAG6Y"
      }
    },
    {
      "cell_type": "markdown",
      "source": [
        "## **Padding**"
      ],
      "metadata": {
        "id": "_wy07kqsyn7-"
      }
    },
    {
      "cell_type": "markdown",
      "source": [
        "Convolution会让input进来的东西变小。更大的kernel可以更快地减小output size, i.e., $n_{h} \\times n_{w}$ reduce to $(n_{h}-k_{h}+1) \\times (n_{w}-k_{w}+1) $.如果不想让output很小"
      ],
      "metadata": {
        "id": "JaQGSho3ueCv"
      }
    },
    {
      "cell_type": "markdown",
      "source": [
        "额外填充rows and columns such that input become larger.\n",
        "\n",
        "E.g.,\n",
        "**Original input**:\n",
        "$\n",
        "\\begin{bmatrix}\n",
        "0 & 1 & 2 \\\\\n",
        "3 & 4 & 5 \\\\\n",
        "6 & 7 & 8\n",
        "\\end{bmatrix}\n",
        "$\n",
        "\n",
        "Add extra pixels of filler around the boundary:\n",
        "**Input**:\n",
        "$\n",
        "\\begin{bmatrix}\n",
        "0 & 0 & 0 & 0 & 0 \\\\\n",
        "0 & 0 & 1 & 2 & 0 \\\\\n",
        "0 & 3 & 4 & 5 & 0 \\\\\n",
        "0 & 6 & 7 & 8 & 0 \\\\\n",
        "0 & 0 & 0 & 0 & 0\n",
        "\\end{bmatrix}\n",
        "$\n"
      ],
      "metadata": {
        "id": "SEOvSna4yq4P"
      }
    },
    {
      "cell_type": "markdown",
      "source": [
        "Add a total $p_{h}$ rows of padding and a total of $p_{w}$ columns of padding.\n",
        "\n",
        "**Output size:**\n",
        "$$\n",
        "(n_{h}-k_{h}+p_{h}+1) \\times (n_{w}-k_{w}+p_{w}+1)\n",
        "$$\n",
        "\n",
        "Often, we choose $p_{h} = k_{h}-1$, $p_{w} = k_{w}-1$, 这样刚好抵消掉大小。\n",
        "- $k_{h}$ is an odd numebr: 上下两侧填充$p_{h}/2$\n",
        "- $k_{h}$ is an even numebr: 在上侧填充$\\ulcorner p_{h} /2 \\urcorner$，在下侧填充$\\llcorner p_{h} /2 \\lrcorner$"
      ],
      "metadata": {
        "id": "wU5ub0XM16xD"
      }
    },
    {
      "cell_type": "code",
      "source": [
        "import torch\n",
        "from torch import nn"
      ],
      "metadata": {
        "id": "b1pVWLMQAUGq"
      },
      "execution_count": 11,
      "outputs": []
    },
    {
      "cell_type": "code",
      "source": [
        "def comp_conv2d(conv2d, X):\n",
        "  X = X.reshape((1,1) + X.shape)\n",
        "  Y = conv2d(X)\n",
        "  return Y.reshape(Y.shape[2:])"
      ],
      "metadata": {
        "id": "YubLsKT1KgTg"
      },
      "execution_count": 14,
      "outputs": []
    },
    {
      "cell_type": "code",
      "source": [
        "# E.g.,1\n",
        "# 8-3+1=6 6+2=8(上下都有行)\n",
        "conv2d = nn.Conv2d(1,1, kernel_size=3, padding = 1)\n",
        "X = torch.rand(size = (8,8))\n",
        "comp_conv2d(conv2d, X).shape\n",
        "# X.reshape((1,1)+X.shape) #dim前面加入channel数, -> [[],X]"
      ],
      "metadata": {
        "colab": {
          "base_uri": "https://localhost:8080/"
        },
        "id": "aYBBuNQdAyEb",
        "outputId": "eb26e59b-a505-4323-d19e-d744e4b44cde"
      },
      "execution_count": 15,
      "outputs": [
        {
          "output_type": "execute_result",
          "data": {
            "text/plain": [
              "torch.Size([8, 8])"
            ]
          },
          "metadata": {},
          "execution_count": 15
        }
      ]
    },
    {
      "cell_type": "code",
      "source": [
        "# E.g.2,\n",
        "conv2d = nn.Conv2d(1,1,kernel_size=(5,3),padding = (2,1))\n",
        "comp_conv2d(conv2d, X).shape"
      ],
      "metadata": {
        "colab": {
          "base_uri": "https://localhost:8080/"
        },
        "id": "qArtdtyRPTJ8",
        "outputId": "f72c7c82-323d-4965-c9f4-915e4a81e573"
      },
      "execution_count": 17,
      "outputs": [
        {
          "output_type": "execute_result",
          "data": {
            "text/plain": [
              "torch.Size([8, 8])"
            ]
          },
          "metadata": {},
          "execution_count": 17
        }
      ]
    },
    {
      "cell_type": "markdown",
      "source": [
        "## **Stride**"
      ],
      "metadata": {
        "id": "ZDsLxPNM6f-g"
      }
    },
    {
      "cell_type": "markdown",
      "source": [
        "给定kernel大小（如果kernel size过大，计算量会很大），用少量的层数去快速地reduce Input size。\n",
        "\n",
        "Given height $s_{h}$ and width $s_{w}$, the output shape is\n",
        "$$\n",
        "\\llcorner (n_{h}-k_{h}+p_{h}+s_{h}) / s_{h} \\lrcorner \\times \\llcorner(n_{w}-k_{w}+p_{w}+s_{w}) / s_{w} \\lrcorner\n",
        "$$"
      ],
      "metadata": {
        "id": "i18J3Efp6oB4"
      }
    },
    {
      "cell_type": "markdown",
      "source": [
        "Let $p_{h} = k_{h}-1$, $p_{w} = k_{w}-1$, then\n",
        "$$\n",
        "\\llcorner (n_{h}+s_{h}-1) / s_{h} \\lrcorner \\times \\llcorner(n_{w}+s_{w}-1) / s_{w} \\lrcorner\n",
        "$$"
      ],
      "metadata": {
        "id": "DdjiazgY_L-q"
      }
    },
    {
      "cell_type": "markdown",
      "source": [
        "如果height和width可以被stride整除，则 $(n_{h}/s_{h}) \\times (n_{w}/s_{w})$"
      ],
      "metadata": {
        "id": "XpPAPtKR_jVV"
      }
    },
    {
      "cell_type": "code",
      "execution_count": 20,
      "metadata": {
        "id": "lCTz6MqqsyfR"
      },
      "outputs": [],
      "source": [
        "import torch\n",
        "from torch import nn"
      ]
    },
    {
      "cell_type": "code",
      "source": [
        "conv2d = nn.LazyConv2d(1, kernel_size=3, padding=1, stride=2)\n",
        "comp_conv2d(conv2d, X).shape"
      ],
      "metadata": {
        "colab": {
          "base_uri": "https://localhost:8080/"
        },
        "id": "WIgcT5zguHWo",
        "outputId": "e123ca57-f022-4b06-eec5-ac60d7650474"
      },
      "execution_count": 21,
      "outputs": [
        {
          "output_type": "execute_result",
          "data": {
            "text/plain": [
              "torch.Size([4, 4])"
            ]
          },
          "metadata": {},
          "execution_count": 21
        }
      ]
    },
    {
      "cell_type": "code",
      "source": [
        "conv2d = nn.LazyConv2d(1, kernel_size=(3, 5), padding=(0, 1), stride=(3, 4))\n",
        "comp_conv2d(conv2d, X).shape"
      ],
      "metadata": {
        "colab": {
          "base_uri": "https://localhost:8080/"
        },
        "id": "OYVymbu6Roj4",
        "outputId": "a4dc2bc4-5a7c-4c53-e562-71b99ae17cd9"
      },
      "execution_count": 22,
      "outputs": [
        {
          "output_type": "execute_result",
          "data": {
            "text/plain": [
              "torch.Size([2, 2])"
            ]
          },
          "metadata": {},
          "execution_count": 22
        }
      ]
    }
  ]
}