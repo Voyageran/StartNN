{
  "nbformat": 4,
  "nbformat_minor": 0,
  "metadata": {
    "colab": {
      "provenance": [],
      "authorship_tag": "ABX9TyMzv1VqeV9yCKYB69Cyou6j",
      "include_colab_link": true
    },
    "kernelspec": {
      "name": "python3",
      "display_name": "Python 3"
    },
    "language_info": {
      "name": "python"
    }
  },
  "cells": [
    {
      "cell_type": "markdown",
      "metadata": {
        "id": "view-in-github",
        "colab_type": "text"
      },
      "source": [
        "<a href=\"https://colab.research.google.com/github/Voyageran/StartNN/blob/main/Pooling.ipynb\" target=\"_parent\"><img src=\"https://colab.research.google.com/assets/colab-badge.svg\" alt=\"Open In Colab\"/></a>"
      ]
    },
    {
      "cell_type": "code",
      "source": [
        "import sys\n",
        "from google.colab import drive\n",
        "drive.mount('/content/gdrive')\n",
        "sys.path.insert(0,\"/content/content/notebooks/colabInstallPackage\")\n",
        "\n",
        "!cp -av '/content/gdrive/MyDrive/Colab Notebooks/d2l' '/content/'"
      ],
      "metadata": {
        "id": "3OYaHA2MVID3"
      },
      "execution_count": null,
      "outputs": []
    },
    {
      "cell_type": "markdown",
      "source": [
        "# **Pooling**"
      ],
      "metadata": {
        "id": "1Dv5O8-0_OR8"
      }
    },
    {
      "cell_type": "markdown",
      "source": [
        "Pooling和convolution最大的区别在于，convolution有个kernel，element-wise product以后要sum一下。pooling就不用kernel，滑动窗口后直接选取里面max或者average。\n",
        "\n",
        "选max是选信号最强的，让那个区域都是高亮，选average是平滑。"
      ],
      "metadata": {
        "id": "rEJqdEoRUh-X"
      }
    },
    {
      "cell_type": "code",
      "execution_count": null,
      "metadata": {
        "id": "h8Rfmrzz-zpv"
      },
      "outputs": [],
      "source": []
    }
  ]
}