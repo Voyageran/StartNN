{
  "nbformat": 4,
  "nbformat_minor": 0,
  "metadata": {
    "colab": {
      "provenance": [],
      "authorship_tag": "ABX9TyOADUBfW28AkIPP/byhVf1B",
      "include_colab_link": true
    },
    "kernelspec": {
      "name": "python3",
      "display_name": "Python 3"
    },
    "language_info": {
      "name": "python"
    }
  },
  "cells": [
    {
      "cell_type": "markdown",
      "metadata": {
        "id": "view-in-github",
        "colab_type": "text"
      },
      "source": [
        "<a href=\"https://colab.research.google.com/github/Voyageran/StartNN/blob/main/Pytorch_NN.ipynb\" target=\"_parent\"><img src=\"https://colab.research.google.com/assets/colab-badge.svg\" alt=\"Open In Colab\"/></a>"
      ]
    },
    {
      "cell_type": "code",
      "execution_count": null,
      "metadata": {
        "id": "XEhEn6EZL9VY",
        "colab": {
          "base_uri": "https://localhost:8080/"
        },
        "outputId": "49b2bbba-630f-44f6-db14-f25f64dfa169"
      },
      "outputs": [
        {
          "output_type": "stream",
          "name": "stdout",
          "text": [
            "Mounted at /content/gdrive\n",
            "'/content/gdrive/MyDrive/Colab Notebooks/d2l' -> '/content/d2l'\n",
            "'/content/gdrive/MyDrive/Colab Notebooks/d2l/paddle.py' -> '/content/d2l/paddle.py'\n",
            "'/content/gdrive/MyDrive/Colab Notebooks/d2l/mxnet.py' -> '/content/d2l/mxnet.py'\n",
            "'/content/gdrive/MyDrive/Colab Notebooks/d2l/tensorflow.py' -> '/content/d2l/tensorflow.py'\n",
            "'/content/gdrive/MyDrive/Colab Notebooks/d2l/torch.py' -> '/content/d2l/torch.py'\n",
            "'/content/gdrive/MyDrive/Colab Notebooks/d2l/__init__.py' -> '/content/d2l/__init__.py'\n",
            "'/content/gdrive/MyDrive/Colab Notebooks/d2l/__pycache__' -> '/content/d2l/__pycache__'\n",
            "'/content/gdrive/MyDrive/Colab Notebooks/d2l/__pycache__/mxnet.cpython-310.pyc' -> '/content/d2l/__pycache__/mxnet.cpython-310.pyc'\n",
            "'/content/gdrive/MyDrive/Colab Notebooks/d2l/__pycache__/__init__.cpython-310.pyc' -> '/content/d2l/__pycache__/__init__.cpython-310.pyc'\n",
            "'/content/gdrive/MyDrive/Colab Notebooks/d2l/__pycache__/torch.cpython-310.pyc' -> '/content/d2l/__pycache__/torch.cpython-310.pyc'\n",
            "'/content/gdrive/MyDrive/Colab Notebooks/d2l/__pycache__/tensorflow.cpython-310.pyc' -> '/content/d2l/__pycache__/tensorflow.cpython-310.pyc'\n",
            "'/content/gdrive/MyDrive/Colab Notebooks/d2l/__pycache__/paddle.cpython-310.pyc' -> '/content/d2l/__pycache__/paddle.cpython-310.pyc'\n"
          ]
        }
      ],
      "source": [
        "import sys\n",
        "from google.colab import drive\n",
        "drive.mount('/content/gdrive')\n",
        "sys.path.insert(0,\"/content/content/notebooks/colabInstallPackage\")\n",
        "\n",
        "!cp -av '/content/gdrive/MyDrive/Colab Notebooks/d2l' '/content/'"
      ]
    },
    {
      "cell_type": "markdown",
      "source": [
        "# **Layers and Modules**\n"
      ],
      "metadata": {
        "id": "Vjyix58SME1W"
      }
    },
    {
      "cell_type": "markdown",
      "source": [
        "## **Block**"
      ],
      "metadata": {
        "id": "bKGmOu6F1g1V"
      }
    },
    {
      "cell_type": "markdown",
      "source": [
        "块（block）可以描述单个层、由多个层组成的组件或整个模型本身。"
      ],
      "metadata": {
        "id": "VORW8HAlGwuP"
      }
    },
    {
      "cell_type": "code",
      "source": [
        "import torch\n",
        "from torch import nn\n",
        "from torch.nn import functional as F #\n",
        "\n",
        "# Simple single NN\n",
        "net = nn.Sequential(nn.Linear(20,256), nn.ReLU(), nn.Linear(256, 10))\n",
        "\n",
        "X = torch.rand(2,20)\n",
        "net(X).shape #outputs"
      ],
      "metadata": {
        "colab": {
          "base_uri": "https://localhost:8080/"
        },
        "id": "lYyju8SZMlM8",
        "outputId": "d441f26d-6fea-49ac-c4b4-70dec390c277"
      },
      "execution_count": null,
      "outputs": [
        {
          "output_type": "execute_result",
          "data": {
            "text/plain": [
              "torch.Size([2, 10])"
            ]
          },
          "metadata": {},
          "execution_count": 3
        }
      ]
    },
    {
      "cell_type": "markdown",
      "source": [
        "**自定义块**\n",
        "\n",
        "任何一个层和一个神经网络都是Module的一个subclass。\n",
        "\n",
        "Define a class MLP which is the subclass of `nn.Module`"
      ],
      "metadata": {
        "id": "uWuREXc0AL_W"
      }
    },
    {
      "cell_type": "markdown",
      "source": [
        "****Remark:***\n",
        "\n",
        "model == nn.Linear(2, 1)\n",
        "\n",
        "input = torch.Tensor([1, 2])\n",
        "output = model(input)\n",
        "\n",
        "print(output)"
      ],
      "metadata": {
        "id": "XmejJGobzYwa"
      }
    },
    {
      "cell_type": "code",
      "source": [
        "class MLP(nn.Module):\n",
        "  def __init__(self):\n",
        "    super().__init__() # Review inherent\n",
        "    self.hidden = nn.Linear(20,256) #model==nn.Linear(20,256)\n",
        "    self.out = nn.Linear(256, 10)\n",
        "\n",
        "  def forward(self, X):\n",
        "    return self.out(F.relu(self.hidden(X)))"
      ],
      "metadata": {
        "id": "22wYtkqtM3U0"
      },
      "execution_count": null,
      "outputs": []
    },
    {
      "cell_type": "code",
      "source": [
        "#instantiate\n",
        "net = MLP()\n",
        "net(X)  # == net.forward(X)"
      ],
      "metadata": {
        "id": "-mAjnLGvMuuV",
        "colab": {
          "base_uri": "https://localhost:8080/"
        },
        "outputId": "34a6b48c-9e18-4636-dace-06f0fb00459c"
      },
      "execution_count": null,
      "outputs": [
        {
          "output_type": "execute_result",
          "data": {
            "text/plain": [
              "tensor([[ 0.2917,  0.0283, -0.3037,  0.1345, -0.2363, -0.0971,  0.2100,  0.1017,\n",
              "          0.1113, -0.3179],\n",
              "        [ 0.2103,  0.0192, -0.2455,  0.1382, -0.1039,  0.0098, -0.0248,  0.1356,\n",
              "          0.0627, -0.1701]], grad_fn=<AddmmBackward0>)"
            ]
          },
          "metadata": {},
          "execution_count": 32
        }
      ]
    },
    {
      "cell_type": "code",
      "source": [
        "X.shape, net(X).shape, net.forward(X).shape"
      ],
      "metadata": {
        "colab": {
          "base_uri": "https://localhost:8080/"
        },
        "id": "wP9PDQxT4Ncx",
        "outputId": "932790f7-8426-4a7c-ada1-e267eea86639"
      },
      "execution_count": null,
      "outputs": [
        {
          "output_type": "execute_result",
          "data": {
            "text/plain": [
              "(torch.Size([2, 20]), torch.Size([2, 10]), torch.Size([2, 10]))"
            ]
          },
          "metadata": {},
          "execution_count": 35
        }
      ]
    },
    {
      "cell_type": "code",
      "source": [
        "# 试一下nnSequential\n",
        "class MySequential(nn.Module):\n",
        "  def __init__(self, *args):\n",
        "    super().__init__()\n",
        "    for block in args: #add layers, as keys\n",
        "      self._modules[str(block)] = block #ordered dict, insert by order\n",
        "\n",
        "  def forward(self, X):\n",
        "    for block in self._modules.values(): #values返回的list跟插入进去返回的顺序一样\n",
        "      X = block(X) #values里面的keys\n",
        "    return X"
      ],
      "metadata": {
        "id": "Um0Q6ELK4ieX"
      },
      "execution_count": null,
      "outputs": []
    },
    {
      "cell_type": "code",
      "source": [
        "net = MySequential(nn.Linear(20,256), nn.ReLU(), nn.Linear(256, 10))"
      ],
      "metadata": {
        "id": "cMJxyvz5HVO5"
      },
      "execution_count": null,
      "outputs": []
    },
    {
      "cell_type": "code",
      "source": [
        "print(net.forward(X))"
      ],
      "metadata": {
        "colab": {
          "base_uri": "https://localhost:8080/"
        },
        "id": "cx9itYUgHnBv",
        "outputId": "7f9f74e2-729f-4f7a-88cc-5611d151f8ae"
      },
      "execution_count": null,
      "outputs": [
        {
          "output_type": "stream",
          "name": "stdout",
          "text": [
            "tensor([[-0.0211,  0.1789,  0.0505,  0.2012,  0.0369,  0.1904,  0.0514, -0.0115,\n",
            "          0.1747, -0.0095],\n",
            "        [-0.0809,  0.0909,  0.1927,  0.0850, -0.2080,  0.1496,  0.0335, -0.0416,\n",
            "          0.2090, -0.0328]], grad_fn=<AddmmBackward0>)\n"
          ]
        }
      ]
    },
    {
      "cell_type": "code",
      "source": [
        "net = MySequential(nn.Linear(20,256), nn.ReLU(), nn.Linear(256, 10))\n",
        "net(X)"
      ],
      "metadata": {
        "id": "yepkN8CtM9rg",
        "colab": {
          "base_uri": "https://localhost:8080/"
        },
        "outputId": "69bcacc6-d726-4d8d-f4e8-c6a72347b7ce"
      },
      "execution_count": null,
      "outputs": [
        {
          "output_type": "execute_result",
          "data": {
            "text/plain": [
              "tensor([[ 0.0420, -0.0817,  0.0341, -0.0889,  0.1902, -0.1443,  0.0811, -0.0778,\n",
              "          0.0302,  0.2398],\n",
              "        [-0.0157, -0.1873,  0.0423,  0.0459,  0.0532,  0.0789,  0.0298, -0.1673,\n",
              "         -0.1093,  0.1977]], grad_fn=<AddmmBackward0>)"
            ]
          },
          "metadata": {},
          "execution_count": 42
        }
      ]
    },
    {
      "cell_type": "code",
      "source": [
        "# 展示一下我们可以在init和forward函数中可以多么爽地自定义（瞎搞）\n",
        "class FixedHiddenMLP(nn.Module):\n",
        "  def __init__(self): # review: self is a instance,可以直接用类调用，也可以创建实例再调用\n",
        "    super().__init__()\n",
        "    self.rand_weight = torch.rand((20,20), requires_grad = False) #不需要weight的梯度\n",
        "    self.linear = nn.Linear(20,20)\n",
        "\n",
        "  def forward(self, X):\n",
        "    X = self.linear(X)\n",
        "    X = F.relu(torch.mm(X, self.rand_weight) + 1)\n",
        "    X = self.linear(X)\n",
        "    while X.abs().sum()>1:\n",
        "      return X.sum()"
      ],
      "metadata": {
        "id": "U4WQG4NZBILP"
      },
      "execution_count": null,
      "outputs": []
    },
    {
      "cell_type": "code",
      "source": [
        "net = FixedHiddenMLP()\n",
        "net(X)"
      ],
      "metadata": {
        "colab": {
          "base_uri": "https://localhost:8080/"
        },
        "id": "Wdg---gi8jtr",
        "outputId": "463e9371-48a6-446c-ec56-06c3b06713ba"
      },
      "execution_count": null,
      "outputs": [
        {
          "output_type": "execute_result",
          "data": {
            "text/plain": [
              "tensor(-0.5235, grad_fn=<SumBackward0>)"
            ]
          },
          "metadata": {},
          "execution_count": 6
        }
      ]
    },
    {
      "cell_type": "code",
      "source": [
        "#嵌套玩法\n",
        "class NestMLP(nn.Module):\n",
        "  def __init__(self):\n",
        "    super().__init__()\n",
        "    # sequential也是Module的一个subclass\n",
        "    self.net = nn.Sequential(nn.Linear(20,64), nn.ReLU(),\n",
        "                             nn.Linear(64,32), nn.ReLU())\n",
        "    self.linear = nn.Linear(32,16)\n",
        "\n",
        "  def forward(self, X):\n",
        "    return self.linear(self.net(X))"
      ],
      "metadata": {
        "id": "8AicozH60DOE"
      },
      "execution_count": null,
      "outputs": []
    },
    {
      "cell_type": "code",
      "source": [
        "chimera = nn.Sequential(NestMLP(), nn.Linear(16,20), FixedHiddenMLP())\n",
        "chimera(X)"
      ],
      "metadata": {
        "colab": {
          "base_uri": "https://localhost:8080/"
        },
        "id": "F9dk137I087v",
        "outputId": "f242af81-4010-4f54-af75-927d6d5a78ff"
      },
      "execution_count": null,
      "outputs": [
        {
          "output_type": "execute_result",
          "data": {
            "text/plain": [
              "tensor(-3.2638, grad_fn=<SumBackward0>)"
            ]
          },
          "metadata": {},
          "execution_count": 9
        }
      ]
    },
    {
      "cell_type": "markdown",
      "source": [
        "## **Visiting Parameters**"
      ],
      "metadata": {
        "id": "E1mBZqcc1ljt"
      }
    },
    {
      "cell_type": "code",
      "source": [
        "import torch\n",
        "from torch import nn\n",
        "from torch.nn import functional as F #\n",
        "\n",
        "# Simple single NN\n",
        "net = nn.Sequential(nn.Linear(4,8), nn.ReLU(), nn.Linear(8, 1))\n",
        "\n",
        "X = torch.rand(size = (2,4))\n",
        "net(X)"
      ],
      "metadata": {
        "colab": {
          "base_uri": "https://localhost:8080/"
        },
        "id": "2Df1eGGb1UAO",
        "outputId": "02712ede-d494-42f6-9db1-0706696a5a7c"
      },
      "execution_count": null,
      "outputs": [
        {
          "output_type": "execute_result",
          "data": {
            "text/plain": [
              "tensor([[-0.2717],\n",
              "        [-0.2763]], grad_fn=<AddmmBackward0>)"
            ]
          },
          "metadata": {},
          "execution_count": 10
        }
      ]
    },
    {
      "cell_type": "code",
      "source": [
        "# test nn.Linear(8, 1)\n",
        "print(net[2].state_dict()) #_module, list"
      ],
      "metadata": {
        "colab": {
          "base_uri": "https://localhost:8080/"
        },
        "id": "ChqLrFP112i-",
        "outputId": "7e82d3e1-9188-42d6-d379-f6fdc6d4a99a"
      },
      "execution_count": null,
      "outputs": [
        {
          "output_type": "stream",
          "name": "stdout",
          "text": [
            "OrderedDict([('weight', tensor([[-0.1128, -0.3085, -0.1111,  0.0242,  0.1859, -0.1935, -0.0376, -0.2188]])), ('bias', tensor([-0.0815]))])\n"
          ]
        }
      ]
    },
    {
      "cell_type": "code",
      "source": [
        "# Directly vist\n",
        "print(type(net[2].bias))\n",
        "print(net[2].bias)\n",
        "print(net[2].bias.data) #data是本身，用data是因为还可以访问梯度"
      ],
      "metadata": {
        "colab": {
          "base_uri": "https://localhost:8080/"
        },
        "id": "nSwy1eiv2e08",
        "outputId": "f5cd1339-b1aa-4030-b25b-6d65f90d5c4f"
      },
      "execution_count": null,
      "outputs": [
        {
          "output_type": "stream",
          "name": "stdout",
          "text": [
            "<class 'torch.nn.parameter.Parameter'>\n",
            "Parameter containing:\n",
            "tensor([-0.0815], requires_grad=True)\n",
            "tensor([-0.0815])\n"
          ]
        }
      ]
    },
    {
      "cell_type": "code",
      "source": [
        "net[2].weight.grad == None"
      ],
      "metadata": {
        "colab": {
          "base_uri": "https://localhost:8080/"
        },
        "id": "G__jk1GP2zjb",
        "outputId": "1616e466-5b58-4e60-a6d3-c7e8e5186583"
      },
      "execution_count": null,
      "outputs": [
        {
          "output_type": "execute_result",
          "data": {
            "text/plain": [
              "True"
            ]
          },
          "metadata": {},
          "execution_count": 14
        }
      ]
    },
    {
      "cell_type": "markdown",
      "source": [
        "**Visiting total parameters**"
      ],
      "metadata": {
        "id": "NyGuSdWs3Pjx"
      }
    },
    {
      "cell_type": "code",
      "source": [
        "print(*[(name, param.shape) for name, param in net[0].named_parameters()])\n",
        "print(*[(name, param.shape) for name, param in net.named_parameters()])   #ReLU:no parameters"
      ],
      "metadata": {
        "colab": {
          "base_uri": "https://localhost:8080/"
        },
        "id": "aAqMsOpZ2_2i",
        "outputId": "7bf9b138-ab8d-428b-c4d9-1b3b9fac36e8"
      },
      "execution_count": null,
      "outputs": [
        {
          "output_type": "stream",
          "name": "stdout",
          "text": [
            "('weight', torch.Size([8, 4])) ('bias', torch.Size([8]))\n",
            "('0.weight', torch.Size([8, 4])) ('0.bias', torch.Size([8])) ('2.weight', torch.Size([1, 8])) ('2.bias', torch.Size([1]))\n"
          ]
        }
      ]
    },
    {
      "cell_type": "markdown",
      "source": [
        "***Remark:**\n",
        "\n",
        "my_function(*[1, 2, 3]) == my_function(1, 2, 3)"
      ],
      "metadata": {
        "id": "uca1tr5X6mzi"
      }
    },
    {
      "cell_type": "code",
      "source": [
        "net.state_dict()['2.bias'].data #从list里面拿最后一层的bias的data"
      ],
      "metadata": {
        "colab": {
          "base_uri": "https://localhost:8080/"
        },
        "id": "Li_9AcFi7dm6",
        "outputId": "1c215921-2a4f-4367-99bf-0bb3ac7baa4d"
      },
      "execution_count": null,
      "outputs": [
        {
          "output_type": "execute_result",
          "data": {
            "text/plain": [
              "tensor([-0.0815])"
            ]
          },
          "metadata": {},
          "execution_count": 16
        }
      ]
    },
    {
      "cell_type": "code",
      "source": [
        "#从嵌套块收集params\n",
        "def block1():\n",
        "    return nn.Sequential(nn.Linear(4, 8), nn.ReLU(),\n",
        "                         nn.Linear(8, 4), nn.ReLU())\n",
        "\n",
        "# block2 嵌套4个block1\n",
        "def block2():\n",
        "  net = nn.Sequential()\n",
        "  for i in range(4):\n",
        "    net.add_module(f'block{i}', block1())\n",
        "  return net"
      ],
      "metadata": {
        "id": "VMRVUaEm7mHW"
      },
      "execution_count": null,
      "outputs": []
    },
    {
      "cell_type": "code",
      "source": [
        "rgnet = nn.Sequential(block2(), nn.Linear(4,1))\n",
        "rgnet(X)"
      ],
      "metadata": {
        "colab": {
          "base_uri": "https://localhost:8080/"
        },
        "id": "gyNqTiDC9iLP",
        "outputId": "8b94596f-64ff-435e-8b83-df60804fef78"
      },
      "execution_count": null,
      "outputs": [
        {
          "output_type": "execute_result",
          "data": {
            "text/plain": [
              "tensor([[0.0024],\n",
              "        [0.0024]], grad_fn=<AddmmBackward0>)"
            ]
          },
          "metadata": {},
          "execution_count": 18
        }
      ]
    },
    {
      "cell_type": "code",
      "source": [
        "print(rgnet) #see the net"
      ],
      "metadata": {
        "colab": {
          "base_uri": "https://localhost:8080/"
        },
        "id": "xWKrnNQF910a",
        "outputId": "507443c4-2b41-4e0b-d688-4a48d4b5e172"
      },
      "execution_count": null,
      "outputs": [
        {
          "output_type": "stream",
          "name": "stdout",
          "text": [
            "Sequential(\n",
            "  (0): Sequential(\n",
            "    (block0): Sequential(\n",
            "      (0): Linear(in_features=4, out_features=8, bias=True)\n",
            "      (1): ReLU()\n",
            "      (2): Linear(in_features=8, out_features=4, bias=True)\n",
            "      (3): ReLU()\n",
            "    )\n",
            "    (block1): Sequential(\n",
            "      (0): Linear(in_features=4, out_features=8, bias=True)\n",
            "      (1): ReLU()\n",
            "      (2): Linear(in_features=8, out_features=4, bias=True)\n",
            "      (3): ReLU()\n",
            "    )\n",
            "    (block2): Sequential(\n",
            "      (0): Linear(in_features=4, out_features=8, bias=True)\n",
            "      (1): ReLU()\n",
            "      (2): Linear(in_features=8, out_features=4, bias=True)\n",
            "      (3): ReLU()\n",
            "    )\n",
            "    (block3): Sequential(\n",
            "      (0): Linear(in_features=4, out_features=8, bias=True)\n",
            "      (1): ReLU()\n",
            "      (2): Linear(in_features=8, out_features=4, bias=True)\n",
            "      (3): ReLU()\n",
            "    )\n",
            "  )\n",
            "  (1): Linear(in_features=4, out_features=1, bias=True)\n",
            ")\n"
          ]
        }
      ]
    },
    {
      "cell_type": "code",
      "source": [
        "# init params\n",
        "def init_normal(m):\n",
        "  if type(m) == nn.Linear:\n",
        "    nn.init.normal_(m.weight, mean = 0, std = 0.01)\n",
        "    nn.init.zeros_(m.bias)"
      ],
      "metadata": {
        "id": "fjV7NZHu96DH"
      },
      "execution_count": null,
      "outputs": []
    },
    {
      "cell_type": "code",
      "source": [
        "# apply(fn): 将一个函数fn递归地应用到模块自身以及该模块的每一个子模块(即在函数.children()中返回的子模块)\n",
        "net.apply(init_normal) #For all layers in net, for all modules in layers, implement init_normal\n",
        "net[0].weight.data[0], net[0].bias.data[0]\n"
      ],
      "metadata": {
        "colab": {
          "base_uri": "https://localhost:8080/"
        },
        "id": "-5F7jOXq_i6n",
        "outputId": "81a3f496-62d4-4f09-a90e-4822b9951fb6"
      },
      "execution_count": null,
      "outputs": [
        {
          "output_type": "execute_result",
          "data": {
            "text/plain": [
              "(tensor([-0.0009,  0.0118,  0.0016,  0.0097]), tensor(0.))"
            ]
          },
          "metadata": {},
          "execution_count": 21
        }
      ]
    },
    {
      "cell_type": "code",
      "source": [
        "def init_constant(m):\n",
        "    if type(m) == nn.Linear:\n",
        "        nn.init.constant_(m.weight, 1)\n",
        "        nn.init.zeros_(m.bias)"
      ],
      "metadata": {
        "colab": {
          "base_uri": "https://localhost:8080/"
        },
        "id": "p7V87dlOAV8m",
        "outputId": "75ee496e-55bb-44f9-c429-2805cc3ecc17"
      },
      "execution_count": null,
      "outputs": [
        {
          "output_type": "execute_result",
          "data": {
            "text/plain": [
              "(tensor([1., 1., 1., 1.]), tensor(0.))"
            ]
          },
          "metadata": {},
          "execution_count": 22
        }
      ]
    },
    {
      "cell_type": "code",
      "source": [
        "net.apply(init_constant)\n",
        "net[0].weight.data[0], net[0].bias.data[0] # API角度可玩，algorithm角度不要，weight全常数梯度会同"
      ],
      "metadata": {
        "colab": {
          "base_uri": "https://localhost:8080/"
        },
        "id": "CAqdluZHAX7v",
        "outputId": "db82388c-8bf5-4f78-887f-f69fa871056a"
      },
      "execution_count": null,
      "outputs": [
        {
          "output_type": "execute_result",
          "data": {
            "text/plain": [
              "(tensor([1., 1., 1., 1.]), tensor(0.))"
            ]
          },
          "metadata": {},
          "execution_count": 25
        }
      ]
    },
    {
      "cell_type": "code",
      "source": [
        "def init_xavier(m):\n",
        "    if type(m) == nn.Linear:\n",
        "        nn.init.xavier_uniform_(m.weight)#xavier初始化在梯度爆炸那一章提到过～\n",
        "def init_42(m):\n",
        "    if type(m) == nn.Linear:\n",
        "        nn.init.constant_(m.weight, 42) #宇宙无敌42hhh\n"
      ],
      "metadata": {
        "id": "Y9zmG_kbAeKo"
      },
      "execution_count": null,
      "outputs": []
    },
    {
      "cell_type": "code",
      "source": [
        "net[0].apply(init_xavier)\n",
        "net[2].apply(init_42)\n",
        "print(net[0].weight.data[0])\n",
        "print(net[2].weight.data)"
      ],
      "metadata": {
        "colab": {
          "base_uri": "https://localhost:8080/"
        },
        "id": "sYbZKzToBYrx",
        "outputId": "6f7bca7a-3db2-4b90-83f7-45f94752efb8"
      },
      "execution_count": null,
      "outputs": [
        {
          "output_type": "stream",
          "name": "stdout",
          "text": [
            "tensor([0.4043, 0.3027, 0.5847, 0.0599])\n",
            "tensor([[42., 42., 42., 42., 42., 42., 42., 42.]])\n"
          ]
        }
      ]
    },
    {
      "cell_type": "code",
      "source": [
        "#如何深度自定义（瞎搞）\n",
        "def my_init(m):\n",
        "    if type(m) == nn.Linear:\n",
        "        print(\"Init\", *[(name, param.shape)\n",
        "                        for name, param in m.named_parameters()][0])\n",
        "        # if *[(a) for b in c()]后面没有[0]，结果是param+bias\n",
        "        nn.init.uniform_(m.weight, -10, 10)\n",
        "        # abs >= 5, return 1 ->  *1, no change\n",
        "        m.weight.data *= m.weight.data.abs() >= 5\n"
      ],
      "metadata": {
        "id": "SktqMG_8BlQJ"
      },
      "execution_count": null,
      "outputs": []
    },
    {
      "cell_type": "markdown",
      "source": [
        "$$\n",
        " w \\sim \\begin{cases}\n",
        "U(5,10) & \\text{p=}\\frac{1}{4}\\\\\n",
        "0 & \\text{p=}\\frac{1}{2}\\\\\n",
        "U(-10,-5) & \\text{p=}\\frac{1}{4}\n",
        "\\end{cases}\n",
        "$$"
      ],
      "metadata": {
        "id": "AVtfOro8BzfQ"
      }
    },
    {
      "cell_type": "code",
      "source": [
        "net.apply(my_init)\n",
        "net[0].weight[:2]"
      ],
      "metadata": {
        "colab": {
          "base_uri": "https://localhost:8080/"
        },
        "id": "E1z0CwH9BxW3",
        "outputId": "90202262-2831-45aa-ce7a-c9fd71ec11c9"
      },
      "execution_count": null,
      "outputs": [
        {
          "output_type": "stream",
          "name": "stdout",
          "text": [
            "Init weight torch.Size([8, 4])\n",
            "Init weight torch.Size([1, 8])\n"
          ]
        },
        {
          "output_type": "execute_result",
          "data": {
            "text/plain": [
              "tensor([[ 0.0000, -8.0547, -5.9356,  0.0000],\n",
              "        [ 5.8289,  9.4558, -0.0000, -6.3151]], grad_fn=<SliceBackward0>)"
            ]
          },
          "metadata": {},
          "execution_count": 31
        }
      ]
    },
    {
      "cell_type": "code",
      "source": [
        "#暴力法\n",
        "net[0].weight.data[:] += 1\n",
        "net[0].weight.data[0, 0] = 42\n",
        "net[0].weight.data[0]"
      ],
      "metadata": {
        "colab": {
          "base_uri": "https://localhost:8080/"
        },
        "id": "JJ92IPApB76x",
        "outputId": "adf9b5ae-1389-48ed-ae7f-a9f870595c96"
      },
      "execution_count": null,
      "outputs": [
        {
          "output_type": "execute_result",
          "data": {
            "text/plain": [
              "tensor([42.0000, -6.0547, -3.9356,  2.0000])"
            ]
          },
          "metadata": {},
          "execution_count": 33
        }
      ]
    },
    {
      "cell_type": "markdown",
      "source": [
        "**Share params**"
      ],
      "metadata": {
        "id": "EpPjkOtaCwWR"
      }
    },
    {
      "cell_type": "code",
      "source": [
        "shared = nn.Linear(8,8)\n",
        "net = nn.Sequential(nn.Linear(4, 8), nn.ReLU(),\n",
        "                    shared, nn.ReLU(),\n",
        "                    shared, nn.ReLU(),\n",
        "                    nn.Linear(8, 1))"
      ],
      "metadata": {
        "id": "ExMJ1YDTB-lJ"
      },
      "execution_count": null,
      "outputs": []
    },
    {
      "cell_type": "markdown",
      "source": [
        "可以把shared想成是一个global variant？用同一个内存"
      ],
      "metadata": {
        "id": "ZUTiDs0nFwlZ"
      }
    },
    {
      "cell_type": "code",
      "source": [
        "net(X)\n",
        "# 检查参数是否相同\n",
        "print(net[2].weight.data[0] == net[4].weight.data[0])\n",
        "net[2].weight.data[0, 0] = 100\n",
        "# 确保它们实际上是同一个对象，而不只是有相同的值\n",
        "print(net[2].weight.data[0] == net[4].weight.data[0])"
      ],
      "metadata": {
        "colab": {
          "base_uri": "https://localhost:8080/"
        },
        "id": "poN6oanpDDso",
        "outputId": "ee87c122-6515-4cfb-c527-8679df715a8f"
      },
      "execution_count": null,
      "outputs": [
        {
          "output_type": "stream",
          "name": "stdout",
          "text": [
            "tensor([True, True, True, True, True, True, True, True])\n",
            "tensor([True, True, True, True, True, True, True, True])\n"
          ]
        }
      ]
    },
    {
      "cell_type": "markdown",
      "source": [
        "## **自定义层**"
      ],
      "metadata": {
        "id": "_TjCUwD5GFrW"
      }
    },
    {
      "cell_type": "markdown",
      "source": [
        "layer也是`nn.Module`的subset"
      ],
      "metadata": {
        "id": "qxS9BzElGKCv"
      }
    },
    {
      "cell_type": "code",
      "source": [
        "import torch\n",
        "import torch.nn.functional as F\n",
        "from torch import nn"
      ],
      "metadata": {
        "id": "_q0aj5QwF4_t"
      },
      "execution_count": null,
      "outputs": []
    },
    {
      "cell_type": "code",
      "source": [
        "class CeneredLayer(nn.Module):\n",
        "  def __init__(self):\n",
        "     super().__init__()\n",
        "\n",
        "  def forward(self, X):\n",
        "    return X-X.mean()"
      ],
      "metadata": {
        "id": "_EXHFv3BGTyo"
      },
      "execution_count": null,
      "outputs": []
    },
    {
      "cell_type": "code",
      "source": [
        "layer = CeneredLayer()\n",
        "layer(torch.FloatTensor([1,2,3,4,5]))"
      ],
      "metadata": {
        "colab": {
          "base_uri": "https://localhost:8080/"
        },
        "id": "KN7_F1CmHLN2",
        "outputId": "7cacc4c3-c52e-41a3-ca91-871ca9f3ba9c"
      },
      "execution_count": null,
      "outputs": [
        {
          "output_type": "execute_result",
          "data": {
            "text/plain": [
              "tensor([-2., -1.,  0.,  1.,  2.])"
            ]
          },
          "metadata": {},
          "execution_count": 39
        }
      ]
    },
    {
      "cell_type": "code",
      "source": [
        "# 自定义的层，和其他内置的一起玩\n",
        "net = nn.Sequential(nn.Linear(8,128), CeneredLayer())\n",
        "\n",
        "Y = net(torch.rand(4,8))\n",
        "Y.mean()"
      ],
      "metadata": {
        "colab": {
          "base_uri": "https://localhost:8080/"
        },
        "id": "tKHmIlrlHVij",
        "outputId": "a9ffba68-d835-4db4-9d91-989fea73b869"
      },
      "execution_count": null,
      "outputs": [
        {
          "output_type": "execute_result",
          "data": {
            "text/plain": [
              "tensor(-2.7940e-09, grad_fn=<MeanBackward0>)"
            ]
          },
          "metadata": {},
          "execution_count": 40
        }
      ]
    },
    {
      "cell_type": "code",
      "source": [],
      "metadata": {
        "id": "fR4uMPSiHo4R"
      },
      "execution_count": null,
      "outputs": []
    }
  ]
}