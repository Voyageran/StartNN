{
  "nbformat": 4,
  "nbformat_minor": 0,
  "metadata": {
    "colab": {
      "provenance": [],
      "authorship_tag": "ABX9TyMBeK8hvczvMy6EX5wWfKwT",
      "include_colab_link": true
    },
    "kernelspec": {
      "name": "python3",
      "display_name": "Python 3"
    },
    "language_info": {
      "name": "python"
    }
  },
  "cells": [
    {
      "cell_type": "markdown",
      "metadata": {
        "id": "view-in-github",
        "colab_type": "text"
      },
      "source": [
        "<a href=\"https://colab.research.google.com/github/Voyageran/StartNN/blob/main/h5file.ipynb\" target=\"_parent\"><img src=\"https://colab.research.google.com/assets/colab-badge.svg\" alt=\"Open In Colab\"/></a>"
      ]
    },
    {
      "cell_type": "markdown",
      "source": [
        "Hierarchical Data Format (HDF5)\n",
        "\n",
        "- Datasets\n",
        "- groups"
      ],
      "metadata": {
        "id": "vhsoqOTvpq7P"
      }
    },
    {
      "cell_type": "markdown",
      "source": [
        "**Images to h5 file**"
      ],
      "metadata": {
        "id": "J_YySZPWp12f"
      }
    },
    {
      "cell_type": "code",
      "execution_count": 1,
      "metadata": {
        "id": "6HPoJYO4pnw-"
      },
      "outputs": [],
      "source": [
        "from PIL import Image\n",
        "import os"
      ]
    },
    {
      "cell_type": "code",
      "source": [
        "def get_smaller(path_in, name, path = None, width=64, length=64):\n",
        "  \"\"\" Check whether the file is founded, and found the folder\"\"\"\n",
        "  if path == None:\n",
        "    tar = os.path.exists(os.getcwd()+ \"/\" + name)\n",
        "    if not tar:\n",
        "      os.mkdir(os.getcwd() + \"/\" + name)\n",
        "    im_path = os.getcwd() + \"/\" + name + \"/\"\n",
        "  else:\n",
        "    tar = os.path.exists(path + \"/\" + name)\n",
        "    if not tar:\n",
        "      os.mkdir(path + \"/\" + name)\n",
        "    im_path = path + \"/\" + name + \"/\"\n",
        "\n",
        "  i = 1\n",
        "  list_image = os.listdir(path_in)\n",
        "  for item in list_image:\n",
        "    \"\"\" Check whether exists pictures \"\"\"\n",
        "    tar = os.path.exists(im_path + str(i)+'.jpg') #Remember that pics named 'x.jpg'\n",
        "    if not tar:\n",
        "      image = Image.open(path_in + \"/\" + item)\n",
        "      smaller = image.resize((width, length), Image.ANTIALIAS)\n",
        "      if not smaller.mode == 'RGB': # Use RGB images\n",
        "        smaller = smaller.convert('RGB')\n",
        "      smaller.save(im_path + str(i) + '.jpg')\n",
        "    i += 1"
      ],
      "metadata": {
        "id": "HSeeSQkIp9Oh"
      },
      "execution_count": 6,
      "outputs": []
    },
    {
      "cell_type": "code",
      "source": [
        "# get_smaller('')"
      ],
      "metadata": {
        "id": "hgZU3Dl9W8DA"
      },
      "execution_count": null,
      "outputs": []
    },
    {
      "cell_type": "code",
      "source": [],
      "metadata": {
        "id": "1H591qp-W2q_"
      },
      "execution_count": null,
      "outputs": []
    },
    {
      "cell_type": "code",
      "source": [],
      "metadata": {
        "colab": {
          "base_uri": "https://localhost:8080/"
        },
        "id": "L6SgcOJgIZYR",
        "outputId": "fe4bcf66-671d-4b04-d193-e04a2683b19c"
      },
      "execution_count": 2,
      "outputs": [
        {
          "output_type": "execute_result",
          "data": {
            "text/plain": [
              "['.config', 'sample_data']"
            ]
          },
          "metadata": {},
          "execution_count": 2
        }
      ]
    },
    {
      "cell_type": "markdown",
      "source": [
        "**h5 files to images**"
      ],
      "metadata": {
        "id": "IvzvtXd4XNUp"
      }
    },
    {
      "cell_type": "code",
      "source": [
        "# !pip install h5py\n",
        "!pip install pillow\n",
        "!pip install scipy\n",
        "!pip install keras"
      ],
      "metadata": {
        "colab": {
          "base_uri": "https://localhost:8080/"
        },
        "id": "nk3bN4tJXY6V",
        "outputId": "97ede316-e638-410f-ed61-7e0d07d538ae"
      },
      "execution_count": 16,
      "outputs": [
        {
          "output_type": "stream",
          "name": "stdout",
          "text": [
            "Requirement already satisfied: pillow in /usr/local/lib/python3.10/dist-packages (9.4.0)\n",
            "Requirement already satisfied: scipy in /usr/local/lib/python3.10/dist-packages (1.10.1)\n",
            "Requirement already satisfied: numpy<1.27.0,>=1.19.5 in /usr/local/lib/python3.10/dist-packages (from scipy) (1.22.4)\n",
            "Requirement already satisfied: keras in /usr/local/lib/python3.10/dist-packages (2.12.0)\n"
          ]
        }
      ]
    },
    {
      "cell_type": "code",
      "source": [
        "import cv2\n",
        "import h5py\n",
        "import numpy as np\n",
        "from keras.preprocessing.image import save_img\n",
        "from skimage import transform"
      ],
      "metadata": {
        "colab": {
          "base_uri": "https://localhost:8080/",
          "height": 476
        },
        "id": "qYuCcI-MXTm-",
        "outputId": "e7173ef6-416d-40a9-8392-f34bd5056467"
      },
      "execution_count": 15,
      "outputs": [
        {
          "output_type": "error",
          "ename": "ImportError",
          "evalue": "ignored",
          "traceback": [
            "\u001b[0;31m---------------------------------------------------------------------------\u001b[0m",
            "\u001b[0;31mImportError\u001b[0m                               Traceback (most recent call last)",
            "\u001b[0;32m<ipython-input-15-0f4876a3edae>\u001b[0m in \u001b[0;36m<cell line: 4>\u001b[0;34m()\u001b[0m\n\u001b[1;32m      2\u001b[0m \u001b[0;32mimport\u001b[0m \u001b[0mh5py\u001b[0m\u001b[0;34m\u001b[0m\u001b[0;34m\u001b[0m\u001b[0m\n\u001b[1;32m      3\u001b[0m \u001b[0;32mimport\u001b[0m \u001b[0mnumpy\u001b[0m \u001b[0;32mas\u001b[0m \u001b[0mnp\u001b[0m\u001b[0;34m\u001b[0m\u001b[0;34m\u001b[0m\u001b[0m\n\u001b[0;32m----> 4\u001b[0;31m \u001b[0;32mfrom\u001b[0m \u001b[0mkeras\u001b[0m\u001b[0;34m.\u001b[0m\u001b[0mpreprocessing\u001b[0m\u001b[0;34m.\u001b[0m\u001b[0mimage\u001b[0m \u001b[0;32mimport\u001b[0m \u001b[0msave_img\u001b[0m\u001b[0;34m\u001b[0m\u001b[0;34m\u001b[0m\u001b[0m\n\u001b[0m\u001b[1;32m      5\u001b[0m \u001b[0;32mfrom\u001b[0m \u001b[0mskimage\u001b[0m \u001b[0;32mimport\u001b[0m \u001b[0mtransform\u001b[0m\u001b[0;34m\u001b[0m\u001b[0;34m\u001b[0m\u001b[0m\n",
            "\u001b[0;31mImportError\u001b[0m: cannot import name 'save_img' from 'keras.preprocessing.image' (/usr/local/lib/python3.10/dist-packages/keras/preprocessing/image.py)",
            "",
            "\u001b[0;31m---------------------------------------------------------------------------\u001b[0;32m\nNOTE: If your import is failing due to a missing package, you can\nmanually install dependencies using either !pip or !apt.\n\nTo view examples of installing some common dependencies, click the\n\"Open Examples\" button below.\n\u001b[0;31m---------------------------------------------------------------------------\u001b[0m\n"
          ],
          "errorDetails": {
            "actions": [
              {
                "action": "open_url",
                "actionText": "Open Examples",
                "url": "/notebooks/snippets/importing_libraries.ipynb"
              }
            ]
          }
        }
      ]
    },
    {
      "cell_type": "code",
      "source": [],
      "metadata": {
        "id": "ntmzt71MXXZP"
      },
      "execution_count": null,
      "outputs": []
    }
  ]
}